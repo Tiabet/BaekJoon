{
 "cells": [
  {
   "cell_type": "code",
   "execution_count": 37,
   "id": "7c1bce30-acd6-4e13-a0cb-29e9976bbf4d",
   "metadata": {},
   "outputs": [
    {
     "name": "stdin",
     "output_type": "stream",
     "text": [
      " 999\n"
     ]
    }
   ],
   "source": [
    "n = int(input())"
   ]
  },
  {
   "cell_type": "code",
   "execution_count": 38,
   "id": "9f29892f-eacf-4313-9d94-f4c4388aeae1",
   "metadata": {},
   "outputs": [],
   "source": [
    "dic = {'0' : 0, '1' : 0, '2' : 0, '3':0, '4':0, '5':0, '6':0, '7':0, '8':0, '9':0}"
   ]
  },
  {
   "cell_type": "code",
   "execution_count": 39,
   "id": "fcf811cd-9894-4f60-a25b-3a24253ad1c4",
   "metadata": {},
   "outputs": [],
   "source": [
    "for i in range(1,n+1):\n",
    "    for j in range(len(str(i))):\n",
    "        dic[str(i)[j]] +=1"
   ]
  },
  {
   "cell_type": "code",
   "execution_count": 52,
   "id": "9b23966b-2b66-4c61-b96d-9e0bda7d9d6f",
   "metadata": {},
   "outputs": [
    {
     "name": "stdout",
     "output_type": "stream",
     "text": [
      "189 300 300 300 300 300 300 300 300 300 "
     ]
    }
   ],
   "source": [
    "for i in range(10):\n",
    "    print(dic[str(i)], end = ' ')"
   ]
  },
  {
   "cell_type": "code",
   "execution_count": 27,
   "id": "8c25e603-cdc1-4fd2-a256-2a6a85d02aa1",
   "metadata": {},
   "outputs": [
    {
     "data": {
      "text/plain": [
       "'1'"
      ]
     },
     "execution_count": 27,
     "metadata": {},
     "output_type": "execute_result"
    }
   ],
   "source": [
    "str(1234)[0]"
   ]
  },
  {
   "cell_type": "code",
   "execution_count": 31,
   "id": "9d63e474-5e85-4064-850e-0746509854f4",
   "metadata": {},
   "outputs": [],
   "source": [
    "dic[str(1234)[0]]+=1"
   ]
  },
  {
   "cell_type": "code",
   "execution_count": 35,
   "id": "566dcac7-a863-445e-93e8-6e87a249283c",
   "metadata": {},
   "outputs": [
    {
     "data": {
      "text/plain": [
       "{'0': 1,\n",
       " '1': 4,\n",
       " '2': 1,\n",
       " '3': 1,\n",
       " '4': 1,\n",
       " '5': 1,\n",
       " '6': 1,\n",
       " '7': 1,\n",
       " '8': 1,\n",
       " '9': 1}"
      ]
     },
     "execution_count": 35,
     "metadata": {},
     "output_type": "execute_result"
    }
   ],
   "source": [
    "dic"
   ]
  },
  {
   "cell_type": "code",
   "execution_count": null,
   "id": "c9152f09-5020-4bec-a6ef-6447bf4665ec",
   "metadata": {},
   "outputs": [],
   "source": []
  }
 ],
 "metadata": {
  "kernelspec": {
   "display_name": "Python 3 (ipykernel)",
   "language": "python",
   "name": "python3"
  },
  "language_info": {
   "codemirror_mode": {
    "name": "ipython",
    "version": 3
   },
   "file_extension": ".py",
   "mimetype": "text/x-python",
   "name": "python",
   "nbconvert_exporter": "python",
   "pygments_lexer": "ipython3",
   "version": "3.9.13"
  }
 },
 "nbformat": 4,
 "nbformat_minor": 5
}
