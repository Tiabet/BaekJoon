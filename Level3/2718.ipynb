{
 "cells": [
  {
   "cell_type": "code",
   "execution_count": 1,
   "id": "1903a435-5bb4-4301-a104-47e7f03507b5",
   "metadata": {},
   "outputs": [
    {
     "name": "stdin",
     "output_type": "stream",
     "text": [
      " 4 6\n"
     ]
    }
   ],
   "source": [
    "n, m = map(int, input().split())"
   ]
  },
  {
   "cell_type": "code",
   "execution_count": 3,
   "id": "1f9e9c6f-237b-4b63-9d5e-7ff2f0fae163",
   "metadata": {},
   "outputs": [
    {
     "name": "stdin",
     "output_type": "stream",
     "text": [
      " 101111\n",
      " 101010\n",
      " 101011\n",
      " 111011\n"
     ]
    }
   ],
   "source": [
    "graph = []\n",
    "for _ in range(n):\n",
    "    str_ = input()\n",
    "    tmp = [int(str_[x]) for x in range(len(str_))]\n",
    "    graph.append(tmp)"
   ]
  },
  {
   "cell_type": "code",
   "execution_count": 5,
   "id": "3ffa0a59-e9bc-474b-b265-cf1460c3e00a",
   "metadata": {},
   "outputs": [],
   "source": [
    "dxs = [1,-1,0,0]\n",
    "dys = [0,0,1,-1]"
   ]
  },
  {
   "cell_type": "code",
   "execution_count": 19,
   "id": "070f4ec5-7020-4d67-98fe-6b19f0800c87",
   "metadata": {},
   "outputs": [],
   "source": [
    "def in_range(x,y, visited):\n",
    "    if 0<=x<n and 0<=y<m and graph[x][y] == 1 and visited[x][y] == 0:\n",
    "        return True\n",
    "    else :\n",
    "        return False"
   ]
  },
  {
   "cell_type": "code",
   "execution_count": 24,
   "id": "7ee5fa60-747a-42e5-9d78-9973e4266614",
   "metadata": {},
   "outputs": [],
   "source": [
    "def bfs(x,y):\n",
    "    \n",
    "    dxs = [1,-1,0,0]\n",
    "    dys = [0,0,1,-1]\n",
    "    \n",
    "    visited = [[0 for _ in range(m)] for _ in range(n)]\n",
    "    \n",
    "    visited[x][y] = 1\n",
    "    \n",
    "    queue = []\n",
    "    queue.append((x,y))\n",
    "    \n",
    "    \n",
    "    while queue :\n",
    "        now_x,now_y = queue.pop(0)\n",
    "        \n",
    "        for i,j in zip(dxs,dys):\n",
    "            new_x, new_y = now_x + i, now_y + j\n",
    "            if in_range(new_x,new_y,visited) :\n",
    "                visited[new_x][new_y] = visited[now_x][now_y] + 1\n",
    "                queue.append((new_x,new_y))\n",
    "                \n",
    "                \n",
    "    print(visited[n-1][m-1])\n",
    "            "
   ]
  },
  {
   "cell_type": "code",
   "execution_count": 25,
   "id": "24a6e294-5a29-4471-b6da-37aa37026706",
   "metadata": {},
   "outputs": [
    {
     "name": "stdout",
     "output_type": "stream",
     "text": [
      "15\n"
     ]
    }
   ],
   "source": [
    "bfs(0,0)"
   ]
  },
  {
   "cell_type": "code",
   "execution_count": null,
   "id": "be0e0332-fd42-4088-b781-7b5ca53db64c",
   "metadata": {},
   "outputs": [],
   "source": []
  }
 ],
 "metadata": {
  "kernelspec": {
   "display_name": "Python 3 (ipykernel)",
   "language": "python",
   "name": "python3"
  },
  "language_info": {
   "codemirror_mode": {
    "name": "ipython",
    "version": 3
   },
   "file_extension": ".py",
   "mimetype": "text/x-python",
   "name": "python",
   "nbconvert_exporter": "python",
   "pygments_lexer": "ipython3",
   "version": "3.9.13"
  }
 },
 "nbformat": 4,
 "nbformat_minor": 5
}
