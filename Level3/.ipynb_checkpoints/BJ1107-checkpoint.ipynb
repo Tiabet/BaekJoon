{
 "cells": [
  {
   "cell_type": "code",
   "execution_count": 6,
   "id": "f1a5bf20-897b-41d1-803a-8e5b5595ff5a",
   "metadata": {},
   "outputs": [
    {
     "name": "stdin",
     "output_type": "stream",
     "text": [
      " 5457\n",
      " 3\n",
      " 6 7 8\n"
     ]
    }
   ],
   "source": [
    "N = int(input())  # 이동하려는 채널\n",
    "M = int(input())  # 고장난 버튼의 개수\n",
    "broken = []\n",
    "if M > 0:\n",
    "    broken = list(map(int, input().split()))  # 고장난 버튼"
   ]
  },
  {
   "cell_type": "code",
   "execution_count": 4,
   "id": "703978a7-ae24-44a5-8bd0-538bca67180d",
   "metadata": {},
   "outputs": [],
   "source": [
    "start = 100\n",
    "count = 0"
   ]
  },
  {
   "cell_type": "code",
   "execution_count": 7,
   "id": "bb7a9466-9b35-41af-8d34-4f4514451e48",
   "metadata": {},
   "outputs": [],
   "source": [
    "def check_possible(channel, broken):\n",
    "    if channel == 0:\n",
    "        if 0 in broken:\n",
    "            return False\n",
    "        else:\n",
    "            return True\n",
    "\n",
    "    while channel > 0:\n",
    "        if channel % 10 in broken:\n",
    "            return False\n",
    "        channel //= 10\n",
    "\n",
    "    return True\n",
    "\n",
    "\n",
    "def get_min_button_presses(N, M, broken):\n",
    "    min_presses = abs(N - 100)  # 숫자 버튼을 누르지 않고 + 또는 - 버튼만 사용하는 경우\n",
    "\n",
    "    for channel in range(1000001):\n",
    "        if check_possible(channel, broken):\n",
    "            min_presses = min(min_presses, abs(channel - N) + len(str(channel)))\n",
    "\n",
    "    return min_presses"
   ]
  },
  {
   "cell_type": "code",
   "execution_count": 8,
   "id": "7ed13b5f-c463-469e-b985-2d0de0f5a551",
   "metadata": {},
   "outputs": [
    {
     "name": "stdout",
     "output_type": "stream",
     "text": [
      "6\n"
     ]
    }
   ],
   "source": [
    "print(get_min_button_presses(N,M,broken))"
   ]
  },
  {
   "cell_type": "code",
   "execution_count": null,
   "id": "61afa736-0636-44bd-94a9-d06f369215f7",
   "metadata": {},
   "outputs": [],
   "source": []
  }
 ],
 "metadata": {
  "kernelspec": {
   "display_name": "Python 3 (ipykernel)",
   "language": "python",
   "name": "python3"
  },
  "language_info": {
   "codemirror_mode": {
    "name": "ipython",
    "version": 3
   },
   "file_extension": ".py",
   "mimetype": "text/x-python",
   "name": "python",
   "nbconvert_exporter": "python",
   "pygments_lexer": "ipython3",
   "version": "3.9.13"
  }
 },
 "nbformat": 4,
 "nbformat_minor": 5
}
