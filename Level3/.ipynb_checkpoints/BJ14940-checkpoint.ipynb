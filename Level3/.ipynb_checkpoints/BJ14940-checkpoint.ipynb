{
 "cells": [
  {
   "cell_type": "code",
   "execution_count": 1,
   "id": "ebc60752-828c-45ac-88c8-733a1bcf9db0",
   "metadata": {},
   "outputs": [
    {
     "name": "stdin",
     "output_type": "stream",
     "text": [
      " 3 3\n",
      " 2 1 1\n",
      " 0 0 0\n",
      " 1 1 1\n"
     ]
    }
   ],
   "source": [
    "n, m = map(int, input().split())\n",
    "grid = []\n",
    "for _ in range(n):\n",
    "    row = list(map(int, input().split()))\n",
    "    grid.append(row)"
   ]
  },
  {
   "cell_type": "code",
   "execution_count": 2,
   "id": "641ce24e-8e3a-49a9-aa2e-462a02125557",
   "metadata": {},
   "outputs": [],
   "source": [
    "map = [[0] * m for _ in range(n)]\n",
    "    \n",
    "target = None\n",
    "distances = [[-1] * m for _ in range(n)]\n",
    "for i in range(n):\n",
    "    for j in range(m):\n",
    "        if grid[i][j] == 1:\n",
    "            map[i][j] = 1\n",
    "        elif grid[i][j] == 2:\n",
    "            map[i][j] = 2\n",
    "            target = (i, j)\n",
    "            distances[i][j] = 0\n",
    "        elif grid[i][j] == 0 :\n",
    "            distances[i][j] = 0\n",
    "    "
   ]
  },
  {
   "cell_type": "code",
   "execution_count": 3,
   "id": "0189521a-737e-4082-b1ca-5684f3037a6f",
   "metadata": {},
   "outputs": [],
   "source": [
    "from collections import deque\n",
    "queue = deque([target])"
   ]
  },
  {
   "cell_type": "code",
   "execution_count": 4,
   "id": "b43bb316-5a94-483d-bda0-5a5f86539980",
   "metadata": {},
   "outputs": [],
   "source": [
    "while queue:\n",
    "    x, y = queue.popleft()\n",
    "        \n",
    "    for dx, dy in [(-1, 0), (1, 0), (0, -1), (0, 1)]:\n",
    "        nx, ny = x + dx, y + dy\n",
    "            \n",
    "        if nx < 0 or nx >= m or ny < 0 or ny >= n or distances[nx][ny] != -1:\n",
    "            continue\n",
    "            \n",
    "        elif map[nx][ny] == 1:\n",
    "            distances[nx][ny] = distances[x][y] + 1\n",
    "            queue.append((nx, ny))\n",
    "            \n",
    "        elif map[nx][ny] == 0:\n",
    "            distances[nx][ny] = 0"
   ]
  },
  {
   "cell_type": "code",
   "execution_count": 5,
   "id": "78ab51ca-2253-434c-bca9-796efdf8159f",
   "metadata": {},
   "outputs": [
    {
     "name": "stdout",
     "output_type": "stream",
     "text": [
      "0 1 2\n",
      "0 0 0\n",
      "-1 -1 -1\n"
     ]
    }
   ],
   "source": [
    "for am in distances:\n",
    "    print(' '.join(str(x) for x in am))\n"
   ]
  },
  {
   "cell_type": "code",
   "execution_count": 6,
   "id": "d4e96cdd-a021-4057-878d-5595a8e14a5f",
   "metadata": {},
   "outputs": [
    {
     "ename": "TypeError",
     "evalue": "'list' object is not callable",
     "output_type": "error",
     "traceback": [
      "\u001b[1;31m---------------------------------------------------------------------------\u001b[0m",
      "\u001b[1;31mTypeError\u001b[0m                                 Traceback (most recent call last)",
      "\u001b[1;32m~\\AppData\\Local\\Temp\\ipykernel_12468\\1252133368.py\u001b[0m in \u001b[0;36m<module>\u001b[1;34m\u001b[0m\n\u001b[0;32m      3\u001b[0m \u001b[1;32mfrom\u001b[0m \u001b[0mcollections\u001b[0m \u001b[1;32mimport\u001b[0m \u001b[0mdeque\u001b[0m\u001b[1;33m\u001b[0m\u001b[1;33m\u001b[0m\u001b[0m\n\u001b[0;32m      4\u001b[0m \u001b[1;33m\u001b[0m\u001b[0m\n\u001b[1;32m----> 5\u001b[1;33m \u001b[0mn\u001b[0m\u001b[1;33m,\u001b[0m \u001b[0mm\u001b[0m \u001b[1;33m=\u001b[0m \u001b[0mmap\u001b[0m\u001b[1;33m(\u001b[0m\u001b[0mint\u001b[0m\u001b[1;33m,\u001b[0m \u001b[0minput\u001b[0m\u001b[1;33m(\u001b[0m\u001b[1;33m)\u001b[0m\u001b[1;33m.\u001b[0m\u001b[0msplit\u001b[0m\u001b[1;33m(\u001b[0m\u001b[1;33m)\u001b[0m\u001b[1;33m)\u001b[0m\u001b[1;33m\u001b[0m\u001b[1;33m\u001b[0m\u001b[0m\n\u001b[0m\u001b[0;32m      6\u001b[0m \u001b[0mgrid\u001b[0m \u001b[1;33m=\u001b[0m \u001b[1;33m[\u001b[0m\u001b[1;33m]\u001b[0m\u001b[1;33m\u001b[0m\u001b[1;33m\u001b[0m\u001b[0m\n\u001b[0;32m      7\u001b[0m \u001b[1;32mfor\u001b[0m \u001b[0m_\u001b[0m \u001b[1;32min\u001b[0m \u001b[0mrange\u001b[0m\u001b[1;33m(\u001b[0m\u001b[0mn\u001b[0m\u001b[1;33m)\u001b[0m\u001b[1;33m:\u001b[0m\u001b[1;33m\u001b[0m\u001b[1;33m\u001b[0m\u001b[0m\n",
      "\u001b[1;31mTypeError\u001b[0m: 'list' object is not callable"
     ]
    }
   ],
   "source": [
    "import sys\n",
    "input = sys.stdin.readline\n",
    "from collections import deque\n",
    "\n",
    "n, m = map(int, input().split())\n",
    "grid = []\n",
    "for _ in range(n):\n",
    "    row = list(map(int, input().split()))\n",
    "    grid.append(row)\n",
    "\n",
    "map = [[0] * m for _ in range(n)]\n",
    "    \n",
    "target = None\n",
    "distances = [[-1] * m for _ in range(n)]\n",
    "for i in range(n):\n",
    "    for j in range(m):\n",
    "        if grid[i][j] == 1:\n",
    "            map[i][j] = 1\n",
    "        elif grid[i][j] == 2:\n",
    "            map[i][j] = 2\n",
    "            target = (i, j)\n",
    "            distances[i][j] = 0\n",
    "        elif grid[i][j] == 0 :\n",
    "            distances[i][j] = 0\n",
    "    \n",
    "queue = deque([target])\n",
    "\n",
    "while queue:\n",
    "    x, y = queue.popleft()\n",
    "        \n",
    "    for dx, dy in [(-1, 0), (1, 0), (0, -1), (0, 1)]:\n",
    "        nx, ny = x + dx, y + dy\n",
    "            \n",
    "        if nx < 0 or nx >= n or ny < 0 or ny >= m or distances[nx][ny] != -1:\n",
    "            continue\n",
    "            \n",
    "        elif map[nx][ny] == 1:\n",
    "            distances[nx][ny] = distances[x][y] + 1\n",
    "            queue.append((nx, ny))\n",
    "            \n",
    "        elif map[nx][ny] == 0:\n",
    "            distances[nx][ny] = 0\n",
    "            \n",
    "for am in distances:\n",
    "    print(' '.join(str(x) for x in am))\n",
    "\n",
    "\n",
    "          \n"
   ]
  },
  {
   "cell_type": "code",
   "execution_count": null,
   "id": "eb0cd99e-2187-4d15-a4c5-7d5e7551709b",
   "metadata": {},
   "outputs": [],
   "source": []
  }
 ],
 "metadata": {
  "kernelspec": {
   "display_name": "Python 3 (ipykernel)",
   "language": "python",
   "name": "python3"
  },
  "language_info": {
   "codemirror_mode": {
    "name": "ipython",
    "version": 3
   },
   "file_extension": ".py",
   "mimetype": "text/x-python",
   "name": "python",
   "nbconvert_exporter": "python",
   "pygments_lexer": "ipython3",
   "version": "3.9.13"
  }
 },
 "nbformat": 4,
 "nbformat_minor": 5
}
