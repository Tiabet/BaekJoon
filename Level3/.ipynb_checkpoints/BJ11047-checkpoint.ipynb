{
 "cells": [
  {
   "cell_type": "code",
   "execution_count": 6,
   "id": "f6dc8bea-5b22-493d-a5bd-e43f789a01b7",
   "metadata": {},
   "outputs": [
    {
     "name": "stdin",
     "output_type": "stream",
     "text": [
      " 10 4200\n",
      " 1\n",
      " 5\n",
      " 10\n",
      " 50\n",
      " 100\n",
      " 500\n",
      " 1000\n",
      " 5000\n",
      " 10000\n",
      " 50000\n"
     ]
    },
    {
     "name": "stdout",
     "output_type": "stream",
     "text": [
      "6\n"
     ]
    }
   ],
   "source": [
    "n, k = map(int, input().split())\n",
    "\n",
    "coins = []\n",
    "\n",
    "for i in range(n):\n",
    "    coins.append(int(input()))\n",
    "    \n",
    "count = 0\n",
    "\n",
    "while k>0:\n",
    "    for i in range(n):\n",
    "        touse = 0\n",
    "        if coins[i]>k:\n",
    "            touse = coins[i-1]\n",
    "            break\n",
    "        if touse==0:\n",
    "            touse=max(coins)\n",
    "    count+=k//touse\n",
    "    k=k%touse\n",
    "\n",
    "print(count)\n",
    "            "
   ]
  },
  {
   "cell_type": "code",
   "execution_count": null,
   "id": "cfa8cf10-3e14-4a4a-8fc4-b0cd648aadf7",
   "metadata": {},
   "outputs": [],
   "source": []
  }
 ],
 "metadata": {
  "kernelspec": {
   "display_name": "Python 3 (ipykernel)",
   "language": "python",
   "name": "python3"
  },
  "language_info": {
   "codemirror_mode": {
    "name": "ipython",
    "version": 3
   },
   "file_extension": ".py",
   "mimetype": "text/x-python",
   "name": "python",
   "nbconvert_exporter": "python",
   "pygments_lexer": "ipython3",
   "version": "3.9.13"
  }
 },
 "nbformat": 4,
 "nbformat_minor": 5
}
