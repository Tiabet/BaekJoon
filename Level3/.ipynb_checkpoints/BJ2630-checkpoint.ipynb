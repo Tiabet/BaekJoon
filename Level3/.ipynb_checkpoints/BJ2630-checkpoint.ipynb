{
 "cells": [
  {
   "cell_type": "markdown",
   "id": "4e81c7fa-4f01-4bc7-b35b-639c40ec5a93",
   "metadata": {},
   "source": [
    "분할정복과 재귀를 이용해서 푸는 문제다. 다행히도 변의 길이가 2의 거듭제곱꼴로 고정되어 있기 때문에 재귀적으로 간단하게 풀 수 있겠다."
   ]
  },
  {
   "cell_type": "markdown",
   "id": "3fc3069d-f480-4a02-84a2-2677cbaeaa69",
   "metadata": {},
   "source": []
  },
  {
   "cell_type": "code",
   "execution_count": null,
   "id": "ff00b920-c770-4716-a0d1-ad042bb266bf",
   "metadata": {},
   "outputs": [],
   "source": [
    "import sys\n",
    "\n",
    "# 해당 종이가 모두 같은 색인지 판별하는 함수\n",
    "def check_same_color(paper, x, y, n):\n",
    "    color = paper[x][y]\n",
    "    for i in range(x, x + n):\n",
    "        for j in range(y, y + n):\n",
    "            if paper[i][j] != color:\n",
    "                return False\n",
    "    return True\n",
    "\n",
    "# 종이를 네 부분으로 나누고, 각각 재귀적으로 처리하는 함수\n",
    "def divide_paper(paper, x, y, n):\n",
    "    if check_same_color(paper, x, y, n):\n",
    "        if paper[x][y] == 0: # 하얀색 종이일 경우\n",
    "            return 1, 0\n",
    "        else: # 파란색 종이일 경우\n",
    "            return 0, 1\n",
    "\n",
    "    white, blue = 0, 0\n",
    "    m = n // 2 # 종이를 네 부분으로 나누기 위한 중간 지점\n",
    "    w1, b1 = divide_paper(paper, x, y, m) # 왼쪽 위 부분\n",
    "    w2, b2 = divide_paper(paper, x, y + m, m) # 오른쪽 위 부분\n",
    "    w3, b3 = divide_paper(paper, x + m, y, m) # 왼쪽 아래 부분\n",
    "    w4, b4 = divide_paper(paper, x + m, y + m, m) # 오른쪽 아래 부분\n",
    "    white += w1 + w2 + w3 + w4 # 하얀 색종이 개수 누적\n",
    "    blue += b1 + b2 + b3 + b4 # 파란 색종이 개수 누적\n",
    "    return white, blue\n",
    "\n",
    "# 입력 처리\n",
    "n = int(sys.stdin.readline())\n",
    "paper = [list(map(int, sys.stdin.readline().split())) for _ in range(n)]\n",
    "\n",
    "# 분할 정복 알고리즘 수행 후 결과 출력\n",
    "white, blue = divide_paper(paper, 0, 0, n)\n",
    "print(white)\n",
    "print(blue)\n"
   ]
  }
 ],
 "metadata": {
  "kernelspec": {
   "display_name": "Python 3 (ipykernel)",
   "language": "python",
   "name": "python3"
  },
  "language_info": {
   "codemirror_mode": {
    "name": "ipython",
    "version": 3
   },
   "file_extension": ".py",
   "mimetype": "text/x-python",
   "name": "python",
   "nbconvert_exporter": "python",
   "pygments_lexer": "ipython3",
   "version": "3.9.13"
  }
 },
 "nbformat": 4,
 "nbformat_minor": 5
}
