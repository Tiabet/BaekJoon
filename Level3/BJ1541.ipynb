{
 "cells": [
  {
   "cell_type": "code",
   "execution_count": 12,
   "id": "eeebe426-cb6b-4a98-8c15-c4eb53931ce8",
   "metadata": {},
   "outputs": [
    {
     "name": "stdin",
     "output_type": "stream",
     "text": [
      " 55-50+40\n"
     ]
    },
    {
     "name": "stdout",
     "output_type": "stream",
     "text": [
      "-35\n"
     ]
    }
   ],
   "source": [
    "str = input()\n",
    "\n",
    "str = str.split(\"-\")\n",
    "arr=[]\n",
    "for i in str:\n",
    "    k = i.split(\"+\")\n",
    "    num=0\n",
    "    for j in k :\n",
    "        num+=int(j)\n",
    "    arr.append(num)\n",
    "\n",
    "result = arr[0]\n",
    "for i in range(1,len(arr)):\n",
    "    result-=arr[i]\n",
    "print(result)\n"
   ]
  },
  {
   "cell_type": "code",
   "execution_count": null,
   "id": "8b366f0f-7fbe-4ac6-8529-45afd1ea49bc",
   "metadata": {},
   "outputs": [],
   "source": []
  }
 ],
 "metadata": {
  "kernelspec": {
   "display_name": "Python 3 (ipykernel)",
   "language": "python",
   "name": "python3"
  },
  "language_info": {
   "codemirror_mode": {
    "name": "ipython",
    "version": 3
   },
   "file_extension": ".py",
   "mimetype": "text/x-python",
   "name": "python",
   "nbconvert_exporter": "python",
   "pygments_lexer": "ipython3",
   "version": "3.9.13"
  }
 },
 "nbformat": 4,
 "nbformat_minor": 5
}
