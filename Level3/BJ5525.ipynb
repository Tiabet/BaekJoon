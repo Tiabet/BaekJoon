{
 "cells": [
  {
   "cell_type": "code",
   "execution_count": 1,
   "id": "a7b6707f-5c1f-4937-8664-5f0aa644b4f9",
   "metadata": {},
   "outputs": [
    {
     "name": "stdin",
     "output_type": "stream",
     "text": [
      " 1\n",
      " 13\n",
      " OOIOIOIOIIOII\n"
     ]
    }
   ],
   "source": [
    "n = int(input())\n",
    "m = int(input())\n",
    "\n",
    "str = input()"
   ]
  },
  {
   "cell_type": "code",
   "execution_count": 2,
   "id": "a6c7ae21-4ce1-47ee-a414-f8d3155b840e",
   "metadata": {},
   "outputs": [],
   "source": [
    "PN = 'I' + 'OI'*n"
   ]
  },
  {
   "cell_type": "code",
   "execution_count": 3,
   "id": "fc485b64-556b-4779-bbc8-b8f2ce30ec9d",
   "metadata": {},
   "outputs": [
    {
     "data": {
      "text/plain": [
       "'IOI'"
      ]
     },
     "execution_count": 3,
     "metadata": {},
     "output_type": "execute_result"
    }
   ],
   "source": [
    "PN"
   ]
  },
  {
   "cell_type": "code",
   "execution_count": 4,
   "id": "4c069f97-84dc-4d90-a970-3bd29990611a",
   "metadata": {},
   "outputs": [],
   "source": [
    "count = 0\n",
    "for i in range(len(str)-len(PN)+1) :\n",
    "    if str[i:i+len(PN)] == PN :\n",
    "        count+=1"
   ]
  },
  {
   "cell_type": "code",
   "execution_count": 5,
   "id": "9aad00a2-cf6d-48bf-8a60-f0ee6caa7639",
   "metadata": {},
   "outputs": [
    {
     "data": {
      "text/plain": [
       "4"
      ]
     },
     "execution_count": 5,
     "metadata": {},
     "output_type": "execute_result"
    }
   ],
   "source": [
    "count"
   ]
  },
  {
   "cell_type": "code",
   "execution_count": null,
   "id": "247e30f8-1399-4f2d-8bd0-c503be8f5dae",
   "metadata": {},
   "outputs": [],
   "source": []
  }
 ],
 "metadata": {
  "kernelspec": {
   "display_name": "Python 3 (ipykernel)",
   "language": "python",
   "name": "python3"
  },
  "language_info": {
   "codemirror_mode": {
    "name": "ipython",
    "version": 3
   },
   "file_extension": ".py",
   "mimetype": "text/x-python",
   "name": "python",
   "nbconvert_exporter": "python",
   "pygments_lexer": "ipython3",
   "version": "3.9.13"
  }
 },
 "nbformat": 4,
 "nbformat_minor": 5
}
