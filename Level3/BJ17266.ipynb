{
 "cells": [
  {
   "cell_type": "code",
   "execution_count": 28,
   "id": "ba0a99fb-fb04-4bba-8855-62882e02c3de",
   "metadata": {},
   "outputs": [
    {
     "name": "stdin",
     "output_type": "stream",
     "text": [
      " 26\n"
     ]
    },
    {
     "name": "stdout",
     "output_type": "stream",
     "text": [
      "2\n"
     ]
    }
   ],
   "source": [
    "import math\n",
    "\n",
    "n = int(input())\n",
    "\n",
    "dp=[0,1]\n",
    "\n",
    "for i in range(2,n+1):\n",
    "    tmpmax = 5\n",
    "    for j in range(1,int(math.sqrt(i))+1):\n",
    "        tmp = i - j**2\n",
    "        tmpmax = min(tmpmax,dp[tmp])\n",
    "        \n",
    "    dp.append(tmpmax+1)\n",
    "    \n",
    "print(dp[n])\n"
   ]
  },
  {
   "cell_type": "code",
   "execution_count": null,
   "id": "ebb292d3-6e66-49a5-89c1-582db0675f90",
   "metadata": {},
   "outputs": [],
   "source": []
  }
 ],
 "metadata": {
  "kernelspec": {
   "display_name": "Python 3 (ipykernel)",
   "language": "python",
   "name": "python3"
  },
  "language_info": {
   "codemirror_mode": {
    "name": "ipython",
    "version": 3
   },
   "file_extension": ".py",
   "mimetype": "text/x-python",
   "name": "python",
   "nbconvert_exporter": "python",
   "pygments_lexer": "ipython3",
   "version": "3.9.13"
  }
 },
 "nbformat": 4,
 "nbformat_minor": 5
}
