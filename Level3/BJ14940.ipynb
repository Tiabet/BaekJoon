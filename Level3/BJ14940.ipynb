{
 "cells": [
  {
   "cell_type": "code",
   "execution_count": null,
   "id": "ebc60752-828c-45ac-88c8-733a1bcf9db0",
   "metadata": {},
   "outputs": [],
   "source": [
    "n, m = map(int, input().split())\n",
    "grid = []\n",
    "for _ in range(n):\n",
    "    row = list(map(int, input().split()))\n",
    "    grid.append(row)"
   ]
  },
  {
   "cell_type": "code",
   "execution_count": null,
   "id": "641ce24e-8e3a-49a9-aa2e-462a02125557",
   "metadata": {},
   "outputs": [],
   "source": [
    "def bfs(n, k):\n",
    "    queue = deque()\n",
    "    queue.append((n, 0)) \n",
    "    visited = [False] * 100001  \n",
    "\n",
    "    while queue:\n",
    "        x, time = queue.popleft()\n",
    "        visited[x] = True\n",
    "\n",
    "        if x == k:  \n",
    "            return time\n",
    "\n",
    "        \n",
    "        if x - 1 >= 0 and not visited[x-1]:\n",
    "            queue.append((x-1, time+1))\n",
    "        if x + 1 <= 100000 and not visited[x+1]:\n",
    "            queue.append((x+1, time+1))\n",
    "\n",
    "        \n",
    "        if 2*x <= 100000 and not visited[2*x]:\n",
    "            queue.append((2*x, time+1))"
   ]
  },
  {
   "cell_type": "code",
   "execution_count": null,
   "id": "0189521a-737e-4082-b1ca-5684f3037a6f",
   "metadata": {},
   "outputs": [],
   "source": []
  }
 ],
 "metadata": {
  "kernelspec": {
   "display_name": "Python 3 (ipykernel)",
   "language": "python",
   "name": "python3"
  },
  "language_info": {
   "codemirror_mode": {
    "name": "ipython",
    "version": 3
   },
   "file_extension": ".py",
   "mimetype": "text/x-python",
   "name": "python",
   "nbconvert_exporter": "python",
   "pygments_lexer": "ipython3",
   "version": "3.9.13"
  }
 },
 "nbformat": 4,
 "nbformat_minor": 5
}
