{
 "cells": [
  {
   "cell_type": "code",
   "execution_count": 23,
   "id": "e8b43b97-c3fa-4c3a-a63a-59c23d11b259",
   "metadata": {},
   "outputs": [
    {
     "name": "stdin",
     "output_type": "stream",
     "text": [
      " 9\n",
      " 0 1 -1 0 1 -1 0 1 -1\n",
      " 0 1 -1 0 1 -1 0 1 -1\n",
      " 0 1 -1 0 1 -1 0 1 -1\n",
      " 1 1 1 0 0 0 0 0 0\n",
      " 1 1 1 0 0 0 0 0 0\n",
      " 1 1 1 0 0 0 0 0 0\n",
      " 0 0 0 1 1 1 -1 -1 -1\n",
      " 0 0 0 1 1 1 -1 -1 -1\n",
      " 0 0 0 1 1 1 -1 -1 -1\n"
     ]
    },
    {
     "name": "stdout",
     "output_type": "stream",
     "text": [
      "10\n",
      "10\n",
      "13\n"
     ]
    }
   ],
   "source": [
    "import sys\n",
    "\n",
    "def check_same_color(paper, x, y, n):\n",
    "    color = paper[x][y]\n",
    "    for i in range(x, x + n):\n",
    "        for j in range(y, y + n):\n",
    "            if paper[i][j] != color:\n",
    "                return False\n",
    "    return True\n",
    "\n",
    "\n",
    "def divide_paper(paper, x, y, n):\n",
    "    global count_one\n",
    "    global count_zero\n",
    "    global count_minus\n",
    "    \n",
    "    if check_same_color(paper, x, y, n):\n",
    "        if paper[x][y] == 0: \n",
    "            count_zero+=1\n",
    "        elif paper[x][y] == 1:\n",
    "            count_one +=1\n",
    "        else :\n",
    "            count_minus +=1\n",
    "    else :\n",
    "        n = n // 3 \n",
    "        divide_paper(paper, x, y, n) \n",
    "        divide_paper(paper, x, y + n, n) \n",
    "        divide_paper(paper, x, y + 2*n, n) \n",
    "        divide_paper(paper, x + n, y + n, n)\n",
    "        divide_paper(paper, x + 2*n, y, n)\n",
    "        divide_paper(paper, x + 2*n, y + n, n)\n",
    "        divide_paper(paper, x + n, y + 2*n, n)\n",
    "        divide_paper(paper, x + n, y , n)\n",
    "        divide_paper(paper, x + 2*n, y + 2*n, n)\n",
    "        \n",
    "    \n",
    "\n",
    "# 입력 처리\n",
    "n = int(input())\n",
    "paper = [list(map(int, input().split())) for _ in range(n)]\n",
    "\n",
    "count_one =0\n",
    "count_zero =0 \n",
    "count_minus =0\n",
    "\n",
    "# 분할 정복 알고리즘 수행 후 결과 출력\n",
    "divide_paper(paper, 0, 0, n)\n",
    "print(count_minus)\n",
    "print(count_zero)\n",
    "print(count_one)\n"
   ]
  },
  {
   "cell_type": "code",
   "execution_count": 5,
   "id": "27ce4d50-4726-488b-9343-aeea6944dc77",
   "metadata": {},
   "outputs": [
    {
     "data": {
      "text/plain": [
       "3"
      ]
     },
     "execution_count": 5,
     "metadata": {},
     "output_type": "execute_result"
    }
   ],
   "source": []
  }
 ],
 "metadata": {
  "kernelspec": {
   "display_name": "Python 3 (ipykernel)",
   "language": "python",
   "name": "python3"
  },
  "language_info": {
   "codemirror_mode": {
    "name": "ipython",
    "version": 3
   },
   "file_extension": ".py",
   "mimetype": "text/x-python",
   "name": "python",
   "nbconvert_exporter": "python",
   "pygments_lexer": "ipython3",
   "version": "3.9.13"
  }
 },
 "nbformat": 4,
 "nbformat_minor": 5
}
