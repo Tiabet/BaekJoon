{
 "cells": [
  {
   "cell_type": "markdown",
   "id": "4e81c7fa-4f01-4bc7-b35b-639c40ec5a93",
   "metadata": {},
   "source": [
    "분할정복과 재귀를 이용해서 푸는 문제다. 다행히도 변의 길이가 2의 거듭제곱꼴로 고정되어 있기 때문에 재귀적으로 간단하게 풀 수 있겠다."
   ]
  },
  {
   "cell_type": "markdown",
   "id": "3fc3069d-f480-4a02-84a2-2677cbaeaa69",
   "metadata": {},
   "source": []
  },
  {
   "cell_type": "code",
   "execution_count": null,
   "id": "ff00b920-c770-4716-a0d1-ad042bb266bf",
   "metadata": {},
   "outputs": [],
   "source": [
    "import sys\n",
    "\n",
    "def check_same_color(paper, x, y, n):\n",
    "    color = paper[x][y]\n",
    "    for i in range(x, x + n):\n",
    "        for j in range(y, y + n):\n",
    "            if paper[i][j] != color:\n",
    "                return False\n",
    "    return True\n",
    "\n",
    "count_one = 0\n",
    "count_zero = 0\n",
    "count_minus = 0\n",
    "\n",
    "def divide_paper(paper, x, y, n):\n",
    "    if check_same_color(paper, x, y, n):\n",
    "        if paper[x][y] == 0: \n",
    "            count_zero+=1\n",
    "        elif paper[x][y] == 1:\n",
    "            count_one +=1\n",
    "        else :\n",
    "            count_minus +=1\n",
    "    else :\n",
    "        m = n // 3 \n",
    "        divide_paper(paper, x, y, m) \n",
    "        divide_paper(paper, x, y + m, m) \n",
    "        divide_paper(paper, x, y + 2*m, m) \n",
    "        divide_paper(paper, x + m, y + m, m)\n",
    "        divide_paper(paper, x + 2*m, y, m)\n",
    "        divide_paper(paper, x + 2*m, y + m, m)\n",
    "        divide_paper(paper, x + m, y + 2*m, m)\n",
    "        divide_paper(paper, x + m, y + m, m)\n",
    "        divide_paper(paper, x + 2*m, y + 2*m, m)\n",
    "        \n",
    "    \n",
    "\n",
    "# 입력 처리\n",
    "n = int(sys.stdin.readline())\n",
    "paper = [list(map(int, sys.stdin.readline().split())) for _ in range(n)]\n",
    "\n",
    "# 분할 정복 알고리즘 수행 후 결과 출력\n",
    "white, blue = divide_paper(paper, 0, 0, n)\n",
    "print(count_minus)\n",
    "print(count_zero)\n",
    "print(count_one)\n"
   ]
  }
 ],
 "metadata": {
  "kernelspec": {
   "display_name": "Python 3 (ipykernel)",
   "language": "python",
   "name": "python3"
  },
  "language_info": {
   "codemirror_mode": {
    "name": "ipython",
    "version": 3
   },
   "file_extension": ".py",
   "mimetype": "text/x-python",
   "name": "python",
   "nbconvert_exporter": "python",
   "pygments_lexer": "ipython3",
   "version": "3.9.13"
  }
 },
 "nbformat": 4,
 "nbformat_minor": 5
}
