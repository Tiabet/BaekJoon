{
 "cells": [
  {
   "cell_type": "code",
   "execution_count": 62,
   "id": "4ed505d9-906f-498d-8d5e-3931ee40536c",
   "metadata": {},
   "outputs": [],
   "source": [
    "from collections import deque"
   ]
  },
  {
   "cell_type": "code",
   "execution_count": 63,
   "id": "5f60904e-2f5e-4ef7-a795-c02199f75752",
   "metadata": {},
   "outputs": [
    {
     "name": "stdin",
     "output_type": "stream",
     "text": [
      " 3 5\n"
     ]
    }
   ],
   "source": [
    "n, m = map(int, input().split())"
   ]
  },
  {
   "cell_type": "code",
   "execution_count": 64,
   "id": "4a8ded67-3a62-412a-98c0-c58a45a93764",
   "metadata": {},
   "outputs": [
    {
     "name": "stdin",
     "output_type": "stream",
     "text": [
      " OOOPO\n",
      " OIOOX\n",
      " OOOXP\n"
     ]
    }
   ],
   "source": [
    "matrix = [list(input()) for _ in range(n)]"
   ]
  },
  {
   "cell_type": "code",
   "execution_count": 65,
   "id": "481f41fa-e2c9-460b-a562-dadbf1633922",
   "metadata": {},
   "outputs": [
    {
     "data": {
      "text/plain": [
       "[['O', 'O', 'O', 'P', 'O'],\n",
       " ['O', 'I', 'O', 'O', 'X'],\n",
       " ['O', 'O', 'O', 'X', 'P']]"
      ]
     },
     "execution_count": 65,
     "metadata": {},
     "output_type": "execute_result"
    }
   ],
   "source": [
    "matrix"
   ]
  },
  {
   "cell_type": "code",
   "execution_count": 86,
   "id": "c26bef46-474b-46c3-9ae7-14aa080bc8d8",
   "metadata": {},
   "outputs": [],
   "source": [
    "queue = deque([])\n",
    "visited = [[False] * m for _ in range(n)]"
   ]
  },
  {
   "cell_type": "code",
   "execution_count": 87,
   "id": "a898b567-d98f-41d4-9c40-c28167a8d4f0",
   "metadata": {},
   "outputs": [],
   "source": [
    "for i in range(n):\n",
    "    for j in range(m):\n",
    "        if matrix[i][j] == 'I' :\n",
    "            queue.append([i,j])"
   ]
  },
  {
   "cell_type": "code",
   "execution_count": 88,
   "id": "cf08398f-3bcd-4e67-95e7-b15556a6ac21",
   "metadata": {},
   "outputs": [],
   "source": [
    "dx, dy= [-1, 1, 0, 0], [0, 0, -1, 1]"
   ]
  },
  {
   "cell_type": "code",
   "execution_count": 89,
   "id": "b4f50e92-30a2-4a56-ad2e-462f30db8c1a",
   "metadata": {},
   "outputs": [],
   "source": [
    "def bfs(matrix):\n",
    "    count=0\n",
    "    while queue:\n",
    "        x,y= queue.popleft()\n",
    "        for i in range(4):\n",
    "            nx, ny= dx[i] + x, dy[i] + y\n",
    "            if 0 <= nx < n and 0 <= ny < m and  matrix[nx][ny] == 'O' and visited[nx][ny] == False:\n",
    "                queue.append([nx, ny])\n",
    "                visited[nx][ny] = True\n",
    "            elif 0 <= nx < n and 0 <= ny < m and  matrix[nx][ny] == 'P' and visited[nx][ny] == False:\n",
    "                queue.append([nx, ny])\n",
    "                visited[nx][ny] = True\n",
    "                count+=1\n",
    "    if count > 0:\n",
    "        print(count)\n",
    "    else:\n",
    "        print(\"TT\")"
   ]
  },
  {
   "cell_type": "code",
   "execution_count": 90,
   "id": "9b91c51a-5344-4f9a-9afc-cdc14dafdb4c",
   "metadata": {},
   "outputs": [
    {
     "name": "stdout",
     "output_type": "stream",
     "text": [
      "1\n"
     ]
    }
   ],
   "source": [
    "bfs(matrix)"
   ]
  },
  {
   "cell_type": "code",
   "execution_count": null,
   "id": "055e6064-4c6b-4c22-94ce-6d88dcea7b09",
   "metadata": {},
   "outputs": [],
   "source": []
  }
 ],
 "metadata": {
  "kernelspec": {
   "display_name": "Python 3 (ipykernel)",
   "language": "python",
   "name": "python3"
  },
  "language_info": {
   "codemirror_mode": {
    "name": "ipython",
    "version": 3
   },
   "file_extension": ".py",
   "mimetype": "text/x-python",
   "name": "python",
   "nbconvert_exporter": "python",
   "pygments_lexer": "ipython3",
   "version": "3.9.13"
  }
 },
 "nbformat": 4,
 "nbformat_minor": 5
}
