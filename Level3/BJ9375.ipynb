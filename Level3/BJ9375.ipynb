{
 "cells": [
  {
   "cell_type": "code",
   "execution_count": 23,
   "id": "4ec6b469-b6d7-4105-b899-fb12d7fef95d",
   "metadata": {},
   "outputs": [
    {
     "name": "stdin",
     "output_type": "stream",
     "text": [
      " 1\n",
      " 3\n",
      " e b\n",
      " r b\n",
      " c a\n"
     ]
    },
    {
     "name": "stdout",
     "output_type": "stream",
     "text": [
      "5\n"
     ]
    }
   ],
   "source": [
    "from itertools import product\n",
    "\n",
    "t = int(input())\n",
    "\n",
    "for _ in range(t):\n",
    "    cloths = {}\n",
    "    n = int(input())\n",
    "    for i in range(n):\n",
    "        wear, kind = input().split()\n",
    "        if kind not in cloths:\n",
    "            cloths[kind] = 1\n",
    "        else:\n",
    "            cloths[kind] += 1\n",
    "    \n",
    "    counts = list(cloths.values())\n",
    "    num_combinations = 1\n",
    "    for count in counts:\n",
    "        num_combinations *= (count+1)\n",
    "    print(num_combinations - 1)\n"
   ]
  },
  {
   "cell_type": "code",
   "execution_count": null,
   "id": "5b2eebc6-0d65-44eb-ad9e-501c858c2cd2",
   "metadata": {},
   "outputs": [],
   "source": []
  }
 ],
 "metadata": {
  "kernelspec": {
   "display_name": "Python 3 (ipykernel)",
   "language": "python",
   "name": "python3"
  },
  "language_info": {
   "codemirror_mode": {
    "name": "ipython",
    "version": 3
   },
   "file_extension": ".py",
   "mimetype": "text/x-python",
   "name": "python",
   "nbconvert_exporter": "python",
   "pygments_lexer": "ipython3",
   "version": "3.9.13"
  }
 },
 "nbformat": 4,
 "nbformat_minor": 5
}
