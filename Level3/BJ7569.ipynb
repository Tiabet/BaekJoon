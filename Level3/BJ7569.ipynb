{
 "cells": [
  {
   "cell_type": "code",
   "execution_count": 4,
   "id": "e44e53de",
   "metadata": {},
   "outputs": [
    {
     "name": "stdout",
     "output_type": "stream",
     "text": [
      "5 3 2\n",
      "0 0 0 0 0\n",
      "0 0 0 0 0\n",
      "0 0 0 0 0\n",
      "0 0 0 0 0\n",
      "0 0 1 0 0\n",
      "0 0 0 0 0\n",
      "4\n"
     ]
    }
   ],
   "source": [
    "import sys\n",
    "from collections import deque\n",
    "\n",
    "m,n,h = map(int,input().split())\n",
    "matrix = [[list(map(int, sys.stdin.readline().split())) for _ in range(n)]for _ in range(h)] #매트릭스 생성\n",
    "queue = deque([]) #빈 deque를 선언\n",
    "dx, dy ,dz = [-1, 1, 0, 0, 0, 0], [0, 0, -1, 1, 0, 0], [0, 0, 0, 0, -1, 1] #방향\n",
    "day = 0 #흐른 시간\n",
    "\n",
    "for i in range(h):\n",
    "    for j in range(n):\n",
    "        for k in range(m):\n",
    "            if matrix[i][j][k] == 1:\n",
    "                queue.append([i, j, k]) #토마토가 있는 곳 큐에 저장\n",
    "\n",
    "def bfs():\n",
    "    while queue:\n",
    "        z,x,y= queue.popleft()\n",
    "        for i in range(6):\n",
    "            nx, ny, nz= dx[i] + x, dy[i] + y, dz[i]+z\n",
    "            if 0 <= nx < n and 0 <= ny < m and 0 <= nz < h and matrix[nz][nx][ny] == 0:\n",
    "                matrix[nz][nx][ny] = matrix[z][x][y] + 1 #1이면 2를, 2면 3을 0 위치에 저장\n",
    "                queue.append([nz, nx, ny])#다음 탐색할 곳을 큐에 추가\n",
    "\n",
    "bfs()\n",
    "for i in matrix:\n",
    "    for j in i:\n",
    "        for k in j:\n",
    "            if k == 0:\n",
    "                print(-1)\n",
    "                exit(0)\n",
    "    day = max(day, max(j))\n",
    "print(day - 1)"
   ]
  },
  {
   "cell_type": "code",
   "execution_count": null,
   "id": "2b196ef3",
   "metadata": {},
   "outputs": [],
   "source": []
  }
 ],
 "metadata": {
  "kernelspec": {
   "display_name": "Python 3 (ipykernel)",
   "language": "python",
   "name": "python3"
  },
  "language_info": {
   "codemirror_mode": {
    "name": "ipython",
    "version": 3
   },
   "file_extension": ".py",
   "mimetype": "text/x-python",
   "name": "python",
   "nbconvert_exporter": "python",
   "pygments_lexer": "ipython3",
   "version": "3.9.13"
  }
 },
 "nbformat": 4,
 "nbformat_minor": 5
}
