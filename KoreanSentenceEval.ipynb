{
  "nbformat": 4,
  "nbformat_minor": 0,
  "metadata": {
    "colab": {
      "provenance": [],
      "authorship_tag": "ABX9TyOu2pM4wmB7DJ7EQjbZzgVC",
      "include_colab_link": true
    },
    "kernelspec": {
      "name": "python3",
      "display_name": "Python 3"
    },
    "language_info": {
      "name": "python"
    }
  },
  "cells": [
    {
      "cell_type": "markdown",
      "metadata": {
        "id": "view-in-github",
        "colab_type": "text"
      },
      "source": [
        "<a href=\"https://colab.research.google.com/github/Tiabet/BaekJoon/blob/main/KoreanSentenceEval.ipynb\" target=\"_parent\"><img src=\"https://colab.research.google.com/assets/colab-badge.svg\" alt=\"Open In Colab\"/></a>"
      ]
    },
    {
      "cell_type": "markdown",
      "source": [
        "BLEURT, BERTSCORE, ROUGE-1 구현"
      ],
      "metadata": {
        "id": "QsyAfT9J0oRP"
      }
    },
    {
      "cell_type": "code",
      "source": [
        "pip install git+https://github.com/google-research/bleurt.git"
      ],
      "metadata": {
        "id": "ZYcDmq7d4iQ_"
      },
      "execution_count": null,
      "outputs": []
    },
    {
      "cell_type": "code",
      "source": [
        "pip install evaluate"
      ],
      "metadata": {
        "id": "rmA2uhK00r0N"
      },
      "execution_count": null,
      "outputs": []
    },
    {
      "cell_type": "code",
      "source": [
        "pip install rouge"
      ],
      "metadata": {
        "colab": {
          "base_uri": "https://localhost:8080/"
        },
        "id": "kFXgSEpXEYDU",
        "outputId": "03a07ad6-8823-49ab-9e67-3aab27df977f"
      },
      "execution_count": 68,
      "outputs": [
        {
          "output_type": "stream",
          "name": "stdout",
          "text": [
            "Collecting rouge\n",
            "  Downloading rouge-1.0.1-py3-none-any.whl (13 kB)\n",
            "Requirement already satisfied: six in /usr/local/lib/python3.10/dist-packages (from rouge) (1.16.0)\n",
            "Installing collected packages: rouge\n",
            "Successfully installed rouge-1.0.1\n"
          ]
        }
      ]
    },
    {
      "cell_type": "code",
      "source": [
        "!git clone https://github.com/SOMJANG/Mecab-ko-for-Google-Colab.git"
      ],
      "metadata": {
        "colab": {
          "base_uri": "https://localhost:8080/"
        },
        "id": "qmJpmrwIFwJD",
        "outputId": "82d44496-aed3-4263-b1f2-a5209c1783f0"
      },
      "execution_count": 79,
      "outputs": [
        {
          "output_type": "stream",
          "name": "stdout",
          "text": [
            "Cloning into 'Mecab-ko-for-Google-Colab'...\n",
            "remote: Enumerating objects: 138, done.\u001b[K\n",
            "remote: Counting objects: 100% (47/47), done.\u001b[K\n",
            "remote: Compressing objects: 100% (38/38), done.\u001b[K\n",
            "remote: Total 138 (delta 26), reused 22 (delta 8), pack-reused 91\u001b[K\n",
            "Receiving objects: 100% (138/138), 1.72 MiB | 5.93 MiB/s, done.\n",
            "Resolving deltas: 100% (65/65), done.\n"
          ]
        }
      ]
    },
    {
      "cell_type": "code",
      "source": [
        "cd Mecab-ko-for-Google-Colab"
      ],
      "metadata": {
        "colab": {
          "base_uri": "https://localhost:8080/"
        },
        "id": "yoCh96cUFzx_",
        "outputId": "0217d413-701e-479e-a6ad-7ce834aa41fd"
      },
      "execution_count": 80,
      "outputs": [
        {
          "output_type": "stream",
          "name": "stdout",
          "text": [
            "/content/Mecab-ko-for-Google-Colab\n"
          ]
        }
      ]
    },
    {
      "cell_type": "code",
      "source": [
        "!bash install_mecab-ko_on_colab_light_220429.sh"
      ],
      "metadata": {
        "id": "7FVFI8DMF2gt"
      },
      "execution_count": null,
      "outputs": []
    },
    {
      "cell_type": "code",
      "source": [
        "import evaluate\n",
        "\n",
        "evaluate.list_evaluation_modules()"
      ],
      "metadata": {
        "id": "PgWA1F7e11O2"
      },
      "execution_count": null,
      "outputs": []
    },
    {
      "cell_type": "markdown",
      "source": [
        "사용가능한 평가지표에 bleurt, rouge-1, bertscore 가 모두 있는 것으로 확인된다.\n",
        "그런데 현재 bleurt 로딩에 뭔가 오류가 있는 것 같다. 그래서 최대한 유사한 google_bleu를 대신 사용하고자 한다."
      ],
      "metadata": {
        "id": "xj3pjOLv3rgB"
      }
    },
    {
      "cell_type": "markdown",
      "source": [
        "#데이터 전처리"
      ],
      "metadata": {
        "id": "R9p_DeBqrGeO"
      }
    },
    {
      "cell_type": "code",
      "source": [
        "from konlpy.tag import Mecab\n",
        "mecab = Mecab()\n",
        "predictions = [\"안녕하세요\", \"철수는 집을 좋아한다.\", \"좋아하는 음식이 뭐에요?\"]\n",
        "references = ['안녕하세요', '철수는 집에 가는 것을 좋아한다.', '선호하는 음식이 있으세요?']\n",
        "for idx, s in enumerate(references):\n",
        "        tokenized = []\n",
        "        for mor in mecab.morphs(s):\n",
        "            tokenized.append(mor)\n",
        "        references[idx] = tokenized\n",
        "for idx, s in enumerate(predictions):\n",
        "        tokenized = []\n",
        "        for mor in mecab.morphs(s):\n",
        "            tokenized.append(mor)\n",
        "        predictions[idx] = tokenized\n",
        "\n",
        "for idx,sentence in enumerate(predictions):\n",
        "  together = \" \".join(sentence)\n",
        "  predictions[idx] = together\n",
        "for idx,sentence in enumerate(references):\n",
        "  together = \" \".join(sentence)\n",
        "  references[idx] = together\n",
        "#rouge.get_scores(predictions, references, avg=True)"
      ],
      "metadata": {
        "id": "gx54HVnq-hEq"
      },
      "execution_count": 131,
      "outputs": []
    },
    {
      "cell_type": "code",
      "source": [
        "# Load the BLEU evaluation metric\n",
        "google_bleu = evaluate.load(\"google_bleu\")\n",
        "\n",
        "# Compute the BLEU score\n",
        "results = google_bleu.compute(predictions=predictions, references=references)\n",
        "\n",
        "# Print the results\n",
        "results['google_bleu']"
      ],
      "metadata": {
        "colab": {
          "base_uri": "https://localhost:8080/"
        },
        "id": "VA-SQpmw1_vA",
        "outputId": "6fbe1377-9a53-4978-a558-60b091b67df4"
      },
      "execution_count": 143,
      "outputs": [
        {
          "output_type": "execute_result",
          "data": {
            "text/plain": [
              "0.3918918918918919"
            ]
          },
          "metadata": {},
          "execution_count": 143
        }
      ]
    },
    {
      "cell_type": "code",
      "source": [
        "bertscore = evaluate.load(\"bertscore\")\n",
        "results = bertscore.compute(predictions=predictions, references=references, model_type=\"distilbert-base-uncased\")"
      ],
      "metadata": {
        "id": "QdnIX0SX4mHd"
      },
      "execution_count": 146,
      "outputs": []
    },
    {
      "cell_type": "code",
      "source": [
        "sum(results['f1'])/len(predictions)"
      ],
      "metadata": {
        "colab": {
          "base_uri": "https://localhost:8080/"
        },
        "id": "LDL3e8_H5ppL",
        "outputId": "9799dab3-7e32-4966-bbf6-2b6736b5a6c9"
      },
      "execution_count": 147,
      "outputs": [
        {
          "output_type": "execute_result",
          "data": {
            "text/plain": [
              "0.9781759182612101"
            ]
          },
          "metadata": {},
          "execution_count": 147
        }
      ]
    },
    {
      "cell_type": "markdown",
      "source": [
        "확인해보니 evaluate의 rouge는 아직 한국어 패키지를 지원하지 않았다. rouge-1 이라는 개념 자체가 그냥 1-gram 씩, 즉 한 단어씩 비교해가면서 같은지 다른지를 체크하는 것. 때문에 형태소 분석을 진행해줘야 하고, 이를 위해서 Mecab을 많이들 사용하는 것 같다. evaluate의 Rouge는 아직 한국어 모델을 정확하게 지원하고 있는 것 같지 않다. (모든 값이 다 0이 나옴) 그래서 rouge를 다른 패키지에서 불러와서 사용하고자 한다."
      ],
      "metadata": {
        "id": "pK7aiu5C-UxL"
      }
    },
    {
      "cell_type": "code",
      "source": [
        "from rouge import Rouge\n",
        "\n",
        "rouge = Rouge()\n",
        "results = rouge.get_scores(predictions, references, avg=True)\n",
        "results['rouge-1']['f']"
      ],
      "metadata": {
        "colab": {
          "base_uri": "https://localhost:8080/"
        },
        "id": "Ws6rcCWj7j9G",
        "outputId": "8f1d4b87-1b6c-41e8-add4-45caf097745e"
      },
      "execution_count": 139,
      "outputs": [
        {
          "output_type": "execute_result",
          "data": {
            "text/plain": [
              "0.7749287700381086"
            ]
          },
          "metadata": {},
          "execution_count": 139
        }
      ]
    },
    {
      "cell_type": "code",
      "source": [],
      "metadata": {
        "id": "cfZXQSyUJXlo"
      },
      "execution_count": null,
      "outputs": []
    }
  ]
}