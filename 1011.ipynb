{
 "cells": [
  {
   "cell_type": "code",
   "execution_count": 43,
   "id": "635d4e61-41eb-4ae9-8a29-7344a794e17b",
   "metadata": {},
   "outputs": [
    {
     "name": "stdin",
     "output_type": "stream",
     "text": [
      " 4\n"
     ]
    }
   ],
   "source": [
    "t = int(input())"
   ]
  },
  {
   "cell_type": "code",
   "execution_count": 54,
   "id": "714b7ffa-2c97-46c8-a7a1-958539573213",
   "metadata": {},
   "outputs": [
    {
     "name": "stdin",
     "output_type": "stream",
     "text": [
      " 1 5\n"
     ]
    }
   ],
   "source": [
    "x,y = map(int, input().split())"
   ]
  },
  {
   "cell_type": "code",
   "execution_count": 68,
   "id": "6b73fa02-f87d-423e-92d7-b324dc75b737",
   "metadata": {},
   "outputs": [
    {
     "data": {
      "text/plain": [
       "4"
      ]
     },
     "execution_count": 68,
     "metadata": {},
     "output_type": "execute_result"
    }
   ],
   "source": [
    "dist = y-x\n",
    "dist"
   ]
  },
  {
   "cell_type": "code",
   "execution_count": 69,
   "id": "c4714bad-eaab-4ee3-bf30-e838154d1427",
   "metadata": {},
   "outputs": [],
   "source": [
    "move = [-1,0,1]\n",
    "count=0\n",
    "while True:\n",
    "    if dist<=0 or dist == 1:\n",
    "        break\n",
    "    dist-=move[2]\n",
    "    move = [x + 1 for x in move]\n",
    "    count +=1"
   ]
  },
  {
   "cell_type": "code",
   "execution_count": 73,
   "id": "e60e96ae-4317-4270-8437-f2d39b8c4227",
   "metadata": {},
   "outputs": [
    {
     "data": {
      "text/plain": [
       "2"
      ]
     },
     "execution_count": 73,
     "metadata": {},
     "output_type": "execute_result"
    }
   ],
   "source": [
    "count"
   ]
  },
  {
   "cell_type": "code",
   "execution_count": 71,
   "id": "abedf332-8a18-44cf-8d06-10f8a1e5230c",
   "metadata": {},
   "outputs": [
    {
     "data": {
      "text/plain": [
       "[1, 2, 3]"
      ]
     },
     "execution_count": 71,
     "metadata": {},
     "output_type": "execute_result"
    }
   ],
   "source": [
    "move"
   ]
  },
  {
   "cell_type": "code",
   "execution_count": 72,
   "id": "25f9e294-9eec-4480-8e06-ab2d241fa416",
   "metadata": {},
   "outputs": [
    {
     "data": {
      "text/plain": [
       "1"
      ]
     },
     "execution_count": 72,
     "metadata": {},
     "output_type": "execute_result"
    }
   ],
   "source": [
    "dist"
   ]
  },
  {
   "cell_type": "code",
   "execution_count": 40,
   "id": "b3685f1a-ed2d-4b00-9062-6a7b807bab71",
   "metadata": {},
   "outputs": [],
   "source": [
    "if dist==1:\n",
    "    print(count+=1)\n",
    "    \n",
    "    "
   ]
  },
  {
   "cell_type": "code",
   "execution_count": 41,
   "id": "3ed09dce-0428-4d27-b0cb-80182b365562",
   "metadata": {},
   "outputs": [],
   "source": [
    "count+=1"
   ]
  },
  {
   "cell_type": "code",
   "execution_count": 42,
   "id": "324616e4-254c-484b-bf2d-d2736fe8bd3e",
   "metadata": {},
   "outputs": [
    {
     "data": {
      "text/plain": [
       "3"
      ]
     },
     "execution_count": 42,
     "metadata": {},
     "output_type": "execute_result"
    }
   ],
   "source": [
    "count"
   ]
  },
  {
   "cell_type": "code",
   "execution_count": null,
   "id": "a1d557cf-84cf-4721-ba17-30c55a7d2bdc",
   "metadata": {},
   "outputs": [],
   "source": []
  }
 ],
 "metadata": {
  "kernelspec": {
   "display_name": "Python 3 (ipykernel)",
   "language": "python",
   "name": "python3"
  },
  "language_info": {
   "codemirror_mode": {
    "name": "ipython",
    "version": 3
   },
   "file_extension": ".py",
   "mimetype": "text/x-python",
   "name": "python",
   "nbconvert_exporter": "python",
   "pygments_lexer": "ipython3",
   "version": "3.9.13"
  }
 },
 "nbformat": 4,
 "nbformat_minor": 5
}
