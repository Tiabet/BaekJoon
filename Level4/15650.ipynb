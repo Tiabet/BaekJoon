{
 "cells": [
  {
   "cell_type": "code",
   "execution_count": 1,
   "id": "e73f547c-0d8e-4460-97f5-99d206df5ffb",
   "metadata": {},
   "outputs": [
    {
     "name": "stdin",
     "output_type": "stream",
     "text": [
      " 4 4\n"
     ]
    }
   ],
   "source": [
    "n, m = map(int, input().split())"
   ]
  },
  {
   "cell_type": "code",
   "execution_count": 2,
   "id": "5fc49da2-811f-4030-8a0e-64f949b1ddae",
   "metadata": {},
   "outputs": [],
   "source": [
    "arr = [i for i in range(1,n+1)]"
   ]
  },
  {
   "cell_type": "code",
   "execution_count": 7,
   "id": "753d6323-9f12-4ca5-a76a-36284ffb16c3",
   "metadata": {},
   "outputs": [
    {
     "name": "stdout",
     "output_type": "stream",
     "text": [
      "1 1 1 1\n",
      "1 1 1 2\n",
      "1 1 1 3\n",
      "1 1 1 4\n",
      "1 1 2 2\n",
      "1 1 2 3\n",
      "1 1 2 4\n",
      "1 1 3 3\n",
      "1 1 3 4\n",
      "1 1 4 4\n",
      "1 2 2 2\n",
      "1 2 2 3\n",
      "1 2 2 4\n",
      "1 2 3 3\n",
      "1 2 3 4\n",
      "1 2 4 4\n",
      "1 3 3 3\n",
      "1 3 3 4\n",
      "1 3 4 4\n",
      "1 4 4 4\n",
      "2 2 2 2\n",
      "2 2 2 3\n",
      "2 2 2 4\n",
      "2 2 3 3\n",
      "2 2 3 4\n",
      "2 2 4 4\n",
      "2 3 3 3\n",
      "2 3 3 4\n",
      "2 3 4 4\n",
      "2 4 4 4\n",
      "3 3 3 3\n",
      "3 3 3 4\n",
      "3 3 4 4\n",
      "3 4 4 4\n",
      "4 4 4 4\n"
     ]
    }
   ],
   "source": [
    "ans = []\n",
    "\n",
    "def back():\n",
    "    if len(ans) == m:\n",
    "        print(\" \".join(map(str, ans)))\n",
    "        return \n",
    "    for i in range(1, n+1):\n",
    "        if  len(ans)==0 or (len(ans)!=0 and i>=ans[len(ans)-1]) :\n",
    "            ans.append(i)\n",
    "            back()\n",
    "            ans.pop() \n",
    "        \n",
    "        \n",
    "back()"
   ]
  },
  {
   "cell_type": "markdown",
   "id": "8f6c0b0c-9e20-4380-92ad-23b4150383bd",
   "metadata": {},
   "source": [
    "#### num = int(factorial(n)/(factorial(m)*factorial(n-m)))"
   ]
  },
  {
   "cell_type": "code",
   "execution_count": 15,
   "id": "e47c7fb6-8c14-43d9-bbca-3275a9e3df58",
   "metadata": {},
   "outputs": [
    {
     "data": {
      "text/plain": [
       "3"
      ]
     },
     "execution_count": 15,
     "metadata": {},
     "output_type": "execute_result"
    }
   ],
   "source": [
    "result = []\n",
    "start = arr[0]\n",
    "end = arr[0+m-1]\n",
    "for _ in range(num):\n",
    "    "
   ]
  },
  {
   "cell_type": "code",
   "execution_count": null,
   "id": "341882f3-6aa1-4376-b4e6-d2abbe3bc6fc",
   "metadata": {},
   "outputs": [],
   "source": []
  }
 ],
 "metadata": {
  "kernelspec": {
   "display_name": "Python 3 (ipykernel)",
   "language": "python",
   "name": "python3"
  },
  "language_info": {
   "codemirror_mode": {
    "name": "ipython",
    "version": 3
   },
   "file_extension": ".py",
   "mimetype": "text/x-python",
   "name": "python",
   "nbconvert_exporter": "python",
   "pygments_lexer": "ipython3",
   "version": "3.9.13"
  }
 },
 "nbformat": 4,
 "nbformat_minor": 5
}
