{
 "cells": [
  {
   "cell_type": "code",
   "execution_count": 53,
   "id": "15f57042-4af7-424f-9668-d1f6279fd020",
   "metadata": {},
   "outputs": [
    {
     "name": "stdin",
     "output_type": "stream",
     "text": [
      " 9 999\n"
     ]
    }
   ],
   "source": [
    "a, b = map(int, input().split())"
   ]
  },
  {
   "cell_type": "code",
   "execution_count": 54,
   "id": "374b85ef-ee1e-45de-9e4d-e261adfcd4b1",
   "metadata": {},
   "outputs": [],
   "source": [
    "count = 1\n",
    "while True:\n",
    "    if b % 2 !=0:\n",
    "        if b%10 == 1:\n",
    "            b = b//10\n",
    "            count+=1\n",
    "        else :\n",
    "            count=-1\n",
    "            break\n",
    "    else :\n",
    "        b = b//2\n",
    "        count+=1\n",
    "    print(b)\n",
    "    if b==a:\n",
    "        break\n",
    "    if a>b or b == 1 :\n",
    "        count = -1\n",
    "        break"
   ]
  },
  {
   "cell_type": "code",
   "execution_count": 55,
   "id": "81c4722e-e08a-4a80-9170-7a5b76599e23",
   "metadata": {},
   "outputs": [
    {
     "name": "stdout",
     "output_type": "stream",
     "text": [
      "-1\n"
     ]
    }
   ],
   "source": [
    "print(count)"
   ]
  },
  {
   "cell_type": "code",
   "execution_count": null,
   "id": "ac3dcd23-df5f-4730-a5ff-b5d46c013f45",
   "metadata": {},
   "outputs": [],
   "source": []
  }
 ],
 "metadata": {
  "kernelspec": {
   "display_name": "Python 3 (ipykernel)",
   "language": "python",
   "name": "python3"
  },
  "language_info": {
   "codemirror_mode": {
    "name": "ipython",
    "version": 3
   },
   "file_extension": ".py",
   "mimetype": "text/x-python",
   "name": "python",
   "nbconvert_exporter": "python",
   "pygments_lexer": "ipython3",
   "version": "3.9.13"
  }
 },
 "nbformat": 4,
 "nbformat_minor": 5
}
