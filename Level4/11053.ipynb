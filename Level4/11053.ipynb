{
 "cells": [
  {
   "cell_type": "code",
   "execution_count": 55,
   "id": "82307544-a129-4f74-8566-53ca02cca179",
   "metadata": {},
   "outputs": [
    {
     "name": "stdin",
     "output_type": "stream",
     "text": [
      " 20\n"
     ]
    }
   ],
   "source": [
    "n = int(input())"
   ]
  },
  {
   "cell_type": "code",
   "execution_count": 57,
   "id": "fda4262e-22de-41d5-a360-7188c9e3516a",
   "metadata": {},
   "outputs": [
    {
     "name": "stdin",
     "output_type": "stream",
     "text": [
      " 322 831 212 232 545 698 260 265 324 215 701 75 156 605 851 993 425 887 691 593\n"
     ]
    }
   ],
   "source": [
    "nums = list(map(int,input().split()))"
   ]
  },
  {
   "cell_type": "code",
   "execution_count": 58,
   "id": "97809abc-a0d5-48ad-87bf-6ac7026bcc83",
   "metadata": {},
   "outputs": [],
   "source": [
    "dp = []"
   ]
  },
  {
   "cell_type": "code",
   "execution_count": 59,
   "id": "7ae05b89-37f9-4956-985e-25a231d1e9e8",
   "metadata": {},
   "outputs": [],
   "source": [
    "for i in range(n-1,-1,-1):\n",
    "    start_value = nums[i]\n",
    "    ans = []\n",
    "    ans.append(start_value)\n",
    "    for j in range(i,-1,-1):\n",
    "        if nums[j]<start_value:\n",
    "            start_value = nums[j]\n",
    "            ans.append(start_value)\n",
    "    dp.append(len(ans))"
   ]
  },
  {
   "cell_type": "code",
   "execution_count": 60,
   "id": "3bcd9ccf-1051-43d6-8578-08250b5f1808",
   "metadata": {},
   "outputs": [
    {
     "name": "stdout",
     "output_type": "stream",
     "text": [
      "5\n"
     ]
    }
   ],
   "source": [
    "print(max(dp))"
   ]
  },
  {
   "cell_type": "code",
   "execution_count": null,
   "id": "40d93689-8766-44b6-aa00-22ac00972901",
   "metadata": {},
   "outputs": [],
   "source": []
  }
 ],
 "metadata": {
  "kernelspec": {
   "display_name": "Python 3 (ipykernel)",
   "language": "python",
   "name": "python3"
  },
  "language_info": {
   "codemirror_mode": {
    "name": "ipython",
    "version": 3
   },
   "file_extension": ".py",
   "mimetype": "text/x-python",
   "name": "python",
   "nbconvert_exporter": "python",
   "pygments_lexer": "ipython3",
   "version": "3.9.13"
  }
 },
 "nbformat": 4,
 "nbformat_minor": 5
}
