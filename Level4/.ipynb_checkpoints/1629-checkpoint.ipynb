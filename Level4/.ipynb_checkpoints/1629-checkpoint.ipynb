{
 "cells": [
  {
   "cell_type": "code",
   "execution_count": 24,
   "id": "5d1b86a0-1e26-404a-b5c7-74dee702e652",
   "metadata": {},
   "outputs": [
    {
     "name": "stdin",
     "output_type": "stream",
     "text": [
      " 6 11 13\n"
     ]
    }
   ],
   "source": [
    "a, b, c = map(int, input().split())"
   ]
  },
  {
   "cell_type": "code",
   "execution_count": 31,
   "id": "ded758fb-a51d-4a63-87c3-b8374a9fa2e3",
   "metadata": {},
   "outputs": [
    {
     "name": "stdout",
     "output_type": "stream",
     "text": [
      "6\n",
      "10\n",
      "8\n",
      "9\n",
      "2\n",
      "12\n",
      "7\n",
      "3\n",
      "5\n",
      "4\n",
      "11\n"
     ]
    }
   ],
   "source": [
    "res = 1\n",
    "for _ in range(b):\n",
    "    res*=a\n",
    "    res%=c\n",
    "    "
   ]
  },
  {
   "cell_type": "code",
   "execution_count": 32,
   "id": "fe8693d1-54a1-452f-8fb2-2e45237f4f9c",
   "metadata": {},
   "outputs": [
    {
     "data": {
      "text/plain": [
       "11"
      ]
     },
     "execution_count": 32,
     "metadata": {},
     "output_type": "execute_result"
    }
   ],
   "source": [
    "res"
   ]
  },
  {
   "cell_type": "code",
   "execution_count": 15,
   "id": "ee6b1bdc-8590-463f-91b1-9d34a50ba4c8",
   "metadata": {},
   "outputs": [],
   "source": [
    "num = res%c"
   ]
  },
  {
   "cell_type": "code",
   "execution_count": 16,
   "id": "d2beb22f-ed67-4f63-8f00-afe9b65eac26",
   "metadata": {},
   "outputs": [
    {
     "name": "stdout",
     "output_type": "stream",
     "text": [
      "4\n"
     ]
    }
   ],
   "source": [
    "print(num)"
   ]
  },
  {
   "cell_type": "markdown",
   "id": "99fdecfc-94b9-4439-b1d5-2b692931346e",
   "metadata": {},
   "source": [
    "6\n",
    "36 = 2*13 + 10\n",
    "(2*13 + 10)*6 = 12*13 + 4*13 + 8\n",
    "48/13 9\n",
    "54/13 2\n",
    "12/13 12\n",
    "72/13 7\n",
    "42/13 3\n",
    "18/13 5\n",
    "30/13 4\n",
    "24/13 11"
   ]
  },
  {
   "cell_type": "code",
   "execution_count": null,
   "id": "e099d8c2-d974-46c2-9166-33a5f1aa5b98",
   "metadata": {},
   "outputs": [],
   "source": []
  }
 ],
 "metadata": {
  "kernelspec": {
   "display_name": "Python 3 (ipykernel)",
   "language": "python",
   "name": "python3"
  },
  "language_info": {
   "codemirror_mode": {
    "name": "ipython",
    "version": 3
   },
   "file_extension": ".py",
   "mimetype": "text/x-python",
   "name": "python",
   "nbconvert_exporter": "python",
   "pygments_lexer": "ipython3",
   "version": "3.9.13"
  }
 },
 "nbformat": 4,
 "nbformat_minor": 5
}
