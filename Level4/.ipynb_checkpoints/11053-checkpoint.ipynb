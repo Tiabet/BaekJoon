{
 "cells": [
  {
   "cell_type": "code",
   "execution_count": 55,
   "id": "82307544-a129-4f74-8566-53ca02cca179",
   "metadata": {},
   "outputs": [
    {
     "name": "stdin",
     "output_type": "stream",
     "text": [
      " 20\n"
     ]
    }
   ],
   "source": [
    "n = int(input())"
   ]
  },
  {
   "cell_type": "code",
   "execution_count": 57,
   "id": "fda4262e-22de-41d5-a360-7188c9e3516a",
   "metadata": {},
   "outputs": [
    {
     "name": "stdin",
     "output_type": "stream",
     "text": [
      " 322 831 212 232 545 698 260 265 324 215 701 75 156 605 851 993 425 887 691 593\n"
     ]
    }
   ],
   "source": [
    "nums = list(map(int,input().split()))"
   ]
  },
  {
   "cell_type": "code",
   "execution_count": 76,
   "id": "97809abc-a0d5-48ad-87bf-6ac7026bcc83",
   "metadata": {},
   "outputs": [],
   "source": [
    "dp = [[] for _ in range(n)]"
   ]
  },
  {
   "cell_type": "markdown",
   "id": "f076db5b-1036-48ad-82d3-a0b143696fd6",
   "metadata": {},
   "source": [
    "for i in range(n-1,-1,-1):\n",
    "    start_value = nums[i]\n",
    "    ans = []\n",
    "    ans.append(start_value)\n",
    "    for j in range(i,-1,-1):\n",
    "        if nums[j]<start_value:\n",
    "            start_value = nums[j]\n",
    "            ans.append(start_value)\n",
    "    dp.append(len(ans))"
   ]
  },
  {
   "cell_type": "markdown",
   "id": "3e082ab4-1065-4b99-8e9a-c1dbee48e922",
   "metadata": {},
   "source": [
    "print(max(dp))"
   ]
  },
  {
   "cell_type": "code",
   "execution_count": 77,
   "id": "40d93689-8766-44b6-aa00-22ac00972901",
   "metadata": {},
   "outputs": [],
   "source": [
    "dp[0].append(nums[0])\n",
    "for i in range(1,n):\n",
    "    dp[i].append(nums[i])\n",
    "    for j in range(0,i+1):\n",
    "        if max(dp[j])<nums[i]:\n",
    "            dp[j].append(nums[i])\n",
    "    "
   ]
  },
  {
   "cell_type": "code",
   "execution_count": 78,
   "id": "511b287b-1cb2-40f6-bcfd-33936dd780d3",
   "metadata": {},
   "outputs": [
    {
     "data": {
      "text/plain": [
       "[[322, 831, 851, 993],\n",
       " [831, 851, 993],\n",
       " [212, 232, 545, 698, 701, 851, 993],\n",
       " [232, 545, 698, 701, 851, 993],\n",
       " [545, 698, 701, 851, 993],\n",
       " [698, 701, 851, 993],\n",
       " [260, 265, 324, 701, 851, 993],\n",
       " [265, 324, 701, 851, 993],\n",
       " [324, 701, 851, 993],\n",
       " [215, 701, 851, 993],\n",
       " [701, 851, 993],\n",
       " [75, 156, 605, 851, 993],\n",
       " [156, 605, 851, 993],\n",
       " [605, 851, 993],\n",
       " [851, 993],\n",
       " [993],\n",
       " [425, 887],\n",
       " [887],\n",
       " [691],\n",
       " [593]]"
      ]
     },
     "execution_count": 78,
     "metadata": {},
     "output_type": "execute_result"
    }
   ],
   "source": [
    "dp"
   ]
  },
  {
   "cell_type": "code",
   "execution_count": 80,
   "id": "81e2b619-bdd9-43c1-ae31-2752c45dd1be",
   "metadata": {},
   "outputs": [
    {
     "name": "stdin",
     "output_type": "stream",
     "text": [
      " 20\n",
      " 322 831 212 232 545 698 260 265 324 215 701 75 156 605 851 993 425 887 691 593\n"
     ]
    },
    {
     "name": "stdout",
     "output_type": "stream",
     "text": [
      "[1, 2, 1, 1, 1, 1, 1, 1, 1, 1, 1, 1, 1, 1, 1, 1, 1, 1, 1, 1]\n",
      "[1, 2, 1, 1, 1, 1, 1, 1, 1, 1, 1, 1, 1, 1, 1, 1, 1, 1, 1, 1]\n",
      "[1, 2, 1, 2, 1, 1, 1, 1, 1, 1, 1, 1, 1, 1, 1, 1, 1, 1, 1, 1]\n",
      "[1, 2, 1, 2, 3, 1, 1, 1, 1, 1, 1, 1, 1, 1, 1, 1, 1, 1, 1, 1]\n",
      "[1, 2, 1, 2, 3, 4, 1, 1, 1, 1, 1, 1, 1, 1, 1, 1, 1, 1, 1, 1]\n",
      "[1, 2, 1, 2, 3, 4, 3, 1, 1, 1, 1, 1, 1, 1, 1, 1, 1, 1, 1, 1]\n",
      "[1, 2, 1, 2, 3, 4, 3, 4, 1, 1, 1, 1, 1, 1, 1, 1, 1, 1, 1, 1]\n",
      "[1, 2, 1, 2, 3, 4, 3, 4, 5, 1, 1, 1, 1, 1, 1, 1, 1, 1, 1, 1]\n",
      "[1, 2, 1, 2, 3, 4, 3, 4, 5, 2, 1, 1, 1, 1, 1, 1, 1, 1, 1, 1]\n",
      "[1, 2, 1, 2, 3, 4, 3, 4, 5, 2, 6, 1, 1, 1, 1, 1, 1, 1, 1, 1]\n",
      "[1, 2, 1, 2, 3, 4, 3, 4, 5, 2, 6, 1, 1, 1, 1, 1, 1, 1, 1, 1]\n",
      "[1, 2, 1, 2, 3, 4, 3, 4, 5, 2, 6, 1, 2, 1, 1, 1, 1, 1, 1, 1]\n",
      "[1, 2, 1, 2, 3, 4, 3, 4, 5, 2, 6, 1, 2, 6, 1, 1, 1, 1, 1, 1]\n",
      "[1, 2, 1, 2, 3, 4, 3, 4, 5, 2, 6, 1, 2, 6, 7, 1, 1, 1, 1, 1]\n",
      "[1, 2, 1, 2, 3, 4, 3, 4, 5, 2, 6, 1, 2, 6, 7, 8, 1, 1, 1, 1]\n",
      "[1, 2, 1, 2, 3, 4, 3, 4, 5, 2, 6, 1, 2, 6, 7, 8, 6, 1, 1, 1]\n",
      "[1, 2, 1, 2, 3, 4, 3, 4, 5, 2, 6, 1, 2, 6, 7, 8, 6, 8, 1, 1]\n",
      "[1, 2, 1, 2, 3, 4, 3, 4, 5, 2, 6, 1, 2, 6, 7, 8, 6, 8, 7, 1]\n",
      "[1, 2, 1, 2, 3, 4, 3, 4, 5, 2, 6, 1, 2, 6, 7, 8, 6, 8, 7, 7]\n",
      "8\n"
     ]
    }
   ],
   "source": [
    "def longest_increasing_subsequence(nums):\n",
    "    n = len(nums)\n",
    "    lis = [1] * n\n",
    "\n",
    "    for i in range(1, n):\n",
    "        for j in range(i):\n",
    "            if nums[i] > nums[j]:\n",
    "                lis[i] = max(lis[i], lis[j] + 1)\n",
    "        print(lis)\n",
    "\n",
    "    return max(lis)\n",
    "\n",
    "# 입력 받기\n",
    "n = int(input())\n",
    "nums = list(map(int, input().split()))\n",
    "\n",
    "# 결과 출력\n",
    "print(longest_increasing_subsequence(nums))"
   ]
  },
  {
   "cell_type": "code",
   "execution_count": null,
   "id": "d5911c25-e1c2-4ca3-8479-f4eab5015b32",
   "metadata": {},
   "outputs": [],
   "source": []
  }
 ],
 "metadata": {
  "kernelspec": {
   "display_name": "Python 3 (ipykernel)",
   "language": "python",
   "name": "python3"
  },
  "language_info": {
   "codemirror_mode": {
    "name": "ipython",
    "version": 3
   },
   "file_extension": ".py",
   "mimetype": "text/x-python",
   "name": "python",
   "nbconvert_exporter": "python",
   "pygments_lexer": "ipython3",
   "version": "3.9.13"
  }
 },
 "nbformat": 4,
 "nbformat_minor": 5
}
