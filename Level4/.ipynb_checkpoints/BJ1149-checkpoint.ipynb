{
 "cells": [
  {
   "cell_type": "code",
   "execution_count": 19,
   "id": "677c2699-a885-4564-84c4-66ee360331ce",
   "metadata": {},
   "outputs": [
    {
     "name": "stdin",
     "output_type": "stream",
     "text": [
      " 3\n"
     ]
    }
   ],
   "source": [
    "n = int(input())"
   ]
  },
  {
   "cell_type": "code",
   "execution_count": 20,
   "id": "318d30c7-402c-447b-898e-989846ac6658",
   "metadata": {},
   "outputs": [
    {
     "name": "stdin",
     "output_type": "stream",
     "text": [
      " 9 10 10\n",
      " 10 9 10\n",
      " 10 10 9\n"
     ]
    }
   ],
   "source": [
    "red = []\n",
    "green = []\n",
    "blue = []\n",
    "for _ in range(n):\n",
    "    r,g,b = map(int, input().split())\n",
    "    red.append(r)\n",
    "    green.append(g)\n",
    "    blue.append(b)"
   ]
  },
  {
   "cell_type": "code",
   "execution_count": 21,
   "id": "473259ac-9680-4287-9630-9d93fa39053c",
   "metadata": {},
   "outputs": [],
   "source": [
    "total = 0\n",
    "chosen_before =  min(red[0],green[0],blue[0])\n",
    "total += chosen_before"
   ]
  },
  {
   "cell_type": "code",
   "execution_count": 22,
   "id": "b2f6c882-21ba-454c-b42c-d5292b309a4c",
   "metadata": {},
   "outputs": [],
   "source": [
    "for i in range(1,n):\n",
    "    if red[i-1] == chosen_before:\n",
    "        total += min(green[i],blue[i])\n",
    "        chosen_before = min(green[i],blue[i])\n",
    "    elif blue[i-1] == chosen_before :\n",
    "        total += min(green[i],red[i])\n",
    "        chosen_before = min(green[i],red[i])\n",
    "    elif green[i-1] == chosen_before :\n",
    "        total += min(blue[i],red[i])\n",
    "        chosen_before = min(blue[i],red[i])"
   ]
  },
  {
   "cell_type": "code",
   "execution_count": 23,
   "id": "15acf406-54ad-4d52-9fbd-06a514ee0659",
   "metadata": {},
   "outputs": [
    {
     "data": {
      "text/plain": [
       "27"
      ]
     },
     "execution_count": 23,
     "metadata": {},
     "output_type": "execute_result"
    }
   ],
   "source": [
    "total"
   ]
  },
  {
   "cell_type": "code",
   "execution_count": 24,
   "id": "323284ee-2d58-4315-b692-751339b502d7",
   "metadata": {},
   "outputs": [
    {
     "name": "stdin",
     "output_type": "stream",
     "text": [
      " 3\n",
      " 1 1 9\n",
      " 10 1 1\n",
      " 100 11 1\n"
     ]
    },
    {
     "name": "stdout",
     "output_type": "stream",
     "text": [
      "3\n"
     ]
    }
   ],
   "source": [
    "n=int(input())\n",
    "dp=[list(map(int,input().split())) for _ in range(n)]\n",
    "ans=[[0]*3 for _ in range(n+1)]\n",
    "for i in range(1,n+1):\n",
    "    ans[i][0] = min(ans[i-1][1],ans[i-1][2])+dp[i-1][0]\n",
    "    ans[i][1] = min(ans[i-1][0],ans[i-1][2])+dp[i-1][1]\n",
    "    ans[i][2] = min(ans[i-1][0],ans[i-1][1])+dp[i-1][2]\n",
    "print(min(ans[n][0],ans[n][1],ans[n][2]))"
   ]
  },
  {
   "cell_type": "code",
   "execution_count": null,
   "id": "2432af98-3a9e-4f94-9f0e-c71e119fba53",
   "metadata": {},
   "outputs": [],
   "source": []
  }
 ],
 "metadata": {
  "kernelspec": {
   "display_name": "Python 3 (ipykernel)",
   "language": "python",
   "name": "python3"
  },
  "language_info": {
   "codemirror_mode": {
    "name": "ipython",
    "version": 3
   },
   "file_extension": ".py",
   "mimetype": "text/x-python",
   "name": "python",
   "nbconvert_exporter": "python",
   "pygments_lexer": "ipython3",
   "version": "3.9.13"
  }
 },
 "nbformat": 4,
 "nbformat_minor": 5
}
