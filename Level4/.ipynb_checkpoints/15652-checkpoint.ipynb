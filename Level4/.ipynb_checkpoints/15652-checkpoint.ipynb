{
 "cells": [
  {
   "cell_type": "code",
   "execution_count": 3,
   "id": "3dc9c03a-ccaf-4368-b0fc-785afc85136a",
   "metadata": {},
   "outputs": [
    {
     "name": "stdin",
     "output_type": "stream",
     "text": [
      " 4 2\n"
     ]
    }
   ],
   "source": [
    "n, m = map(int, input().split())"
   ]
  },
  {
   "cell_type": "code",
   "execution_count": 4,
   "id": "08ce7e6d-de6f-4df0-89e2-867ef587599d",
   "metadata": {},
   "outputs": [
    {
     "name": "stdout",
     "output_type": "stream",
     "text": [
      "1 1\n",
      "1 2\n",
      "1 3\n",
      "1 4\n",
      "2 2\n",
      "2 3\n",
      "2 4\n",
      "3 3\n",
      "3 4\n",
      "4 4\n"
     ]
    }
   ],
   "source": [
    "ans = []\n",
    "\n",
    "def back():\n",
    "    if len(ans) == m:\n",
    "        print(\" \".join(map(str, ans)))\n",
    "        return \n",
    "    for i in range(1, n+1):\n",
    "        if  len(ans)==0 or (len(ans)!=0 and i>=ans[len(ans)-1]) :\n",
    "            ans.append(i)\n",
    "            back()\n",
    "            ans.pop() \n",
    "        \n",
    "        \n",
    "back()"
   ]
  },
  {
   "cell_type": "code",
   "execution_count": null,
   "id": "a6ef31a0-95df-4d5c-8133-10c90e0cf5ba",
   "metadata": {},
   "outputs": [],
   "source": [
    "if len(ans) == m :\n",
    "    print(\" \".join(map(str,ans)))\n",
    "    return\n",
    "for i in range(1,n+1):\n",
    "    if len(ans)==0 or (len(ans)!=0 and i>ans[len(ans)-1]):\n",
    "        ans.append(i)\n",
    "        back()\n",
    "        ans.pop()"
   ]
  }
 ],
 "metadata": {
  "kernelspec": {
   "display_name": "Python 3 (ipykernel)",
   "language": "python",
   "name": "python3"
  },
  "language_info": {
   "codemirror_mode": {
    "name": "ipython",
    "version": 3
   },
   "file_extension": ".py",
   "mimetype": "text/x-python",
   "name": "python",
   "nbconvert_exporter": "python",
   "pygments_lexer": "ipython3",
   "version": "3.9.13"
  }
 },
 "nbformat": 4,
 "nbformat_minor": 5
}
