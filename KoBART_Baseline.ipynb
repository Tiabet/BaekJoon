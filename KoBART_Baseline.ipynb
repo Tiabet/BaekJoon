{
  "nbformat": 4,
  "nbformat_minor": 0,
  "metadata": {
    "colab": {
      "provenance": [],
      "machine_shape": "hm",
      "gpuType": "T4",
      "mount_file_id": "1IYGsEZrPu20mThSN4-mG1p5RxL7I1KKf",
      "authorship_tag": "ABX9TyPkRzRhWuSdf+tkIEL1obeU",
      "include_colab_link": true
    },
    "kernelspec": {
      "name": "python3",
      "display_name": "Python 3"
    },
    "language_info": {
      "name": "python"
    },
    "accelerator": "GPU"
  },
  "cells": [
    {
      "cell_type": "markdown",
      "metadata": {
        "id": "view-in-github",
        "colab_type": "text"
      },
      "source": [
        "<a href=\"https://colab.research.google.com/github/Tiabet/BaekJoon/blob/main/KoBART_Baseline.ipynb\" target=\"_parent\"><img src=\"https://colab.research.google.com/assets/colab-badge.svg\" alt=\"Open In Colab\"/></a>"
      ]
    },
    {
      "cell_type": "code",
      "execution_count": null,
      "metadata": {
        "id": "A2P9i6LD1fQD"
      },
      "outputs": [],
      "source": [
        "%%capture\n",
        "import locale\n",
        "locale.getpreferredencoding = lambda: \"UTF-8\"\n",
        "\n",
        "!pip install transformers\n",
        "!pip install accelerate\n",
        "!pip install datasets\n",
        "!pip install evaluate\n",
        "!pip install rouge\n",
        "!pip install konlpy\n",
        "!pip install pytorch-lightning"
      ]
    },
    {
      "cell_type": "code",
      "source": [
        "import json\n",
        "import pandas as pd\n",
        "\n",
        "import logging\n",
        "import sys\n",
        "\n",
        "from datasets import Dataset\n",
        "from torch.utils.data import DataLoader\n",
        "from tokenizers.processors import TemplateProcessing\n",
        "import pytorch_lightning as pl\n",
        "from pytorch_lightning.callbacks import LearningRateMonitor\n",
        "from pytorch_lightning.loggers import TensorBoardLogger, WandbLogger\n",
        "import torch\n",
        "import torch.nn.functional as F\n",
        "import torchmetrics\n",
        "from torch.optim.lr_scheduler import CyclicLR\n",
        "from transformers import BartForConditionalGeneration, AutoTokenizer"
      ],
      "metadata": {
        "id": "Oq2yo9jA6xh0"
      },
      "execution_count": null,
      "outputs": []
    },
    {
      "cell_type": "markdown",
      "source": [
        "DATA"
      ],
      "metadata": {
        "id": "erpcCejTG5CZ"
      }
    },
    {
      "cell_type": "code",
      "source": [
        "def jsonlload(fname):\n",
        "    with open(fname, \"r\", encoding=\"utf-8\") as f:\n",
        "        lines = f.read().strip().split(\"\\n\")\n",
        "        j_list = [json.loads(line) for line in lines]\n",
        "\n",
        "    return j_list\n",
        "\n",
        "\n",
        "def jsonldump(j_list, fname):\n",
        "    with open(fname, \"w\", encoding='utf-8') as f:\n",
        "        for json_data in j_list:\n",
        "            f.write(json.dumps(json_data, ensure_ascii=False)+'\\n')"
      ],
      "metadata": {
        "id": "2dUfe_WS3qey"
      },
      "execution_count": null,
      "outputs": []
    },
    {
      "cell_type": "code",
      "source": [
        "def StoryDataLoader(fname, tokenizer, batch_size, max_length, mode=\"train\"):\n",
        "    \"\"\"\n",
        "    Build Data Loader\n",
        "\n",
        "    \"\"\"\n",
        "\n",
        "    dataset = Dataset.from_json(fname, mode)\n",
        "\n",
        "    if not tokenizer.cls_token:\n",
        "        tokenizer.cls_token = tokenizer.bos_token\n",
        "    if not tokenizer.sep_token:\n",
        "        tokenizer.sep_token = tokenizer.eos_token\n",
        "\n",
        "    tokenizer._tokenizer.post_processor = TemplateProcessing(\n",
        "        single=f\"{tokenizer.cls_token} $0 {tokenizer.sep_token}\",\n",
        "        pair=f\"{tokenizer.cls_token} $A {tokenizer.sep_token} $B:1 {tokenizer.sep_token}:1\",\n",
        "        special_tokens=[(tokenizer.cls_token, tokenizer.cls_token_id), (tokenizer.sep_token, tokenizer.sep_token_id)],\n",
        "    )\n",
        "\n",
        "    def preprocess_function(examples):\n",
        "        processed = {}\n",
        "        tokenizer_input = tokenizer(\n",
        "            examples[\"input\"][\"sentence1\"],\n",
        "            examples[\"input\"][\"sentence3\"],\n",
        "            padding=\"max_length\",\n",
        "            max_length=max_length,\n",
        "            truncation=True\n",
        "        )\n",
        "        processed[\"input_ids\"] = tokenizer_input[\"input_ids\"],\n",
        "        processed[\"attention_mask\"] = tokenizer_input[\"attention_mask\"]\n",
        "\n",
        "        if mode == \"train\":\n",
        "            tokenizer_output = tokenizer(\n",
        "                examples[\"output\"],\n",
        "                padding=\"max_length\",\n",
        "                max_length=max_length,\n",
        "                truncation=True\n",
        "            )\n",
        "            processed[\"decoder_input_ids\"] = tokenizer_output[\"input_ids\"]\n",
        "            processed[\"decoder_attention_mask\"] = tokenizer_output[\"attention_mask\"]\n",
        "\n",
        "        return processed\n",
        "\n",
        "    dataset = dataset.map(\n",
        "        preprocess_function,\n",
        "        remove_columns=dataset.column_names\n",
        "    ).with_format(\"torch\")\n",
        "    dataloader = DataLoader(dataset, shuffle=(True if mode==\"train\" else False), batch_size=batch_size)\n",
        "\n",
        "    return dataloader\n"
      ],
      "metadata": {
        "id": "mkD495zk4gcQ"
      },
      "execution_count": null,
      "outputs": []
    },
    {
      "cell_type": "markdown",
      "source": [
        "MODULE"
      ],
      "metadata": {
        "id": "6uCxl5LRIR7I"
      }
    },
    {
      "cell_type": "markdown",
      "source": [
        "UTILS"
      ],
      "metadata": {
        "id": "_0p0P2V_IT4e"
      }
    },
    {
      "cell_type": "code",
      "source": [
        "def get_logger(name: str) -> logging.Logger:\n",
        "    \"\"\"Return logger for logging\n",
        "\n",
        "    Args:\n",
        "        name: logger name\n",
        "    \"\"\"\n",
        "    logger = logging.getLogger(name)\n",
        "    logger.propagate = False\n",
        "    logger.setLevel(logging.DEBUG)\n",
        "    if not logger.handlers:\n",
        "        handler = logging.StreamHandler(sys.stdout)\n",
        "        handler.setFormatter(logging.Formatter(\"[%(asctime)s] %(message)s\"))\n",
        "        logger.addHandler(handler)\n",
        "    return logger\n"
      ],
      "metadata": {
        "id": "IXev1ZL0IO5D"
      },
      "execution_count": null,
      "outputs": []
    },
    {
      "cell_type": "markdown",
      "source": [
        "Train"
      ],
      "metadata": {
        "id": "XHaglVHbIgms"
      }
    },
    {
      "cell_type": "code",
      "source": [
        "import os\n",
        "import pytorch_lightning as pl\n",
        "from pytorch_lightning.callbacks import LearningRateMonitor\n",
        "from pytorch_lightning.loggers import TensorBoardLogger, WandbLogger\n",
        "from transformers import BartForConditionalGeneration, AutoTokenizer\n",
        "\n",
        "\n",
        "# Define your configuration parameters here\n",
        "output_dir = \"/content/drive/MyDrive\"\n",
        "model_path = \"gogamza/kobart-base-v2\"\n",
        "tokenizer_path = \"gogamza/kobart-base-v2\"\n",
        "batch_size = 4\n",
        "valid_batch_size = 4\n",
        "max_seq_len = 512\n",
        "accumulate_grad_batches = 1\n",
        "epochs = 10\n",
        "max_learning_rate = 2e-4\n",
        "min_learning_rate = 1e-5\n",
        "warmup_rate = 0.1\n",
        "gpus = 1  # Set this to 0 if you want to run on CPU\n",
        "logging_interval = 100\n",
        "evaluate_interval = 500\n",
        "seed = 42\n",
        "\n",
        "\n",
        "tokenizer = AutoTokenizer.from_pretrained(tokenizer_path)\n",
        "# Define your BART model and its configuration\n",
        "model = BartForConditionalGeneration.from_pretrained(model_path)\n",
        "model.config.max_length = max_seq_len\n",
        "\n",
        "\n",
        "train_dataloader = StoryDataLoader(\"/content/drive/MyDrive/nikluge-sc-2023-test.jsonl\", tokenizer, batch_size, max_seq_len)\n",
        "valid_dataloader = StoryDataLoader(\"/content/drive/MyDrive/nikluge-sc-2023-dev.jsonl\", tokenizer, valid_batch_size, max_seq_len)\n",
        "total_steps = len(train_dataloader) * epochs\n"
      ],
      "metadata": {
        "colab": {
          "base_uri": "https://localhost:8080/"
        },
        "id": "udM_bbVvIdl0",
        "outputId": "66164162-d0ec-4f66-aa6b-7dfa301018b1"
      },
      "execution_count": null,
      "outputs": [
        {
          "output_type": "stream",
          "name": "stderr",
          "text": [
            "INFO:lightning_fabric.utilities.seed:Global seed set to 42\n"
          ]
        },
        {
          "output_type": "stream",
          "name": "stdout",
          "text": [
            "[+] Save output to \"/content/drive/MyDrive\"\n",
            "[+] Set Random Seed to 42\n",
            "[+] GPU: 1\n",
            "[+] Load Tokenizer\"\n"
          ]
        },
        {
          "output_type": "stream",
          "name": "stderr",
          "text": [
            "You passed along `num_labels=3` with an incompatible id to label map: {'0': 'NEGATIVE', '1': 'POSITIVE'}. The number of labels wil be overwritten to 2.\n",
            "You passed along `num_labels=3` with an incompatible id to label map: {'0': 'NEGATIVE', '1': 'POSITIVE'}. The number of labels wil be overwritten to 2.\n",
            "Using cls_token, but it is not set yet.\n",
            "Using sep_token, but it is not set yet.\n"
          ]
        },
        {
          "output_type": "stream",
          "name": "stdout",
          "text": [
            "[+] Load Dataset\n"
          ]
        }
      ]
    },
    {
      "cell_type": "code",
      "source": [
        "class BARTFinetuner(pl.LightningModule):\n",
        "    def __init__(self, model, tokenizer, learning_rate, warmup_steps):\n",
        "        super().__init__()\n",
        "        self.model = model\n",
        "        self.tokenizer = tokenizer\n",
        "        self.learning_rate = learning_rate\n",
        "        self.warmup_steps = warmup_steps\n",
        "\n",
        "    def forward(self, input_ids, attention_mask, decoder_input_ids, decoder_attention_mask):\n",
        "        return self.model(\n",
        "            input_ids=input_ids,\n",
        "            attention_mask=attention_mask,\n",
        "            decoder_input_ids=decoder_input_ids,\n",
        "            decoder_attention_mask=decoder_attention_mask,\n",
        "            labels=decoder_input_ids\n",
        "        )\n",
        "\n",
        "    def training_step(self, batch, batch_idx):\n",
        "        input_ids = batch[\"input_ids\"]\n",
        "        attention_mask = batch[\"attention_mask\"]\n",
        "        decoder_input_ids = batch[\"decoder_input_ids\"]\n",
        "        decoder_attention_mask = batch[\"decoder_attention_mask\"]\n",
        "\n",
        "        outputs = self(\n",
        "            input_ids=input_ids,\n",
        "            attention_mask=attention_mask,\n",
        "            decoder_input_ids=decoder_input_ids,\n",
        "            decoder_attention_mask=decoder_attention_mask\n",
        "        )\n",
        "\n",
        "        loss = outputs.loss\n",
        "        return loss\n",
        "\n",
        "    def configure_optimizers(self):\n",
        "        optimizer = torch.optim.AdamW(self.parameters(), lr=self.learning_rate)\n",
        "        scheduler = torch.optim.lr_scheduler.StepLR(optimizer, step_size=self.warmup_steps, gamma=0.1)\n",
        "        return [optimizer], [scheduler]\n",
        "\n",
        "# Create the Lightning module\n",
        "bart_finetuner = BARTFinetuner(model, tokenizer, learning_rate=max_learning_rate, warmup_steps=total_steps * warmup_rate)\n"
      ],
      "metadata": {
        "id": "2UNfseQvmoTe"
      },
      "execution_count": null,
      "outputs": []
    },
    {
      "cell_type": "code",
      "source": [
        "# Define callbacks\n",
        "lr_monitor = LearningRateMonitor(logging_interval='step')\n",
        "tensorboard_logger = TensorBoardLogger(output_dir, name='logs')\n",
        "wandb_logger = WandbLogger(name='wandb_logs', save_dir=output_dir)\n",
        "\n",
        "# Initialize the Trainer\n",
        "trainer = pl.Trainer(\n",
        "    gpus=gpus,\n",
        "    max_epochs=epochs,\n",
        "    accumulate_grad_batches=accumulate_grad_batches,\n",
        "    logger=[tensorboard_logger, wandb_logger],  # You can choose one or both\n",
        "    callbacks=[lr_monitor],\n",
        "    log_every_n_steps=logging_interval,\n",
        "    val_check_interval=evaluate_interval,\n",
        ")\n",
        "\n",
        "# Train the model\n",
        "trainer.fit(bart_finetuner, train_dataloader, valid_dataloader)\n"
      ],
      "metadata": {
        "id": "Xk_-dBgY_7PL"
      },
      "execution_count": null,
      "outputs": []
    },
    {
      "cell_type": "code",
      "source": [
        "# Save the trained model\n",
        "model.save_pretrained(output_dir)"
      ],
      "metadata": {
        "id": "YeBZw8Xt_8ku"
      },
      "execution_count": null,
      "outputs": []
    }
  ]
}