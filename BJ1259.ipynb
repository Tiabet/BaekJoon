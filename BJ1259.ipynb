{
 "cells": [
  {
   "cell_type": "markdown",
   "id": "b87380c1",
   "metadata": {},
   "source": [
    "팰린드롬수\n",
    "대칭인 수를 찾는 문제이다."
   ]
  },
  {
   "cell_type": "code",
   "execution_count": 5,
   "id": "05b59039",
   "metadata": {},
   "outputs": [
    {
     "name": "stdout",
     "output_type": "stream",
     "text": [
      "12321\n",
      "yes\n",
      "1234\n",
      "no\n",
      "22\n",
      "yes\n",
      "2332\n",
      "yes\n",
      "0\n"
     ]
    }
   ],
   "source": [
    "while True :\n",
    "    num = input()\n",
    "    if num == '0':\n",
    "        break;\n",
    "    reverse_num = num[::-1]\n",
    "    if reverse_num == num:\n",
    "        print(\"yes\")\n",
    "    else:\n",
    "        print(\"no\")"
   ]
  },
  {
   "cell_type": "markdown",
   "id": "728a01f9",
   "metadata": {},
   "source": [
    "문자열을 뒤집는 방법이 여러개 있지만 slice 기능을 사용해서 뒤집어보았다."
   ]
  },
  {
   "cell_type": "code",
   "execution_count": null,
   "id": "3b8aee18",
   "metadata": {},
   "outputs": [],
   "source": []
  }
 ],
 "metadata": {
  "kernelspec": {
   "display_name": "Python 3 (ipykernel)",
   "language": "python",
   "name": "python3"
  },
  "language_info": {
   "codemirror_mode": {
    "name": "ipython",
    "version": 3
   },
   "file_extension": ".py",
   "mimetype": "text/x-python",
   "name": "python",
   "nbconvert_exporter": "python",
   "pygments_lexer": "ipython3",
   "version": "3.9.13"
  }
 },
 "nbformat": 4,
 "nbformat_minor": 5
}
