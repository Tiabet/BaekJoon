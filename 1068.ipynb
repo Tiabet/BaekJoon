{
 "cells": [
  {
   "cell_type": "code",
   "execution_count": 1,
   "id": "4a6a9463-2d25-470b-a217-505bae6dfa94",
   "metadata": {},
   "outputs": [
    {
     "name": "stdin",
     "output_type": "stream",
     "text": [
      " 5\n"
     ]
    }
   ],
   "source": [
    "n = int(input())"
   ]
  },
  {
   "cell_type": "code",
   "execution_count": 2,
   "id": "d61e2fa0-2514-48a4-a3fd-3f37864aa931",
   "metadata": {},
   "outputs": [
    {
     "name": "stdin",
     "output_type": "stream",
     "text": [
      " -1 0 0 1 1\n"
     ]
    }
   ],
   "source": [
    "arr = input().split()"
   ]
  },
  {
   "cell_type": "code",
   "execution_count": 3,
   "id": "d43a560c-5ef5-4594-bd36-41f1ea5573e8",
   "metadata": {},
   "outputs": [],
   "source": [
    "arr = [int(x) for x in arr]"
   ]
  },
  {
   "cell_type": "code",
   "execution_count": 5,
   "id": "d6da36b9-99c0-41be-8a4a-0eae76a3b11b",
   "metadata": {},
   "outputs": [
    {
     "name": "stdin",
     "output_type": "stream",
     "text": [
      " 2\n"
     ]
    }
   ],
   "source": [
    "to_remove = int(input())"
   ]
  },
  {
   "cell_type": "code",
   "execution_count": null,
   "id": "938c2de1-3f8b-43f5-aa14-ec9e5803796d",
   "metadata": {},
   "outputs": [],
   "source": []
  }
 ],
 "metadata": {
  "kernelspec": {
   "display_name": "Python 3 (ipykernel)",
   "language": "python",
   "name": "python3"
  },
  "language_info": {
   "codemirror_mode": {
    "name": "ipython",
    "version": 3
   },
   "file_extension": ".py",
   "mimetype": "text/x-python",
   "name": "python",
   "nbconvert_exporter": "python",
   "pygments_lexer": "ipython3",
   "version": "3.9.13"
  }
 },
 "nbformat": 4,
 "nbformat_minor": 5
}
