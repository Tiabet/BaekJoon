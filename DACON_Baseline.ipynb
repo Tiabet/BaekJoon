{
  "nbformat": 4,
  "nbformat_minor": 0,
  "metadata": {
    "colab": {
      "provenance": [],
      "machine_shape": "hm",
      "gpuType": "T4",
      "mount_file_id": "1dT3HOqVUEFzKhhj7gLIze0fgfOgwLSGm",
      "authorship_tag": "ABX9TyN2lUyCMUSFJoCzigkP5IYT",
      "include_colab_link": true
    },
    "kernelspec": {
      "name": "python3",
      "display_name": "Python 3"
    },
    "language_info": {
      "name": "python"
    },
    "accelerator": "GPU"
  },
  "cells": [
    {
      "cell_type": "markdown",
      "metadata": {
        "id": "view-in-github",
        "colab_type": "text"
      },
      "source": [
        "<a href=\"https://colab.research.google.com/github/Tiabet/BaekJoon/blob/main/DACON_Baseline.ipynb\" target=\"_parent\"><img src=\"https://colab.research.google.com/assets/colab-badge.svg\" alt=\"Open In Colab\"/></a>"
      ]
    },
    {
      "cell_type": "code",
      "source": [
        "%%capture\n",
        "pip install sentence_transformers"
      ],
      "metadata": {
        "id": "t2toQ5vx43Vk"
      },
      "execution_count": 3,
      "outputs": []
    },
    {
      "cell_type": "code",
      "execution_count": 4,
      "metadata": {
        "id": "9VC2_9Ow4bZT"
      },
      "outputs": [],
      "source": [
        "import re\n",
        "import pandas as pd\n",
        "import numpy as np\n",
        "import random\n",
        "from sentence_transformers import SentenceTransformer\n",
        "from sklearn.cluster import KMeans"
      ]
    },
    {
      "cell_type": "code",
      "source": [
        "SEED = 0\n",
        "\n",
        "np.random.seed(SEED)\n",
        "random.seed(SEED)"
      ],
      "metadata": {
        "id": "XMHmI1ur4_Px"
      },
      "execution_count": 5,
      "outputs": []
    },
    {
      "cell_type": "code",
      "source": [
        "df = pd.read_csv('/content/drive/MyDrive/news.csv')\n",
        "df.head()"
      ],
      "metadata": {
        "colab": {
          "base_uri": "https://localhost:8080/",
          "height": 206
        },
        "id": "wkGePS-05W5-",
        "outputId": "4533e350-5424-434c-f5f1-313a6f5c6dea"
      },
      "execution_count": 6,
      "outputs": [
        {
          "output_type": "execute_result",
          "data": {
            "text/plain": [
              "           id                                              title  \\\n",
              "0  NEWS_00000            Spanish coach facing action in race row   \n",
              "1  NEWS_00001                  Bruce Lee statue for divided city   \n",
              "2  NEWS_00002  Only Lovers Left Alive's Tilda Swinton Talks A...   \n",
              "3  NEWS_00003              Macromedia contributes to eBay Stores   \n",
              "4  NEWS_00004  Qualcomm plans to phone it in on cellular repairs   \n",
              "\n",
              "                                            contents  \n",
              "0  MADRID (AFP) - Spanish national team coach Lui...  \n",
              "1  In Bosnia, where one man #39;s hero is often a...  \n",
              "2  Yasmine Hamdan performs 'Hal' which she also s...  \n",
              "3  Macromedia has announced a special version of ...  \n",
              "4  Over-the-air fixes for cell phones comes to Qu...  "
            ],
            "text/html": [
              "\n",
              "  <div id=\"df-bed5b6d8-ca6f-4e2f-aa98-c30f45435cfa\" class=\"colab-df-container\">\n",
              "    <div>\n",
              "<style scoped>\n",
              "    .dataframe tbody tr th:only-of-type {\n",
              "        vertical-align: middle;\n",
              "    }\n",
              "\n",
              "    .dataframe tbody tr th {\n",
              "        vertical-align: top;\n",
              "    }\n",
              "\n",
              "    .dataframe thead th {\n",
              "        text-align: right;\n",
              "    }\n",
              "</style>\n",
              "<table border=\"1\" class=\"dataframe\">\n",
              "  <thead>\n",
              "    <tr style=\"text-align: right;\">\n",
              "      <th></th>\n",
              "      <th>id</th>\n",
              "      <th>title</th>\n",
              "      <th>contents</th>\n",
              "    </tr>\n",
              "  </thead>\n",
              "  <tbody>\n",
              "    <tr>\n",
              "      <th>0</th>\n",
              "      <td>NEWS_00000</td>\n",
              "      <td>Spanish coach facing action in race row</td>\n",
              "      <td>MADRID (AFP) - Spanish national team coach Lui...</td>\n",
              "    </tr>\n",
              "    <tr>\n",
              "      <th>1</th>\n",
              "      <td>NEWS_00001</td>\n",
              "      <td>Bruce Lee statue for divided city</td>\n",
              "      <td>In Bosnia, where one man #39;s hero is often a...</td>\n",
              "    </tr>\n",
              "    <tr>\n",
              "      <th>2</th>\n",
              "      <td>NEWS_00002</td>\n",
              "      <td>Only Lovers Left Alive's Tilda Swinton Talks A...</td>\n",
              "      <td>Yasmine Hamdan performs 'Hal' which she also s...</td>\n",
              "    </tr>\n",
              "    <tr>\n",
              "      <th>3</th>\n",
              "      <td>NEWS_00003</td>\n",
              "      <td>Macromedia contributes to eBay Stores</td>\n",
              "      <td>Macromedia has announced a special version of ...</td>\n",
              "    </tr>\n",
              "    <tr>\n",
              "      <th>4</th>\n",
              "      <td>NEWS_00004</td>\n",
              "      <td>Qualcomm plans to phone it in on cellular repairs</td>\n",
              "      <td>Over-the-air fixes for cell phones comes to Qu...</td>\n",
              "    </tr>\n",
              "  </tbody>\n",
              "</table>\n",
              "</div>\n",
              "    <div class=\"colab-df-buttons\">\n",
              "\n",
              "  <div class=\"colab-df-container\">\n",
              "    <button class=\"colab-df-convert\" onclick=\"convertToInteractive('df-bed5b6d8-ca6f-4e2f-aa98-c30f45435cfa')\"\n",
              "            title=\"Convert this dataframe to an interactive table.\"\n",
              "            style=\"display:none;\">\n",
              "\n",
              "  <svg xmlns=\"http://www.w3.org/2000/svg\" height=\"24px\" viewBox=\"0 -960 960 960\">\n",
              "    <path d=\"M120-120v-720h720v720H120Zm60-500h600v-160H180v160Zm220 220h160v-160H400v160Zm0 220h160v-160H400v160ZM180-400h160v-160H180v160Zm440 0h160v-160H620v160ZM180-180h160v-160H180v160Zm440 0h160v-160H620v160Z\"/>\n",
              "  </svg>\n",
              "    </button>\n",
              "\n",
              "  <style>\n",
              "    .colab-df-container {\n",
              "      display:flex;\n",
              "      gap: 12px;\n",
              "    }\n",
              "\n",
              "    .colab-df-convert {\n",
              "      background-color: #E8F0FE;\n",
              "      border: none;\n",
              "      border-radius: 50%;\n",
              "      cursor: pointer;\n",
              "      display: none;\n",
              "      fill: #1967D2;\n",
              "      height: 32px;\n",
              "      padding: 0 0 0 0;\n",
              "      width: 32px;\n",
              "    }\n",
              "\n",
              "    .colab-df-convert:hover {\n",
              "      background-color: #E2EBFA;\n",
              "      box-shadow: 0px 1px 2px rgba(60, 64, 67, 0.3), 0px 1px 3px 1px rgba(60, 64, 67, 0.15);\n",
              "      fill: #174EA6;\n",
              "    }\n",
              "\n",
              "    .colab-df-buttons div {\n",
              "      margin-bottom: 4px;\n",
              "    }\n",
              "\n",
              "    [theme=dark] .colab-df-convert {\n",
              "      background-color: #3B4455;\n",
              "      fill: #D2E3FC;\n",
              "    }\n",
              "\n",
              "    [theme=dark] .colab-df-convert:hover {\n",
              "      background-color: #434B5C;\n",
              "      box-shadow: 0px 1px 3px 1px rgba(0, 0, 0, 0.15);\n",
              "      filter: drop-shadow(0px 1px 2px rgba(0, 0, 0, 0.3));\n",
              "      fill: #FFFFFF;\n",
              "    }\n",
              "  </style>\n",
              "\n",
              "    <script>\n",
              "      const buttonEl =\n",
              "        document.querySelector('#df-bed5b6d8-ca6f-4e2f-aa98-c30f45435cfa button.colab-df-convert');\n",
              "      buttonEl.style.display =\n",
              "        google.colab.kernel.accessAllowed ? 'block' : 'none';\n",
              "\n",
              "      async function convertToInteractive(key) {\n",
              "        const element = document.querySelector('#df-bed5b6d8-ca6f-4e2f-aa98-c30f45435cfa');\n",
              "        const dataTable =\n",
              "          await google.colab.kernel.invokeFunction('convertToInteractive',\n",
              "                                                    [key], {});\n",
              "        if (!dataTable) return;\n",
              "\n",
              "        const docLinkHtml = 'Like what you see? Visit the ' +\n",
              "          '<a target=\"_blank\" href=https://colab.research.google.com/notebooks/data_table.ipynb>data table notebook</a>'\n",
              "          + ' to learn more about interactive tables.';\n",
              "        element.innerHTML = '';\n",
              "        dataTable['output_type'] = 'display_data';\n",
              "        await google.colab.output.renderOutput(dataTable, element);\n",
              "        const docLink = document.createElement('div');\n",
              "        docLink.innerHTML = docLinkHtml;\n",
              "        element.appendChild(docLink);\n",
              "      }\n",
              "    </script>\n",
              "  </div>\n",
              "\n",
              "\n",
              "<div id=\"df-ed855c9c-f242-4c3f-9ed7-a4d55effaebc\">\n",
              "  <button class=\"colab-df-quickchart\" onclick=\"quickchart('df-ed855c9c-f242-4c3f-9ed7-a4d55effaebc')\"\n",
              "            title=\"Suggest charts.\"\n",
              "            style=\"display:none;\">\n",
              "\n",
              "<svg xmlns=\"http://www.w3.org/2000/svg\" height=\"24px\"viewBox=\"0 0 24 24\"\n",
              "     width=\"24px\">\n",
              "    <g>\n",
              "        <path d=\"M19 3H5c-1.1 0-2 .9-2 2v14c0 1.1.9 2 2 2h14c1.1 0 2-.9 2-2V5c0-1.1-.9-2-2-2zM9 17H7v-7h2v7zm4 0h-2V7h2v10zm4 0h-2v-4h2v4z\"/>\n",
              "    </g>\n",
              "</svg>\n",
              "  </button>\n",
              "\n",
              "<style>\n",
              "  .colab-df-quickchart {\n",
              "      --bg-color: #E8F0FE;\n",
              "      --fill-color: #1967D2;\n",
              "      --hover-bg-color: #E2EBFA;\n",
              "      --hover-fill-color: #174EA6;\n",
              "      --disabled-fill-color: #AAA;\n",
              "      --disabled-bg-color: #DDD;\n",
              "  }\n",
              "\n",
              "  [theme=dark] .colab-df-quickchart {\n",
              "      --bg-color: #3B4455;\n",
              "      --fill-color: #D2E3FC;\n",
              "      --hover-bg-color: #434B5C;\n",
              "      --hover-fill-color: #FFFFFF;\n",
              "      --disabled-bg-color: #3B4455;\n",
              "      --disabled-fill-color: #666;\n",
              "  }\n",
              "\n",
              "  .colab-df-quickchart {\n",
              "    background-color: var(--bg-color);\n",
              "    border: none;\n",
              "    border-radius: 50%;\n",
              "    cursor: pointer;\n",
              "    display: none;\n",
              "    fill: var(--fill-color);\n",
              "    height: 32px;\n",
              "    padding: 0;\n",
              "    width: 32px;\n",
              "  }\n",
              "\n",
              "  .colab-df-quickchart:hover {\n",
              "    background-color: var(--hover-bg-color);\n",
              "    box-shadow: 0 1px 2px rgba(60, 64, 67, 0.3), 0 1px 3px 1px rgba(60, 64, 67, 0.15);\n",
              "    fill: var(--button-hover-fill-color);\n",
              "  }\n",
              "\n",
              "  .colab-df-quickchart-complete:disabled,\n",
              "  .colab-df-quickchart-complete:disabled:hover {\n",
              "    background-color: var(--disabled-bg-color);\n",
              "    fill: var(--disabled-fill-color);\n",
              "    box-shadow: none;\n",
              "  }\n",
              "\n",
              "  .colab-df-spinner {\n",
              "    border: 2px solid var(--fill-color);\n",
              "    border-color: transparent;\n",
              "    border-bottom-color: var(--fill-color);\n",
              "    animation:\n",
              "      spin 1s steps(1) infinite;\n",
              "  }\n",
              "\n",
              "  @keyframes spin {\n",
              "    0% {\n",
              "      border-color: transparent;\n",
              "      border-bottom-color: var(--fill-color);\n",
              "      border-left-color: var(--fill-color);\n",
              "    }\n",
              "    20% {\n",
              "      border-color: transparent;\n",
              "      border-left-color: var(--fill-color);\n",
              "      border-top-color: var(--fill-color);\n",
              "    }\n",
              "    30% {\n",
              "      border-color: transparent;\n",
              "      border-left-color: var(--fill-color);\n",
              "      border-top-color: var(--fill-color);\n",
              "      border-right-color: var(--fill-color);\n",
              "    }\n",
              "    40% {\n",
              "      border-color: transparent;\n",
              "      border-right-color: var(--fill-color);\n",
              "      border-top-color: var(--fill-color);\n",
              "    }\n",
              "    60% {\n",
              "      border-color: transparent;\n",
              "      border-right-color: var(--fill-color);\n",
              "    }\n",
              "    80% {\n",
              "      border-color: transparent;\n",
              "      border-right-color: var(--fill-color);\n",
              "      border-bottom-color: var(--fill-color);\n",
              "    }\n",
              "    90% {\n",
              "      border-color: transparent;\n",
              "      border-bottom-color: var(--fill-color);\n",
              "    }\n",
              "  }\n",
              "</style>\n",
              "\n",
              "  <script>\n",
              "    async function quickchart(key) {\n",
              "      const quickchartButtonEl =\n",
              "        document.querySelector('#' + key + ' button');\n",
              "      quickchartButtonEl.disabled = true;  // To prevent multiple clicks.\n",
              "      quickchartButtonEl.classList.add('colab-df-spinner');\n",
              "      try {\n",
              "        const charts = await google.colab.kernel.invokeFunction(\n",
              "            'suggestCharts', [key], {});\n",
              "      } catch (error) {\n",
              "        console.error('Error during call to suggestCharts:', error);\n",
              "      }\n",
              "      quickchartButtonEl.classList.remove('colab-df-spinner');\n",
              "      quickchartButtonEl.classList.add('colab-df-quickchart-complete');\n",
              "    }\n",
              "    (() => {\n",
              "      let quickchartButtonEl =\n",
              "        document.querySelector('#df-ed855c9c-f242-4c3f-9ed7-a4d55effaebc button');\n",
              "      quickchartButtonEl.style.display =\n",
              "        google.colab.kernel.accessAllowed ? 'block' : 'none';\n",
              "    })();\n",
              "  </script>\n",
              "</div>\n",
              "    </div>\n",
              "  </div>\n"
            ]
          },
          "metadata": {},
          "execution_count": 6
        }
      ]
    },
    {
      "cell_type": "code",
      "source": [
        "# 제목 + 내용\n",
        "df['text'] = df['title'] + ' : ' + df['contents']\n",
        "df['text']"
      ],
      "metadata": {
        "colab": {
          "base_uri": "https://localhost:8080/"
        },
        "id": "l81gsWez56du",
        "outputId": "1ca69490-46fe-4c8d-803c-486001496447"
      },
      "execution_count": 7,
      "outputs": [
        {
          "output_type": "execute_result",
          "data": {
            "text/plain": [
              "0        Spanish coach facing action in race row : MADR...\n",
              "1        Bruce Lee statue for divided city : In Bosnia,...\n",
              "2        Only Lovers Left Alive's Tilda Swinton Talks A...\n",
              "3        Macromedia contributes to eBay Stores : Macrom...\n",
              "4        Qualcomm plans to phone it in on cellular repa...\n",
              "                               ...                        \n",
              "59995    Dolphins Break Through, Rip Rams For First Win...\n",
              "59996    After Steep Drop, Price of Oil Rises : The fre...\n",
              "59997    Pro football: Culpepper puts on a show : To sa...\n",
              "59998    Albertsons on the Rebound : The No. 2 grocer r...\n",
              "59999    Cassini Craft Spies Saturn Moon Dione (AP) : A...\n",
              "Name: text, Length: 60000, dtype: object"
            ]
          },
          "metadata": {},
          "execution_count": 7
        }
      ]
    },
    {
      "cell_type": "code",
      "source": [
        "def preprocess_text(text):\n",
        "    if not isinstance(text, str):\n",
        "          return text  # If the input is not a string, return it as is\n",
        "    # URL 제거\n",
        "    text = re.sub(r'http\\S+|www\\S+|https\\S+', '', text, flags=re.MULTILINE)\n",
        "\n",
        "    # 해시태그 제거\n",
        "    text = re.sub(r'#\\w+', '', text)\n",
        "\n",
        "    # 멘션 제거\n",
        "    text = re.sub(r'@\\w+', '', text)\n",
        "\n",
        "    # 이모지 제거\n",
        "    text = text.encode('ascii', 'ignore').decode('ascii')\n",
        "\n",
        "    # 공백 및 특수문자 제거\n",
        "    text = re.sub(r'\\s+', ' ', text).strip()\n",
        "\n",
        "    # 숫자 제거\n",
        "    text = re.sub(r'\\d+', '', text)\n",
        "    text = re.sub(r':\\s*//.*$', '', text)\n",
        "\n",
        "    return text.lower()"
      ],
      "metadata": {
        "id": "yApmltWz58CX"
      },
      "execution_count": 41,
      "outputs": []
    },
    {
      "cell_type": "code",
      "source": [
        "df['processed_text'] = df['text'].apply(preprocess_text)"
      ],
      "metadata": {
        "id": "1SbRUgis5-NV"
      },
      "execution_count": 42,
      "outputs": []
    },
    {
      "cell_type": "code",
      "source": [
        "df['processed_text'][18]"
      ],
      "metadata": {
        "colab": {
          "base_uri": "https://localhost:8080/",
          "height": 35
        },
        "id": "-hjHbGNPOO3Z",
        "outputId": "0b68b066-43e7-4b7c-92f8-d91c09c55307"
      },
      "execution_count": 44,
      "outputs": [
        {
          "output_type": "execute_result",
          "data": {
            "text/plain": [
              "'a fair way to choose candidates for republican debate '"
            ],
            "application/vnd.google.colaboratory.intrinsic+json": {
              "type": "string"
            }
          },
          "metadata": {},
          "execution_count": 44
        }
      ]
    },
    {
      "cell_type": "code",
      "source": [
        "# Sentence BERT 모델 로드\n",
        "model = SentenceTransformer('paraphrase-distilroberta-base-v1')\n",
        "\n",
        "# 텍스트 feature 추출\n",
        "sentence_embeddings = model.encode(df['processed_text'].tolist())\n",
        "\n",
        "# 추출한 feature를 데이터프레임에 저장\n",
        "df_embeddings = pd.DataFrame(sentence_embeddings)"
      ],
      "metadata": {
        "id": "No_RFQjF6ATT"
      },
      "execution_count": null,
      "outputs": []
    },
    {
      "cell_type": "code",
      "source": [
        "df_embeddings.to_csv(\"/content/drive/MyDrive/embedding_file.csv\",index = False)"
      ],
      "metadata": {
        "id": "JRuA5Y_W6jKD"
      },
      "execution_count": 12,
      "outputs": []
    },
    {
      "cell_type": "code",
      "source": [
        "# Sentence BERT 임베딩을 사용하여 군집화 수행\n",
        "kmeans = KMeans(n_clusters=6, random_state=SEED)\n",
        "\n",
        "df['kmeans_cluster'] = kmeans.fit_predict(sentence_embeddings)"
      ],
      "metadata": {
        "colab": {
          "base_uri": "https://localhost:8080/"
        },
        "id": "ZVYv2_YcBikA",
        "outputId": "9007ccee-fb50-4a33-f4d4-5088eb3444d6"
      },
      "execution_count": 13,
      "outputs": [
        {
          "output_type": "stream",
          "name": "stderr",
          "text": [
            "/usr/local/lib/python3.10/dist-packages/sklearn/cluster/_kmeans.py:870: FutureWarning: The default value of `n_init` will change from 10 to 'auto' in 1.4. Set the value of `n_init` explicitly to suppress the warning\n",
            "  warnings.warn(\n"
          ]
        }
      ]
    },
    {
      "cell_type": "code",
      "source": [
        "df[df['kmeans_cluster'] == 1]['text'].head(5)"
      ],
      "metadata": {
        "colab": {
          "base_uri": "https://localhost:8080/"
        },
        "id": "wAdBLihQyOw_",
        "outputId": "306a8e2c-0145-4e1c-b851-49f439b3f272"
      },
      "execution_count": 39,
      "outputs": [
        {
          "output_type": "execute_result",
          "data": {
            "text/plain": [
              "18    A Fair Way to Choose Candidates for Republican...\n",
              "25    Be on TOP : //www.huffingtonpost.com/entry/be-...\n",
              "33    Memo To EPA Chief Pruitt : //www.huffingtonpos...\n",
              "68    Satire Will Not Save Us : //www.huffingtonpost...\n",
              "76    WATCH : //www.huffingtonpost.com/entry/perrish...\n",
              "Name: text, dtype: object"
            ]
          },
          "metadata": {},
          "execution_count": 39
        }
      ]
    },
    {
      "cell_type": "code",
      "source": [
        "print(df['text'][18])\n",
        "print(df['text'][25])\n",
        "print(df['text'][33])\n",
        "print(df['text'][68])\n",
        "print(df['text'][76])"
      ],
      "metadata": {
        "colab": {
          "base_uri": "https://localhost:8080/"
        },
        "id": "tpXVRETA_z6t",
        "outputId": "a58fabf4-facb-4491-d38f-ba7ac43dc33e"
      },
      "execution_count": 33,
      "outputs": [
        {
          "output_type": "stream",
          "name": "stdout",
          "text": [
            "A Fair Way to Choose Candidates for Republican Debate : //www.huffingtonpost.com/entry/a-fair-way-to-choose-cand_b_7922194.html short_description\n",
            "Be on TOP : //www.huffingtonpost.com/entry/be-on-top-amazon-best-sel_b_12508618.html short_description\n",
            "Memo To EPA Chief Pruitt : //www.huffingtonpost.com/entry/memo-to-epa-chief-pruitt-lets-end-subsidies-for-fossil_us_59ee9567e4b0b8a51417bcc6 short_description\n",
            "Satire Will Not Save Us : //www.huffingtonpost.com/entry/tal-fortgang-satire-will-not-save-us_b_5283369.html short_description\n",
            "WATCH : //www.huffingtonpost.com/entry/perrish-cox-flop-49ers-saints_n_6129774.html short_description\n"
          ]
        }
      ]
    },
    {
      "cell_type": "code",
      "source": [
        "mapping_dict = {\n",
        "    0: 2,\n",
        "    1: 5,\n",
        "    2: 4,\n",
        "    3: 1,\n",
        "    4: 3,\n",
        "    5: 4\n",
        "}\n",
        "df['mapping'] = df['kmeans_cluster'].apply(lambda x: mapping_dict[x])\n",
        "sample = pd.read_csv('/content/drive/MyDrive/sample_submission.csv')\n",
        "sample['category'] = df['mapping'].values\n",
        "sample.to_csv('baseline_submit.csv', index=False)"
      ],
      "metadata": {
        "id": "BbHo6LZiBkOz"
      },
      "execution_count": null,
      "outputs": []
    },
    {
      "cell_type": "code",
      "source": [],
      "metadata": {
        "id": "gWYO0ZM1OFCu"
      },
      "execution_count": null,
      "outputs": []
    }
  ]
}