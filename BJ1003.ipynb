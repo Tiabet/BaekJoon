{
 "cells": [
  {
   "cell_type": "code",
   "execution_count": 6,
   "id": "07249c71",
   "metadata": {},
   "outputs": [
    {
     "name": "stdout",
     "output_type": "stream",
     "text": [
      "6\n",
      "5\n",
      "8\n"
     ]
    }
   ],
   "source": [
    "count_0 = 0\n",
    "count_1 = 0\n",
    "\n",
    "def fibonacci(n) :\n",
    "    global count_0\n",
    "    global count_1\n",
    "    if n==0 :\n",
    "        count_0 +=1\n",
    "        return 0\n",
    "    elif n==1:\n",
    "        count_1+=1\n",
    "        return 1\n",
    "    else:\n",
    "        return fibonacci(n-1) +fibonacci(n-2)\n",
    "\n",
    "n = int(input())\n",
    "\n",
    "fibonacci(n)\n",
    "print(count_0)\n",
    "print(count_1)"
   ]
  },
  {
   "cell_type": "markdown",
   "id": "8fb0bcd5",
   "metadata": {},
   "source": [
    "시간 초과가 발생하는데, 이를 해결하기 위해 검색을 해보니 예전에 배웠던 동적 프로그래밍이 필요함을 알게 되었다. 배열을 생성해서 저장하는 방식을 많이 사용하는데 내가 배운 것도 이 방식이라 그대로 사용해보기로 했다."
   ]
  },
  {
   "cell_type": "code",
   "execution_count": 24,
   "id": "7e50838f",
   "metadata": {},
   "outputs": [
    {
     "name": "stdout",
     "output_type": "stream",
     "text": [
      "2\n",
      "6\n",
      "5 8\n",
      "22\n",
      "10946 17711\n"
     ]
    }
   ],
   "source": [
    "t = int(input())\n",
    "\n",
    "for _ in range(t):\n",
    "    count_0 = [1,0,1]\n",
    "    count_1 = [0,1,1]\n",
    "    n = int(input())\n",
    "    if n>=3 :\n",
    "            for i in range(2,n):\n",
    "                count_0.append(count_0[i-1]+count_0[i])\n",
    "                count_1.append(count_1[i-1]+count_1[i])\n",
    "    print(count_0[n],count_1[n])"
   ]
  },
  {
   "cell_type": "markdown",
   "id": "5b528bf2",
   "metadata": {},
   "source": [
    "count_0 과 count_1 을 [1,0] [0,1] 로 설정해버리면 n 이 2일때 생기는 오류를 잡을 수가 없었다."
   ]
  },
  {
   "cell_type": "code",
   "execution_count": null,
   "id": "19982725",
   "metadata": {},
   "outputs": [],
   "source": []
  }
 ],
 "metadata": {
  "kernelspec": {
   "display_name": "Python 3 (ipykernel)",
   "language": "python",
   "name": "python3"
  },
  "language_info": {
   "codemirror_mode": {
    "name": "ipython",
    "version": 3
   },
   "file_extension": ".py",
   "mimetype": "text/x-python",
   "name": "python",
   "nbconvert_exporter": "python",
   "pygments_lexer": "ipython3",
   "version": "3.9.13"
  }
 },
 "nbformat": 4,
 "nbformat_minor": 5
}
