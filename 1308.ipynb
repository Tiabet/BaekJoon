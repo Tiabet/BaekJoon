{
 "cells": [
  {
   "cell_type": "code",
   "execution_count": 96,
   "id": "d92e2304-f63e-4b2b-88b4-96a69e93d249",
   "metadata": {},
   "outputs": [
    {
     "name": "stdin",
     "output_type": "stream",
     "text": [
      " 2000 1 1\n"
     ]
    }
   ],
   "source": [
    "yyyy,mm,dd = map(int, input().split())"
   ]
  },
  {
   "cell_type": "code",
   "execution_count": 97,
   "id": "61124e6e-8995-41be-bb00-7f68e9d2f3a0",
   "metadata": {},
   "outputs": [
    {
     "name": "stdin",
     "output_type": "stream",
     "text": [
      " 2011 12 10\n"
     ]
    }
   ],
   "source": [
    "d_y, d_m, d_d = map(int, input().split())"
   ]
  },
  {
   "cell_type": "code",
   "execution_count": 51,
   "id": "d3d3ee12-7250-4d33-86d7-915d5a500d3c",
   "metadata": {},
   "outputs": [],
   "source": [
    "m_lengths = [31, 28, 31, 30, 31, 30, 31, 31, 30, 31, 30, 31]"
   ]
  },
  {
   "cell_type": "code",
   "execution_count": 28,
   "id": "4ea7869f-bc95-41d6-8cbd-ab00a0c538c5",
   "metadata": {},
   "outputs": [],
   "source": [
    "yoon = [i for i in range(1,10000) if i%4 == 0 and not i%100 == 0]"
   ]
  },
  {
   "cell_type": "code",
   "execution_count": 30,
   "id": "1e05d09c-9441-4d4a-8d91-8a7437dafe36",
   "metadata": {},
   "outputs": [],
   "source": [
    "special_yoon = [i for i in range(1,10000) if i%400 == 0]"
   ]
  },
  {
   "cell_type": "code",
   "execution_count": 32,
   "id": "85029bfe-9af0-42fb-8f9f-cbc776d66c7a",
   "metadata": {},
   "outputs": [],
   "source": [
    "yoon.extend(special_yoon)"
   ]
  },
  {
   "cell_type": "code",
   "execution_count": 110,
   "id": "acaacdfa-b2b7-48ac-9ef7-8429fdca48e0",
   "metadata": {},
   "outputs": [
    {
     "data": {
      "text/plain": [
       "3652"
      ]
     },
     "execution_count": 110,
     "metadata": {},
     "output_type": "execute_result"
    }
   ],
   "source": [
    "d_day = 0\n",
    "for year in range(yyyy+1,d_y):\n",
    "    if year in yoon:\n",
    "        d_day += 366\n",
    "    else :\n",
    "        d_day += 365\n",
    "d_day"
   ]
  },
  {
   "cell_type": "code",
   "execution_count": 111,
   "id": "922c7688-52b6-4371-9c8e-1ba6121b3532",
   "metadata": {},
   "outputs": [],
   "source": [
    "days_1 = 0\n",
    "for i in range(12,mm,-1):\n",
    "    days_1 += m_lengths[i-1]\n",
    "days_1 += m_lengths[mm-1] - dd\n",
    "if yyyy in yoon and mm<=2:\n",
    "    days_1 +=1"
   ]
  },
  {
   "cell_type": "code",
   "execution_count": 112,
   "id": "eb38fe4e-1ccf-4617-b80d-90511e9db40d",
   "metadata": {},
   "outputs": [],
   "source": [
    "days_2 = 0\n",
    "for i in range(1, d_m):\n",
    "    days_2 += m_lengths[i - 1]\n",
    "days_2 += d_d\n",
    "if d_y in yoon and d_m>=3:\n",
    "    days_2+=1"
   ]
  },
  {
   "cell_type": "code",
   "execution_count": 113,
   "id": "86cc7e5a-0de4-4b8a-8e3e-f8877b25e59e",
   "metadata": {},
   "outputs": [],
   "source": [
    "d_day+=days_1 + days_2"
   ]
  },
  {
   "cell_type": "code",
   "execution_count": 114,
   "id": "8877a446-55bd-4bac-aac4-da2558f32cf8",
   "metadata": {},
   "outputs": [
    {
     "name": "stdout",
     "output_type": "stream",
     "text": [
      "D-4361\n"
     ]
    }
   ],
   "source": [
    "if d_y > yyyy+1000 or (d_y==yyyy+1000 and (d_m>mm or d_m==mm and d_d>=m)) :\n",
    "    print(\"gg\")\n",
    "else :\n",
    "    print(\"D-{}\".format(d_day))"
   ]
  },
  {
   "cell_type": "code",
   "execution_count": null,
   "id": "20018ad2-16f0-4682-a841-8379c69cf3f0",
   "metadata": {},
   "outputs": [],
   "source": []
  }
 ],
 "metadata": {
  "kernelspec": {
   "display_name": "Python 3 (ipykernel)",
   "language": "python",
   "name": "python3"
  },
  "language_info": {
   "codemirror_mode": {
    "name": "ipython",
    "version": 3
   },
   "file_extension": ".py",
   "mimetype": "text/x-python",
   "name": "python",
   "nbconvert_exporter": "python",
   "pygments_lexer": "ipython3",
   "version": "3.9.13"
  }
 },
 "nbformat": 4,
 "nbformat_minor": 5
}
