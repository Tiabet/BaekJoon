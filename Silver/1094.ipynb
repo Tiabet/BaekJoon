{
 "cells": [
  {
   "cell_type": "code",
   "execution_count": 32,
   "id": "29f7e7db-cbef-47a4-b73f-3dad814a5dd1",
   "metadata": {},
   "outputs": [
    {
     "name": "stdin",
     "output_type": "stream",
     "text": [
      " 64\n"
     ]
    }
   ],
   "source": [
    "n = int(input())"
   ]
  },
  {
   "cell_type": "code",
   "execution_count": 33,
   "id": "ac828cef-2aba-4c1f-9294-8777f008ba7c",
   "metadata": {},
   "outputs": [
    {
     "name": "stdout",
     "output_type": "stream",
     "text": [
      "4\n",
      "8\n",
      "16\n",
      "32\n",
      "64\n",
      "128\n"
     ]
    }
   ],
   "source": [
    "count = 0\n",
    "while n!=0:\n",
    "    div = 2\n",
    "    while div<=n:\n",
    "        div*=2\n",
    "        print(div)\n",
    "    div/=2\n",
    "    n-=div\n",
    "    count+=1"
   ]
  },
  {
   "cell_type": "code",
   "execution_count": 34,
   "id": "116d269d-35ba-4aa1-846a-6ebd9e80a83e",
   "metadata": {},
   "outputs": [
    {
     "data": {
      "text/plain": [
       "1"
      ]
     },
     "execution_count": 34,
     "metadata": {},
     "output_type": "execute_result"
    }
   ],
   "source": [
    "count"
   ]
  },
  {
   "cell_type": "code",
   "execution_count": null,
   "id": "25bab960-1f30-4949-9de9-901e9bc52eec",
   "metadata": {},
   "outputs": [],
   "source": []
  }
 ],
 "metadata": {
  "kernelspec": {
   "display_name": "Python 3 (ipykernel)",
   "language": "python",
   "name": "python3"
  },
  "language_info": {
   "codemirror_mode": {
    "name": "ipython",
    "version": 3
   },
   "file_extension": ".py",
   "mimetype": "text/x-python",
   "name": "python",
   "nbconvert_exporter": "python",
   "pygments_lexer": "ipython3",
   "version": "3.9.13"
  }
 },
 "nbformat": 4,
 "nbformat_minor": 5
}
