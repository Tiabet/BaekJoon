{
 "cells": [
  {
   "cell_type": "code",
   "execution_count": 32,
   "id": "7c5d26f5-39b0-4b82-96ad-79e955a8719d",
   "metadata": {},
   "outputs": [],
   "source": [
    "graph = [[0] * 3163]*3163"
   ]
  },
  {
   "cell_type": "code",
   "execution_count": 37,
   "id": "7e609789-64ac-44d7-80d3-82bfae3a6056",
   "metadata": {},
   "outputs": [
    {
     "name": "stdin",
     "output_type": "stream",
     "text": [
      " 14\n"
     ]
    },
    {
     "name": "stdout",
     "output_type": "stream",
     "text": [
      "2/4\n"
     ]
    }
   ],
   "source": [
    "X = int(input())\n",
    "\n",
    "line = 1  # 현재 라인\n",
    "while X > line:\n",
    "    X -= line\n",
    "    line += 1\n",
    "\n",
    "# line이 홀수일 때는 분자가 증가하고 분모가 감소하는 순서\n",
    "# line이 짝수일 때는 분자가 감소하고 분모가 증가하는 순서\n",
    "if line % 2 == 0:\n",
    "    numerator = X\n",
    "    denominator = line - X + 1\n",
    "else:\n",
    "    numerator = line - X + 1\n",
    "    denominator = X\n",
    "\n",
    "fraction = f\"{numerator}/{denominator}\"\n",
    "print(fraction)\n"
   ]
  },
  {
   "cell_type": "code",
   "execution_count": 34,
   "id": "367c4887-9284-47cf-a429-25c51ae37806",
   "metadata": {},
   "outputs": [
    {
     "data": {
      "text/plain": [
       "3163"
      ]
     },
     "execution_count": 34,
     "metadata": {},
     "output_type": "execute_result"
    }
   ],
   "source": []
  },
  {
   "cell_type": "code",
   "execution_count": 30,
   "id": "e67ddfff-d61e-4166-846b-fc58db88936d",
   "metadata": {},
   "outputs": [
    {
     "data": {
      "text/plain": [
       "[[1, 1, 1]]"
      ]
     },
     "execution_count": 30,
     "metadata": {},
     "output_type": "execute_result"
    }
   ],
   "source": [
    "abc"
   ]
  },
  {
   "cell_type": "code",
   "execution_count": null,
   "id": "476a11b8-0636-4091-a332-b2d453e30114",
   "metadata": {},
   "outputs": [],
   "source": []
  }
 ],
 "metadata": {
  "kernelspec": {
   "display_name": "Python 3 (ipykernel)",
   "language": "python",
   "name": "python3"
  },
  "language_info": {
   "codemirror_mode": {
    "name": "ipython",
    "version": 3
   },
   "file_extension": ".py",
   "mimetype": "text/x-python",
   "name": "python",
   "nbconvert_exporter": "python",
   "pygments_lexer": "ipython3",
   "version": "3.9.13"
  }
 },
 "nbformat": 4,
 "nbformat_minor": 5
}
