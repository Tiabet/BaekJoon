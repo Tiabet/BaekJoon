{
 "cells": [
  {
   "cell_type": "code",
   "execution_count": 80,
   "id": "ac9fd3fc-b383-41ca-a3fc-f3b08164f124",
   "metadata": {},
   "outputs": [
    {
     "name": "stdin",
     "output_type": "stream",
     "text": [
      " 6\n"
     ]
    }
   ],
   "source": [
    "n = int(input())"
   ]
  },
  {
   "cell_type": "code",
   "execution_count": 81,
   "id": "7a553789-6176-4b6e-a4ff-ec59c31557bc",
   "metadata": {},
   "outputs": [
    {
     "name": "stdin",
     "output_type": "stream",
     "text": [
      " aaa\n",
      " aaa\n",
      " gsff\n",
      " herwredc\n",
      " bvdcs\n",
      " aaab\n"
     ]
    }
   ],
   "source": [
    "strarr = []\n",
    "for _ in range(n):\n",
    "    strarr.append(input())"
   ]
  },
  {
   "cell_type": "code",
   "execution_count": 98,
   "id": "c3e5939f-5d58-494b-aaf4-1c592d75eb3e",
   "metadata": {},
   "outputs": [],
   "source": [
    "toarr = [0]*n\n",
    "num = 0\n",
    "strarr.sort()\n",
    "for i in range(n) :\n",
    "    if i==0 or not strarr[i].startswith(strarr[i-1]):\n",
    "        toarr[i]+=1"
   ]
  },
  {
   "cell_type": "code",
   "execution_count": 99,
   "id": "d98c6a7c-d14a-4d02-9302-74355e858eb3",
   "metadata": {},
   "outputs": [],
   "source": [
    "for i in toarr :\n",
    "    if i == 1 :\n",
    "        num+=1"
   ]
  },
  {
   "cell_type": "code",
   "execution_count": 100,
   "id": "6fb8bcf0-051a-49d5-ad4c-79a358349ce8",
   "metadata": {},
   "outputs": [
    {
     "name": "stdout",
     "output_type": "stream",
     "text": [
      "4\n"
     ]
    }
   ],
   "source": [
    "print(num)"
   ]
  },
  {
   "cell_type": "code",
   "execution_count": 101,
   "id": "5266d0ab-9d9c-45ef-823e-e53d86bd85a9",
   "metadata": {},
   "outputs": [
    {
     "data": {
      "text/plain": [
       "[1, 0, 0, 1, 1, 1]"
      ]
     },
     "execution_count": 101,
     "metadata": {},
     "output_type": "execute_result"
    }
   ],
   "source": [
    "toarr"
   ]
  },
  {
   "cell_type": "code",
   "execution_count": null,
   "id": "ebd4c21f-3347-457a-af7e-57ada41f71dd",
   "metadata": {},
   "outputs": [],
   "source": []
  }
 ],
 "metadata": {
  "kernelspec": {
   "display_name": "Python 3 (ipykernel)",
   "language": "python",
   "name": "python3"
  },
  "language_info": {
   "codemirror_mode": {
    "name": "ipython",
    "version": 3
   },
   "file_extension": ".py",
   "mimetype": "text/x-python",
   "name": "python",
   "nbconvert_exporter": "python",
   "pygments_lexer": "ipython3",
   "version": "3.9.13"
  }
 },
 "nbformat": 4,
 "nbformat_minor": 5
}
