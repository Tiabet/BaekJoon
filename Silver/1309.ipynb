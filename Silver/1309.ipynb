{
 "cells": [
  {
   "cell_type": "code",
   "execution_count": null,
   "id": "ca57b7c8-5586-42ab-93d9-92bd6e1bc7c3",
   "metadata": {},
   "outputs": [],
   "source": [
    "n = int(input())\n",
    "space_up2 = 0\n",
    "space_up1 = 2\n",
    "for i in range(2,n+1):\n",
    "    if i % 2 == 0 :\n",
    "        space_up2 = space_up2 + 2*space_up1 + 2\n",
    "    else :\n",
    "        space_up1 = space_up1 + 2*space_up2 + 2\n",
    "if n%2 == 0 :\n",
    "    print((space_up2+1)%9901)\n",
    "else :\n",
    "    print((space_up1+1)%9901)"
   ]
  }
 ],
 "metadata": {
  "kernelspec": {
   "display_name": "Python 3 (ipykernel)",
   "language": "python",
   "name": "python3"
  },
  "language_info": {
   "codemirror_mode": {
    "name": "ipython",
    "version": 3
   },
   "file_extension": ".py",
   "mimetype": "text/x-python",
   "name": "python",
   "nbconvert_exporter": "python",
   "pygments_lexer": "ipython3",
   "version": "3.9.13"
  }
 },
 "nbformat": 4,
 "nbformat_minor": 5
}
