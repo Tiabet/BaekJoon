{
 "cells": [
  {
   "cell_type": "markdown",
   "id": "86b3803a-b746-4ec3-9a1e-5331d9279e46",
   "metadata": {},
   "source": [
    "4칸 :\n",
    "1마리)\n",
    "2x4 = 8\n",
    "2마리)\n",
    "5+5+5+5+2 = 22\n",
    "3마리)\n",
    "3+3+3+3 = 12\n",
    "4마리) 1"
   ]
  },
  {
   "cell_type": "markdown",
   "id": "645869a8-04c7-4c8b-ad00-a9fbbea595bc",
   "metadata": {},
   "source": [
    "1칸 : 2 + 1\n",
    "2칸 : 2(2마리) + 2(추가된칸) + 2(원래있던칸) + 1 = 6 + 1\n",
    "3칸 : 2*2 (1칸은 아무데나 상관없음) + 6(배치안함) + 4(둘째칸에 있는 경우) = 16 + 1\n",
    "4칸 : 6*2 + 16 + 8 + 2\n"
   ]
  },
  {
   "cell_type": "code",
   "execution_count": 17,
   "id": "0a74627e-929e-465d-8797-a17713835f51",
   "metadata": {},
   "outputs": [],
   "source": [
    "space_up2 = 0\n",
    "space_up1 = 2"
   ]
  },
  {
   "cell_type": "code",
   "execution_count": 7,
   "id": "996b3130-5389-4803-b310-96071bd9ef48",
   "metadata": {},
   "outputs": [
    {
     "name": "stdin",
     "output_type": "stream",
     "text": [
      " 4\n"
     ]
    }
   ],
   "source": [
    "n = int(input())"
   ]
  },
  {
   "cell_type": "code",
   "execution_count": 18,
   "id": "2358b11a-a7d8-4f13-8f00-5af0a123addf",
   "metadata": {},
   "outputs": [],
   "source": [
    "for i in range(2,n+1):\n",
    "    if i % 2 == 0 :\n",
    "        space_up2 = space_up2 + 2*space_up1 + 2\n",
    "    else :\n",
    "        space_up1 = space_up1 + 2*space_up2 + 2"
   ]
  },
  {
   "cell_type": "code",
   "execution_count": 22,
   "id": "70ccd6b4-53e0-4818-9c80-c204b6657f92",
   "metadata": {},
   "outputs": [
    {
     "name": "stdout",
     "output_type": "stream",
     "text": [
      "41\n"
     ]
    }
   ],
   "source": [
    "if n%2 == 0 :\n",
    "    print((space_up2+1)%9901)\n",
    "else :\n",
    "    print((space_up1+1)%9901)"
   ]
  },
  {
   "cell_type": "code",
   "execution_count": null,
   "id": "ea18281d-1d00-4e3d-8a03-fb7995849278",
   "metadata": {},
   "outputs": [],
   "source": []
  }
 ],
 "metadata": {
  "kernelspec": {
   "display_name": "Python 3 (ipykernel)",
   "language": "python",
   "name": "python3"
  },
  "language_info": {
   "codemirror_mode": {
    "name": "ipython",
    "version": 3
   },
   "file_extension": ".py",
   "mimetype": "text/x-python",
   "name": "python",
   "nbconvert_exporter": "python",
   "pygments_lexer": "ipython3",
   "version": "3.9.13"
  }
 },
 "nbformat": 4,
 "nbformat_minor": 5
}
