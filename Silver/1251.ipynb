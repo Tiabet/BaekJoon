{
 "cells": [
  {
   "cell_type": "code",
   "execution_count": 18,
   "id": "283a2640-2c0f-43f2-b160-e31ff9cea7a0",
   "metadata": {},
   "outputs": [
    {
     "name": "stdin",
     "output_type": "stream",
     "text": [
      " mobbitel\n"
     ]
    }
   ],
   "source": [
    "word = input()"
   ]
  },
  {
   "cell_type": "code",
   "execution_count": 31,
   "id": "f39a8f48-5b59-418c-9de8-37ee79e5216d",
   "metadata": {},
   "outputs": [],
   "source": [
    "word_sorted = sorted(word)"
   ]
  },
  {
   "cell_type": "code",
   "execution_count": 32,
   "id": "4eb57660-d2fa-4e5a-99b3-164ff3f55e3b",
   "metadata": {},
   "outputs": [],
   "source": [
    "tmp = []\n",
    "[tmp.append(x) for x in word_sorted if x not in tmp]\n",
    "word_sorted = tmp"
   ]
  },
  {
   "cell_type": "code",
   "execution_count": 33,
   "id": "944cf7e0-7b82-4170-a583-4c35b245e97e",
   "metadata": {},
   "outputs": [
    {
     "data": {
      "text/plain": [
       "['b', 'e', 'i', 'l', 'm', 'o', 't']"
      ]
     },
     "execution_count": 33,
     "metadata": {},
     "output_type": "execute_result"
    }
   ],
   "source": [
    "word_sorted"
   ]
  },
  {
   "cell_type": "code",
   "execution_count": 38,
   "id": "a8b50855-2651-42bf-a20b-91cb4c255df4",
   "metadata": {},
   "outputs": [],
   "source": [
    "marked = []\n",
    "for i in range(3):\n",
    "    for j in range(len(word)):\n",
    "        if word_sorted[i] == word[j] :\n",
    "            marked.append(j)\n",
    "        "
   ]
  },
  {
   "cell_type": "code",
   "execution_count": 39,
   "id": "9f823153-da70-40d2-8524-74fe36ce0858",
   "metadata": {},
   "outputs": [
    {
     "data": {
      "text/plain": [
       "[2, 3, 6, 4]"
      ]
     },
     "execution_count": 39,
     "metadata": {},
     "output_type": "execute_result"
    }
   ],
   "source": [
    "marked"
   ]
  },
  {
   "cell_type": "code",
   "execution_count": 67,
   "id": "335f6c17-e168-404b-b442-9008dce04e5c",
   "metadata": {},
   "outputs": [
    {
     "name": "stdin",
     "output_type": "stream",
     "text": [
      " arrested\n"
     ]
    },
    {
     "name": "stdout",
     "output_type": "stream",
     "text": [
      "[('a', 'r', 'rested'), ('a', 'rr', 'ested'), ('a', 'rre', 'sted'), ('a', 'rres', 'ted'), ('a', 'rrest', 'ed'), ('a', 'rreste', 'd'), ('ar', 'r', 'ested'), ('ar', 're', 'sted'), ('ar', 'res', 'ted'), ('ar', 'rest', 'ed'), ('ar', 'reste', 'd'), ('arr', 'e', 'sted'), ('arr', 'es', 'ted'), ('arr', 'est', 'ed'), ('arr', 'este', 'd'), ('arre', 's', 'ted'), ('arre', 'st', 'ed'), ('arre', 'ste', 'd'), ('arres', 't', 'ed'), ('arres', 'te', 'd'), ('arrest', 'e', 'd')]\n",
      "['detserra', 'detserra', 'detserra', 'detserra', 'detserra', 'detserra', 'detserra', 'detserra', 'detserra', 'detserra', 'detserra', 'detserra', 'detserra', 'detserra', 'detserra', 'detserra', 'detserra', 'detserra', 'detserra', 'detserra', 'detserra']\n",
      "detserra\n"
     ]
    }
   ],
   "source": [
    "word = input()\n",
    "\n",
    "# 가능한 모든 분할 조합 생성\n",
    "divisions = [(word[:i], word[i:j], word[j:]) for i in range(1, len(word)-1) for j in range(i+1, len(word))]\n",
    "\n",
    "# 분할된 단어들을 뒤집고 합치기\n",
    "reversed_words = [''.join(map(str, division))[::-1] for division in divisions]\n",
    "\n",
    "print(reversed_words)\n",
    "\n",
    "# 사전순으로 가장 앞선 단어 출력\n",
    "print(min(reversed_words))\n"
   ]
  },
  {
   "cell_type": "code",
   "execution_count": 59,
   "id": "95f49b8a-6409-423b-9825-f4c56e7ac361",
   "metadata": {},
   "outputs": [
    {
     "data": {
      "text/plain": [
       "'a'"
      ]
     },
     "execution_count": 59,
     "metadata": {},
     "output_type": "execute_result"
    }
   ],
   "source": [
    "word[:1]"
   ]
  },
  {
   "cell_type": "code",
   "execution_count": 61,
   "id": "8954f8af-9ba7-4178-9e2d-7471eb24ec60",
   "metadata": {},
   "outputs": [
    {
     "data": {
      "text/plain": [
       "'re'"
      ]
     },
     "execution_count": 61,
     "metadata": {},
     "output_type": "execute_result"
    }
   ],
   "source": [
    "word[2:4]"
   ]
  },
  {
   "cell_type": "code",
   "execution_count": 62,
   "id": "7c779085-1577-490c-9d63-dd6d8dec8295",
   "metadata": {},
   "outputs": [
    {
     "data": {
      "text/plain": [
       "''"
      ]
     },
     "execution_count": 62,
     "metadata": {},
     "output_type": "execute_result"
    }
   ],
   "source": [
    "word[8:]"
   ]
  },
  {
   "cell_type": "code",
   "execution_count": null,
   "id": "c3f94887-ff88-4364-83fb-21fde7ff367b",
   "metadata": {},
   "outputs": [],
   "source": []
  }
 ],
 "metadata": {
  "kernelspec": {
   "display_name": "Python 3 (ipykernel)",
   "language": "python",
   "name": "python3"
  },
  "language_info": {
   "codemirror_mode": {
    "name": "ipython",
    "version": 3
   },
   "file_extension": ".py",
   "mimetype": "text/x-python",
   "name": "python",
   "nbconvert_exporter": "python",
   "pygments_lexer": "ipython3",
   "version": "3.9.13"
  }
 },
 "nbformat": 4,
 "nbformat_minor": 5
}
