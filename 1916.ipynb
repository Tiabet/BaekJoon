{
 "cells": [
  {
   "cell_type": "code",
   "execution_count": 1,
   "id": "7f1ba75d-5c49-4996-b1f4-148c231ff4c2",
   "metadata": {},
   "outputs": [
    {
     "name": "stdin",
     "output_type": "stream",
     "text": [
      " 5\n"
     ]
    }
   ],
   "source": [
    "n = int(input())"
   ]
  },
  {
   "cell_type": "code",
   "execution_count": 2,
   "id": "711b566d-e17c-4b86-93ff-e64f213841f1",
   "metadata": {},
   "outputs": [
    {
     "name": "stdin",
     "output_type": "stream",
     "text": [
      " 8\n"
     ]
    }
   ],
   "source": [
    "m = int(input())"
   ]
  },
  {
   "cell_type": "code",
   "execution_count": 7,
   "id": "c1ceacb1-6888-401e-bc15-1a497f3705a4",
   "metadata": {},
   "outputs": [
    {
     "name": "stdin",
     "output_type": "stream",
     "text": [
      " 1 2 2\n",
      " 1 3 3\n",
      " 1 4 1\n",
      " 1 5 10\n",
      " 2 4 2\n",
      " 3 4 1\n",
      " 3 5 1\n",
      " 4 5 3\n"
     ]
    }
   ],
   "source": [
    "graph = [0]*m\n",
    "for i in range(m):\n",
    "    graph[i] = list(map(int,input().split()))\n",
    "    "
   ]
  },
  {
   "cell_type": "code",
   "execution_count": 13,
   "id": "9b411983-af1b-4d5a-ad01-c4c1a9a85c15",
   "metadata": {},
   "outputs": [
    {
     "name": "stdin",
     "output_type": "stream",
     "text": [
      " 1 5\n"
     ]
    }
   ],
   "source": [
    "to_start, to_end = map(int, input().split())"
   ]
  },
  {
   "cell_type": "code",
   "execution_count": 23,
   "id": "ef8253ac-7305-429a-a521-9138ef51ee70",
   "metadata": {},
   "outputs": [],
   "source": [
    "cost_arr = []\n",
    "def cal_cost(start,to_start,to_end,graph):\n",
    "    cost = 0\n",
    "    if graph[start][0] == to_start:\n",
    "        cost+=graph[start][2]\n",
    "        if graph[start][1] != to_end :\n",
    "            to_start = graph[start][1]\n",
    "            cal_cost(start,to_start,to_end, graph)\n",
    "    return cost"
   ]
  },
  {
   "cell_type": "code",
   "execution_count": 24,
   "id": "753bf67e-0ede-479a-9ec0-3d9dfaa3d44b",
   "metadata": {},
   "outputs": [],
   "source": [
    "for i in range(m):\n",
    "    cost_arr.append(cal_cost(i,to_start,to_end, graph))"
   ]
  },
  {
   "cell_type": "code",
   "execution_count": 25,
   "id": "2db1f134-1cb6-4186-9cd2-5afa68051c3f",
   "metadata": {},
   "outputs": [
    {
     "data": {
      "text/plain": [
       "[2, 3, 1, 10, 0, 0, 0, 0]"
      ]
     },
     "execution_count": 25,
     "metadata": {},
     "output_type": "execute_result"
    }
   ],
   "source": [
    "cost_arr"
   ]
  },
  {
   "cell_type": "code",
   "execution_count": null,
   "id": "f65ff1f1-b4c3-4a8f-af73-43ac01b65627",
   "metadata": {},
   "outputs": [],
   "source": [
    "import heapq\n",
    "from sys import maxsize\n",
    "import sys\n",
    "\n",
    "\n",
    "input = sys.stdin.readline\n",
    "\n",
    "n = int(input())\n",
    "m = int(input())\n",
    "\n",
    "graph = [[] for _ in range(n + 1)]\n",
    "visited = [maxsize] * (n + 1)\n",
    "for _ in range(m):\n",
    "    a, b, c = map(int, input().split())\n",
    "    graph[a].append((c, b))\n",
    "\n",
    "start, end = map(int, input().split())\n",
    "\n",
    "\n",
    "def dijkstra(x):\n",
    "    pq = []\n",
    "    heapq.heappush(pq, (0, x))\n",
    "    visited[x] = 0\n",
    "\n",
    "    while pq:\n",
    "        d, x = heapq.heappop(pq)\n",
    "\n",
    "        if visited[x] < d:\n",
    "            continue\n",
    "\n",
    "        for nw, nx in graph[x]:\n",
    "            nd = d + nw\n",
    "\n",
    "            if visited[nx] > nd:\n",
    "                heapq.heappush(pq, (nd, nx))\n",
    "                visited[nx] = nd\n",
    "\n",
    "\n",
    "dijkstra(start)\n",
    "\n",
    "print(visited[end])"
   ]
  }
 ],
 "metadata": {
  "kernelspec": {
   "display_name": "Python 3 (ipykernel)",
   "language": "python",
   "name": "python3"
  },
  "language_info": {
   "codemirror_mode": {
    "name": "ipython",
    "version": 3
   },
   "file_extension": ".py",
   "mimetype": "text/x-python",
   "name": "python",
   "nbconvert_exporter": "python",
   "pygments_lexer": "ipython3",
   "version": "3.9.13"
  }
 },
 "nbformat": 4,
 "nbformat_minor": 5
}
