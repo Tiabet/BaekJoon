{
 "cells": [
  {
   "cell_type": "code",
   "execution_count": 10,
   "id": "fb93d730-aedc-417b-967d-4420ec14deb8",
   "metadata": {},
   "outputs": [
    {
     "name": "stdin",
     "output_type": "stream",
     "text": [
      " 2\n"
     ]
    }
   ],
   "source": [
    "n = int(input())"
   ]
  },
  {
   "cell_type": "code",
   "execution_count": 2,
   "id": "1e0ee44f-bd16-4987-9c65-f79ae75672df",
   "metadata": {},
   "outputs": [],
   "source": [
    "dp = [0 for i in range(100)]"
   ]
  },
  {
   "cell_type": "code",
   "execution_count": 4,
   "id": "0b042803-926f-4036-a133-0ac60597c2aa",
   "metadata": {},
   "outputs": [],
   "source": [
    "dp[0] = 9"
   ]
  },
  {
   "cell_type": "code",
   "execution_count": 15,
   "id": "5f3d3728-2c6e-4565-9f2b-f7603bd5f521",
   "metadata": {},
   "outputs": [],
   "source": [
    "dp[1] = 17"
   ]
  },
  {
   "cell_type": "code",
   "execution_count": 19,
   "id": "d6ec11e2-a7f2-49a0-967d-159c1f4fe9c9",
   "metadata": {},
   "outputs": [],
   "source": [
    "for i in range(2,100):\n",
    "    dp[i] = dp[i-1]*2 - i"
   ]
  },
  {
   "cell_type": "markdown",
   "id": "72a9ecb0-09b5-40d2-852e-012c4feefbcd",
   "metadata": {},
   "source": [
    "10 12 21 23 32 34 43 45 54 56 65 67 76 78 87 89 98\n",
    "\n",
    "0 -> 1\n",
    "1 -> 0, 2\n",
    "2 -> 1, 3\n",
    "3 -> 2, 4\n",
    "4 -> 3, 5\n",
    "5 -> 4, 6\n",
    "6 -> 5, 7\n",
    "7 -> 6, 8\n",
    "8 -> 7, 9\n",
    "9 -> 0\n",
    " \n",
    "9 17 32 \n",
    "\n",
    "101 121 123 210 212 232 234 321 323 343 345 432 434 454 456 543 545 565 567 654 656 "
   ]
  },
  {
   "cell_type": "code",
   "execution_count": 18,
   "id": "6b0a92c5-de3a-4687-8146-3dc690ca8c78",
   "metadata": {},
   "outputs": [
    {
     "name": "stdout",
     "output_type": "stream",
     "text": [
      "17\n"
     ]
    }
   ],
   "source": [
    "print(dp[n-1]%1000000000)"
   ]
  },
  {
   "cell_type": "code",
   "execution_count": null,
   "id": "c894ccf0-36e9-4d82-8872-a2be03ddfb1c",
   "metadata": {},
   "outputs": [],
   "source": [
    "dp"
   ]
  },
  {
   "cell_type": "code",
   "execution_count": 29,
   "id": "af3482fb-8ba8-464d-9099-66e4cacb6bb4",
   "metadata": {},
   "outputs": [
    {
     "name": "stdin",
     "output_type": "stream",
     "text": [
      " 8\n"
     ]
    },
    {
     "name": "stdout",
     "output_type": "stream",
     "text": [
      "813\n"
     ]
    }
   ],
   "source": [
    "N = int(input())\n",
    "\n",
    "dp = [[0]*10 for _ in range(N+1)]\n",
    "for i in range(1, 10):\n",
    "    dp[1][i] = 1\n",
    "\n",
    "MOD = 1000000000\n",
    "\n",
    "for i in range(2, N+1):\n",
    "    for j in range(10):\n",
    "        if j == 0:\n",
    "            dp[i][j] = dp[i-1][1]\n",
    "        elif j == 9:\n",
    "            dp[i][j] = dp[i-1][8]\n",
    "        else:\n",
    "            dp[i][j] = dp[i-1][j-1] + dp[i-1][j+1] \n",
    "\n",
    "print(sum(dp[N]) % MOD)"
   ]
  },
  {
   "cell_type": "code",
   "execution_count": 22,
   "id": "cce72228-1a2b-4033-aa89-32362f580141",
   "metadata": {},
   "outputs": [
    {
     "data": {
      "text/plain": [
       "[[0, 0, 0, 0, 0, 0, 0, 0, 0, 0],\n",
       " [0, 1, 1, 1, 1, 1, 1, 1, 1, 1],\n",
       " [1, 1, 2, 2, 2, 2, 2, 2, 2, 1]]"
      ]
     },
     "execution_count": 22,
     "metadata": {},
     "output_type": "execute_result"
    }
   ],
   "source": []
  },
  {
   "cell_type": "code",
   "execution_count": null,
   "id": "969cb74c-30c2-4a8f-aea1-79d336856a9b",
   "metadata": {},
   "outputs": [],
   "source": []
  }
 ],
 "metadata": {
  "kernelspec": {
   "display_name": "Python 3 (ipykernel)",
   "language": "python",
   "name": "python3"
  },
  "language_info": {
   "codemirror_mode": {
    "name": "ipython",
    "version": 3
   },
   "file_extension": ".py",
   "mimetype": "text/x-python",
   "name": "python",
   "nbconvert_exporter": "python",
   "pygments_lexer": "ipython3",
   "version": "3.9.13"
  }
 },
 "nbformat": 4,
 "nbformat_minor": 5
}
