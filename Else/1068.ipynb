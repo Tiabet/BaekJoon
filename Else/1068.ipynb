{
 "cells": [
  {
   "cell_type": "code",
   "execution_count": 1,
   "id": "4a6a9463-2d25-470b-a217-505bae6dfa94",
   "metadata": {},
   "outputs": [
    {
     "name": "stdin",
     "output_type": "stream",
     "text": [
      " 5\n"
     ]
    }
   ],
   "source": [
    "n = int(input())"
   ]
  },
  {
   "cell_type": "code",
   "execution_count": 16,
   "id": "d61e2fa0-2514-48a4-a3fd-3f37864aa931",
   "metadata": {},
   "outputs": [
    {
     "name": "stdin",
     "output_type": "stream",
     "text": [
      " -1 0 0 1 1\n"
     ]
    }
   ],
   "source": [
    "arr = input().split()"
   ]
  },
  {
   "cell_type": "code",
   "execution_count": 17,
   "id": "d43a560c-5ef5-4594-bd36-41f1ea5573e8",
   "metadata": {},
   "outputs": [],
   "source": [
    "arr = [int(x) for x in arr]"
   ]
  },
  {
   "cell_type": "code",
   "execution_count": 48,
   "id": "d6da36b9-99c0-41be-8a4a-0eae76a3b11b",
   "metadata": {},
   "outputs": [
    {
     "name": "stdin",
     "output_type": "stream",
     "text": [
      " 2\n"
     ]
    }
   ],
   "source": [
    "to_remove = int(input())"
   ]
  },
  {
   "cell_type": "code",
   "execution_count": 49,
   "id": "938c2de1-3f8b-43f5-aa14-ec9e5803796d",
   "metadata": {},
   "outputs": [],
   "source": [
    "class Node:\n",
    "    def __init__(self, data):\n",
    "        self.data = data\n",
    "        self.children = []\n",
    "\n",
    "    def add_child(self, child):\n",
    "        self.children.append(child)\n"
   ]
  },
  {
   "cell_type": "code",
   "execution_count": 50,
   "id": "b0ba4306-3ba9-49d5-bf8b-f842873041f7",
   "metadata": {},
   "outputs": [],
   "source": [
    "# List to store nodes\n",
    "nodes = [Node(str(i)) for i in range(len(arr))]\n",
    "\n",
    "root_idx = 0\n",
    "\n",
    "# Constructing the tree based on the relationships specified in the array\n",
    "for i, parent_index in enumerate(arr):\n",
    "    if parent_index != -1:\n",
    "        nodes[parent_index].children.append(nodes[i])\n",
    "    else :\n",
    "        root_idx = i\n"
   ]
  },
  {
   "cell_type": "code",
   "execution_count": 51,
   "id": "54f26072-1532-424d-9624-adc77cb97810",
   "metadata": {},
   "outputs": [],
   "source": [
    "def count_all_children(node):\n",
    "    if not node.children:\n",
    "        return 0\n",
    "\n",
    "    count = 0\n",
    "    for child in node.children:\n",
    "        count += 1 + count_all_children(child)  # Increment by 1 for the current child and count its children\n",
    "    return count\n",
    "\n",
    "def count_leaf_nodes(node):\n",
    "    if not node.children:  # 자식 노드가 없으면 해당 노드는 리프 노드입니다\n",
    "        return 1\n",
    "\n",
    "    leaf_count = 0\n",
    "    for child in node.children:\n",
    "        leaf_count += count_leaf_nodes(child)\n",
    "    return leaf_count"
   ]
  },
  {
   "cell_type": "code",
   "execution_count": 52,
   "id": "75cfb3a9-af7f-49b7-918b-d7ce4259cc54",
   "metadata": {},
   "outputs": [
    {
     "name": "stdout",
     "output_type": "stream",
     "text": [
      "3\n"
     ]
    }
   ],
   "source": [
    "print(count_leaf_nodes(nodes[root_idx])-count_all_children(nodes[to_remove]))"
   ]
  },
  {
   "cell_type": "code",
   "execution_count": null,
   "id": "c67411fa-624e-49ec-85cf-ad266cc593fd",
   "metadata": {},
   "outputs": [],
   "source": []
  }
 ],
 "metadata": {
  "kernelspec": {
   "display_name": "Python 3 (ipykernel)",
   "language": "python",
   "name": "python3"
  },
  "language_info": {
   "codemirror_mode": {
    "name": "ipython",
    "version": 3
   },
   "file_extension": ".py",
   "mimetype": "text/x-python",
   "name": "python",
   "nbconvert_exporter": "python",
   "pygments_lexer": "ipython3",
   "version": "3.9.13"
  }
 },
 "nbformat": 4,
 "nbformat_minor": 5
}
