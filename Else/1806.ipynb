{
 "cells": [
  {
   "cell_type": "code",
   "execution_count": 1,
   "id": "79e415c1-8fba-4343-9f35-8aa00f2f05da",
   "metadata": {},
   "outputs": [
    {
     "name": "stdin",
     "output_type": "stream",
     "text": [
      " 10 15\n"
     ]
    }
   ],
   "source": [
    "n, purpose = map(int, input().split())"
   ]
  },
  {
   "cell_type": "code",
   "execution_count": 2,
   "id": "0cea3302-3d56-4a7c-a89c-a3a91131d378",
   "metadata": {},
   "outputs": [
    {
     "name": "stdin",
     "output_type": "stream",
     "text": [
      " 5 1 3 5 10 7 4 9 2 8\n"
     ]
    }
   ],
   "source": [
    "nums = [int(i) for i in input().split()]"
   ]
  },
  {
   "cell_type": "code",
   "execution_count": 32,
   "id": "a1dcacb9-aef9-4d91-9280-e273c6b02180",
   "metadata": {},
   "outputs": [],
   "source": [
    "s = 0"
   ]
  },
  {
   "cell_type": "code",
   "execution_count": 33,
   "id": "1e976edc-46d6-476a-acb7-95c4e0243745",
   "metadata": {},
   "outputs": [
    {
     "name": "stdout",
     "output_type": "stream",
     "text": [
      "5\n",
      "1\n",
      "3\n",
      "5\n",
      "10\n",
      "7\n",
      "4\n",
      "9\n",
      "2\n",
      "8\n",
      "6\n",
      "4\n",
      "8\n",
      "15\n"
     ]
    }
   ],
   "source": [
    "while True:\n",
    "    s+=1\n",
    "    for i in range(0,n-s+1):\n",
    "        k=sum(nums[i:i+s])\n",
    "        if k >= purpose :\n",
    "            break\n",
    "    if k>=purpose:\n",
    "        break\n",
    "    if s > n :\n",
    "        break"
   ]
  },
  {
   "cell_type": "code",
   "execution_count": 35,
   "id": "a6595b60-ab2f-4935-909e-600cd761fc67",
   "metadata": {},
   "outputs": [
    {
     "name": "stdout",
     "output_type": "stream",
     "text": [
      "2\n"
     ]
    }
   ],
   "source": [
    "if s > n :\n",
    "    print(0)\n",
    "else : \n",
    "    print(s)"
   ]
  },
  {
   "cell_type": "code",
   "execution_count": null,
   "id": "d4030e7a-fc5e-4fba-a545-d8fdbacda32c",
   "metadata": {},
   "outputs": [],
   "source": []
  }
 ],
 "metadata": {
  "kernelspec": {
   "display_name": "Python 3 (ipykernel)",
   "language": "python",
   "name": "python3"
  },
  "language_info": {
   "codemirror_mode": {
    "name": "ipython",
    "version": 3
   },
   "file_extension": ".py",
   "mimetype": "text/x-python",
   "name": "python",
   "nbconvert_exporter": "python",
   "pygments_lexer": "ipython3",
   "version": "3.9.13"
  }
 },
 "nbformat": 4,
 "nbformat_minor": 5
}
