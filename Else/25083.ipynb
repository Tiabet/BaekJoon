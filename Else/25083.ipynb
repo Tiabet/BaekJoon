{
 "cells": [
  {
   "cell_type": "code",
   "execution_count": 14,
   "id": "eac1658f-5d28-4a38-9f2f-a5390a14f0e1",
   "metadata": {},
   "outputs": [
    {
     "name": "stdout",
     "output_type": "stream",
     "text": [
      "         ,r'\"7\n",
      "r`-_   ,'  ,/\n",
      " \\. \". L_r'\n",
      "   `~\\/\n",
      "      |\n",
      "      |\n"
     ]
    }
   ],
   "source": [
    "print(\"         ,r'\"+'\"7')\n",
    "print(\"r`-_   ,'\"+'  ,/')\n",
    "print(' \\. \". L_r'+\"'\")\n",
    "print(\"   `~\\/\")\n",
    "print(\"      |\")\n",
    "print(\"      |\")"
   ]
  },
  {
   "cell_type": "code",
   "execution_count": null,
   "id": "37e82f08-7224-475e-ab0c-32ac287fa666",
   "metadata": {},
   "outputs": [],
   "source": []
  }
 ],
 "metadata": {
  "kernelspec": {
   "display_name": "Python 3 (ipykernel)",
   "language": "python",
   "name": "python3"
  },
  "language_info": {
   "codemirror_mode": {
    "name": "ipython",
    "version": 3
   },
   "file_extension": ".py",
   "mimetype": "text/x-python",
   "name": "python",
   "nbconvert_exporter": "python",
   "pygments_lexer": "ipython3",
   "version": "3.9.13"
  }
 },
 "nbformat": 4,
 "nbformat_minor": 5
}
