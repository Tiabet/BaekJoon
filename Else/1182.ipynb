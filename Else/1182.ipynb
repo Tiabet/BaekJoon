{
 "cells": [
  {
   "cell_type": "code",
   "execution_count": 35,
   "id": "b3578c34-975f-488d-bcf9-45bf4816a4ed",
   "metadata": {},
   "outputs": [
    {
     "name": "stdin",
     "output_type": "stream",
     "text": [
      " 5 0\n"
     ]
    }
   ],
   "source": [
    "n, s = map(int, input().split())"
   ]
  },
  {
   "cell_type": "code",
   "execution_count": 36,
   "id": "e3b39a96-7cd2-44c7-9c97-8d412a6e3565",
   "metadata": {},
   "outputs": [
    {
     "name": "stdin",
     "output_type": "stream",
     "text": [
      " 0 0 0 0 0\n"
     ]
    }
   ],
   "source": [
    "nums = [int(i) for i in input().split()]"
   ]
  },
  {
   "cell_type": "code",
   "execution_count": 43,
   "id": "32863c6e-81c3-4e2c-a98a-842f1b999676",
   "metadata": {},
   "outputs": [
    {
     "name": "stdout",
     "output_type": "stream",
     "text": [
      "0\n",
      "0\n",
      "0\n",
      "0\n",
      "0\n",
      "0\n",
      "0\n",
      "0\n",
      "0\n",
      "0\n",
      "0\n",
      "0\n",
      "0\n",
      "0\n",
      "0\n",
      "0\n",
      "0\n",
      "0\n",
      "0\n",
      "0\n",
      "0\n",
      "0\n",
      "0\n",
      "0\n",
      "0\n"
     ]
    }
   ],
   "source": [
    "count = 0 \n",
    "for i in range(n):\n",
    "    init = nums[i]\n",
    "    if init == s:\n",
    "        count+=1\n",
    "    for j in range(n):\n",
    "        init = nums[i]\n",
    "        for k in range(n):\n",
    "            init += nums[k]\n",
    "            print(init)\n",
    "            if init == s:\n",
    "                count+=1\n",
    "                break"
   ]
  },
  {
   "cell_type": "code",
   "execution_count": 44,
   "id": "9e819e96-0411-4ebc-8ba3-85d43e7f36f9",
   "metadata": {},
   "outputs": [
    {
     "data": {
      "text/plain": [
       "30"
      ]
     },
     "execution_count": 44,
     "metadata": {},
     "output_type": "execute_result"
    }
   ],
   "source": [
    "count"
   ]
  },
  {
   "cell_type": "code",
   "execution_count": null,
   "id": "c6b4f8d6-1e8d-4f72-9651-8b4d3cf58bc4",
   "metadata": {},
   "outputs": [],
   "source": []
  }
 ],
 "metadata": {
  "kernelspec": {
   "display_name": "Python 3 (ipykernel)",
   "language": "python",
   "name": "python3"
  },
  "language_info": {
   "codemirror_mode": {
    "name": "ipython",
    "version": 3
   },
   "file_extension": ".py",
   "mimetype": "text/x-python",
   "name": "python",
   "nbconvert_exporter": "python",
   "pygments_lexer": "ipython3",
   "version": "3.9.13"
  }
 },
 "nbformat": 4,
 "nbformat_minor": 5
}
