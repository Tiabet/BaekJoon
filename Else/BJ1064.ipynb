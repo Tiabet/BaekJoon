{
 "cells": [
  {
   "cell_type": "code",
   "execution_count": null,
   "id": "104483d0-943b-4568-b9f2-3b7596b133df",
   "metadata": {},
   "outputs": [],
   "source": [
    "ax, ay, bx, by, cx, cy = map(int, input().split())\n",
    "\n",
    "if ((ax-bx)*(ay-cy)==(ay-by)*(ax-cx)):\n",
    "    print(-1.0)\n",
    "    exit(0)\n",
    "\n",
    "ab_length = ((ax-bx)**2 + (ay-by)**2)**0.5\n",
    "ac_length = ((ax-cx)**2 + (ay-cy)**2)**0.5\n",
    "bc_length = ((bx-cx)**2 + (by-cy)**2)**0.5\n",
    "\n",
    "length = [ab_length+ac_length, ab_length+bc_length, ac_length+bc_length]\n",
    "result = max(length) - min(length)\n",
    "print(2*result)"
   ]
  },
  {
   "cell_type": "code",
   "execution_count": null,
   "id": "f4fd2f63-0a28-417a-bc85-88b735c54ff2",
   "metadata": {},
   "outputs": [],
   "source": []
  }
 ],
 "metadata": {
  "kernelspec": {
   "display_name": "Python 3 (ipykernel)",
   "language": "python",
   "name": "python3"
  },
  "language_info": {
   "codemirror_mode": {
    "name": "ipython",
    "version": 3
   },
   "file_extension": ".py",
   "mimetype": "text/x-python",
   "name": "python",
   "nbconvert_exporter": "python",
   "pygments_lexer": "ipython3",
   "version": "3.9.13"
  }
 },
 "nbformat": 4,
 "nbformat_minor": 5
}
