{
 "cells": [
  {
   "cell_type": "code",
   "execution_count": 45,
   "id": "f1f5ebc6-83b0-4810-981c-dc579396529d",
   "metadata": {},
   "outputs": [
    {
     "name": "stdin",
     "output_type": "stream",
     "text": [
      " 65536 1000 35000\n"
     ]
    }
   ],
   "source": [
    "import math\n",
    "\n",
    "n, jimin, hansu  = map(int, input().split())"
   ]
  },
  {
   "cell_type": "code",
   "execution_count": 46,
   "id": "1d288e99-e8a5-4f20-973e-91786e5944a8",
   "metadata": {},
   "outputs": [],
   "source": [
    "count = 1"
   ]
  },
  {
   "cell_type": "code",
   "execution_count": 47,
   "id": "17ef0512-3bb3-45a0-a468-92fc63961989",
   "metadata": {},
   "outputs": [
    {
     "name": "stdout",
     "output_type": "stream",
     "text": [
      "17500\n",
      "500\n",
      "8750\n",
      "250\n",
      "4375\n",
      "125\n",
      "2188\n",
      "63\n",
      "1094\n",
      "32\n",
      "547\n",
      "16\n",
      "274\n",
      "8\n",
      "137\n",
      "4\n",
      "69\n",
      "2\n",
      "35\n",
      "1\n",
      "18\n",
      "1\n",
      "9\n",
      "1\n",
      "5\n",
      "1\n",
      "3\n",
      "1\n",
      "2\n",
      "1\n",
      "16\n"
     ]
    }
   ],
   "source": [
    "while(True):\n",
    "    if jimin>hansu:\n",
    "        jimin, hansu = hansu, jimin\n",
    "        \n",
    "    if hansu - jimin == 1 and jimin%2 != 0:\n",
    "        break\n",
    "    else :\n",
    "        hansu /= 2\n",
    "        jimin /= 2\n",
    "        if hansu < 1 :\n",
    "            hansu = 1\n",
    "        if jimin < 1:\n",
    "            jimin = 1\n",
    "            \n",
    "        hansu = math.ceil(hansu)\n",
    "        jimin = math.ceil(jimin)\n",
    "        \n",
    "        count+=1\n",
    "        \n",
    "print(count)"
   ]
  },
  {
   "cell_type": "code",
   "execution_count": 44,
   "id": "c30d85cb-3c35-4342-a9d7-077b74006f43",
   "metadata": {},
   "outputs": [
    {
     "name": "stdout",
     "output_type": "stream",
     "text": [
      "16\n"
     ]
    }
   ],
   "source": []
  },
  {
   "cell_type": "code",
   "execution_count": 4,
   "id": "1ba3801a-04e2-449e-b4a8-0d7af67eab82",
   "metadata": {},
   "outputs": [],
   "source": []
  },
  {
   "cell_type": "code",
   "execution_count": 21,
   "id": "3f8770f7-479c-4b23-99cc-f6ff3ea22bc1",
   "metadata": {},
   "outputs": [],
   "source": [
    "hansu/=2"
   ]
  },
  {
   "cell_type": "code",
   "execution_count": 22,
   "id": "7b9ca46a-df04-4dd9-9862-f55d1419176d",
   "metadata": {},
   "outputs": [
    {
     "data": {
      "text/plain": [
       "4.5"
      ]
     },
     "execution_count": 22,
     "metadata": {},
     "output_type": "execute_result"
    }
   ],
   "source": [
    "hansu"
   ]
  }
 ],
 "metadata": {
  "kernelspec": {
   "display_name": "Python 3 (ipykernel)",
   "language": "python",
   "name": "python3"
  },
  "language_info": {
   "codemirror_mode": {
    "name": "ipython",
    "version": 3
   },
   "file_extension": ".py",
   "mimetype": "text/x-python",
   "name": "python",
   "nbconvert_exporter": "python",
   "pygments_lexer": "ipython3",
   "version": "3.9.13"
  }
 },
 "nbformat": 4,
 "nbformat_minor": 5
}
