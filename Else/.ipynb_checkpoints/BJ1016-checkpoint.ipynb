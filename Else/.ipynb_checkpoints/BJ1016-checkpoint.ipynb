{
 "cells": [
  {
   "cell_type": "code",
   "execution_count": 39,
   "id": "cc3e59ae-3169-4b6f-91f7-bba3d75fba09",
   "metadata": {},
   "outputs": [
    {
     "name": "stdin",
     "output_type": "stream",
     "text": [
      " 1 10\n"
     ]
    },
    {
     "name": "stdout",
     "output_type": "stream",
     "text": [
      "7\n"
     ]
    }
   ],
   "source": [
    "min_num, max_num = map(int, input().split())\n",
    "\n",
    "def prime_list(n):\n",
    "    # 에라토스테네스의 체 초기화: n개 요소에 True 설정(소수로 간주)\n",
    "    sieve = [True] * n\n",
    "\n",
    "    # n의 최대 약수가 sqrt(n) 이하이므로 i=sqrt(n)까지 검사\n",
    "    m = int(n ** 0.5)\n",
    "    for i in range(2, m + 1):\n",
    "        if sieve[i] == True:           # i가 소수인 경우\n",
    "            for j in range(i+i, n, i): # i이후 i의 배수들을 False 판정\n",
    "                sieve[j] = False\n",
    "\n",
    "    # 소수 목록 산출\n",
    "    return [i for i in range(2, n) if sieve[i] == True]\n",
    "\n",
    "prime_lst = prime_list(max_num)\n",
    "prime_lst = [i for i in prime_lst if i >=min_num]\n",
    "\n",
    "lst = [True] * (max_num)\n",
    "\n",
    "for num in prime_lst :\n",
    "    for i in range(len(lst)):\n",
    "        if (i+1) % num**2 == 0 and lst[i] == True:\n",
    "            lst[i] = False\n",
    "\n",
    "for i in range(min_num):\n",
    "    lst[i-2] = False\n",
    "    \n",
    "count_true = sum(1 for i in lst if i)\n",
    "print(count_true)"
   ]
  },
  {
   "cell_type": "code",
   "execution_count": 42,
   "id": "1a0f99db-48e0-4882-a2e5-3e6de5fadaa3",
   "metadata": {},
   "outputs": [
    {
     "name": "stdin",
     "output_type": "stream",
     "text": [
      " 1 1000\n"
     ]
    },
    {
     "name": "stdout",
     "output_type": "stream",
     "text": [
      "608\n"
     ]
    }
   ],
   "source": [
    "import math\n",
    "\n",
    "min_num, max_num = map(int, input().split())\n",
    "\n",
    "def is_prime(n):\n",
    "    if n < 2:\n",
    "        return False\n",
    "    for i in range(2, int(math.sqrt(n))+1):\n",
    "        if n % i == 0:\n",
    "            return False\n",
    "    return True\n",
    "\n",
    "lst = [True] * (max_num - min_num + 1)\n",
    "\n",
    "for i in range(min_num, max_num+1):\n",
    "    if is_prime(i):\n",
    "        for j in range(i*i, max_num+1, i*i):\n",
    "            if j >= min_num:\n",
    "                lst[j-min_num] = False\n",
    "\n",
    "count_true = sum(1 for i in lst if i)\n",
    "print(count_true)\n"
   ]
  },
  {
   "cell_type": "code",
   "execution_count": 40,
   "id": "f556a807-0886-429d-9f90-b31e6525ee48",
   "metadata": {},
   "outputs": [
    {
     "name": "stdout",
     "output_type": "stream",
     "text": [
      "[True, True, True, False, True, True, True, False, False, True]\n"
     ]
    }
   ],
   "source": [
    "min_num, max_num = map(int, input().split())\n",
    "\n",
    "# 에라토스테네스의 체 초기화: n개 요소에 True 설정(소수로 간주)\n",
    "sieve = [True] * (max_num - min_num + 1)\n",
    "\n",
    "# 제곱수 목록 구하기\n",
    "squares = [i ** 2 for i in range(2, int(max_num ** 0.5) + 1)]\n",
    "\n",
    "# 범위 내의 수들에 대해 검사\n",
    "for square in squares:\n",
    "    # 범위 내에서 square의 배수인 수들을 False로 설정\n",
    "    start = (min_num // square) * square\n",
    "    if start < min_num:\n",
    "        start += square\n",
    "    for j in range(start, max_num+1, square):\n",
    "        sieve[j-min_num] = False\n",
    "\n",
    "# True인 요소의 개수 출력\n",
    "count_true = sum(1 for i in sieve if i)\n",
    "print(count_true)\n"
   ]
  }
 ],
 "metadata": {
  "kernelspec": {
   "display_name": "Python 3 (ipykernel)",
   "language": "python",
   "name": "python3"
  },
  "language_info": {
   "codemirror_mode": {
    "name": "ipython",
    "version": 3
   },
   "file_extension": ".py",
   "mimetype": "text/x-python",
   "name": "python",
   "nbconvert_exporter": "python",
   "pygments_lexer": "ipython3",
   "version": "3.9.13"
  }
 },
 "nbformat": 4,
 "nbformat_minor": 5
}
