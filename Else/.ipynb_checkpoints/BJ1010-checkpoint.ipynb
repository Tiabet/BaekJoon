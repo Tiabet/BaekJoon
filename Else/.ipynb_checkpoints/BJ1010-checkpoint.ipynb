{
 "cells": [
  {
   "cell_type": "code",
   "execution_count": 1,
   "id": "0609e62e-4c29-42ca-a3eb-fcf6de038d42",
   "metadata": {},
   "outputs": [
    {
     "name": "stdin",
     "output_type": "stream",
     "text": [
      " 3\n",
      " 2 2\n"
     ]
    },
    {
     "name": "stdout",
     "output_type": "stream",
     "text": [
      "1.0\n"
     ]
    },
    {
     "name": "stdin",
     "output_type": "stream",
     "text": [
      " 1 5\n"
     ]
    },
    {
     "name": "stdout",
     "output_type": "stream",
     "text": [
      "5.0\n"
     ]
    },
    {
     "name": "stdin",
     "output_type": "stream",
     "text": [
      " 13 29\n"
     ]
    },
    {
     "name": "stdout",
     "output_type": "stream",
     "text": [
      "67863915.0\n"
     ]
    }
   ],
   "source": [
    "t = int(input())\n",
    "\n",
    "def factorial(x):\n",
    "    result = 1\n",
    "    for item in range(1, x+1, 1):\n",
    "        result *= item      #result = result * item\n",
    "    return (result)\n",
    "\n",
    "for _ in range(t):\n",
    "    n,m = map(int, input().split())\n",
    "    x = factorial(m)\n",
    "    y = factorial(n)\n",
    "    z = factorial(m-n)\n",
    "    result = x/(y*z)\n",
    "    print(int(result))"
   ]
  },
  {
   "cell_type": "code",
   "execution_count": null,
   "id": "eed247b1-c9da-42ab-903a-44388534144f",
   "metadata": {},
   "outputs": [],
   "source": []
  }
 ],
 "metadata": {
  "kernelspec": {
   "display_name": "Python 3 (ipykernel)",
   "language": "python",
   "name": "python3"
  },
  "language_info": {
   "codemirror_mode": {
    "name": "ipython",
    "version": 3
   },
   "file_extension": ".py",
   "mimetype": "text/x-python",
   "name": "python",
   "nbconvert_exporter": "python",
   "pygments_lexer": "ipython3",
   "version": "3.9.13"
  }
 },
 "nbformat": 4,
 "nbformat_minor": 5
}
