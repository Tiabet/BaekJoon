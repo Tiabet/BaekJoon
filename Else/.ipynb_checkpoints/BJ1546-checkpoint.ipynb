{
 "cells": [
  {
   "cell_type": "code",
   "execution_count": 1,
   "id": "5a70d2df-d1fc-4cd8-b972-6584ad0efbf5",
   "metadata": {},
   "outputs": [
    {
     "name": "stdin",
     "output_type": "stream",
     "text": [
      " 3\n"
     ]
    }
   ],
   "source": [
    "n = int(input())"
   ]
  },
  {
   "cell_type": "code",
   "execution_count": 2,
   "id": "9b04892a-e01f-4543-af2f-ccd211cd8813",
   "metadata": {},
   "outputs": [
    {
     "name": "stdin",
     "output_type": "stream",
     "text": [
      " 40 80 60\n"
     ]
    }
   ],
   "source": [
    "score = list(map(int, input().split()))"
   ]
  },
  {
   "cell_type": "code",
   "execution_count": 3,
   "id": "989abeb9-315c-4470-a22d-cea45ce6e989",
   "metadata": {},
   "outputs": [
    {
     "data": {
      "text/plain": [
       "[40, 80, 60]"
      ]
     },
     "execution_count": 3,
     "metadata": {},
     "output_type": "execute_result"
    }
   ],
   "source": [
    "score"
   ]
  },
  {
   "cell_type": "code",
   "execution_count": 4,
   "id": "26233731-496f-4e76-835c-f4ae17a2da9a",
   "metadata": {},
   "outputs": [],
   "source": [
    "m = max(score)"
   ]
  },
  {
   "cell_type": "code",
   "execution_count": 14,
   "id": "da94dab0-c83f-4689-9b32-8690e268d086",
   "metadata": {},
   "outputs": [],
   "source": [
    "newscore = []\n",
    "for i in score :\n",
    "    i = i/m*100\n",
    "    newscore.append(i)"
   ]
  },
  {
   "cell_type": "code",
   "execution_count": 15,
   "id": "b99aeca4-0d89-4824-8942-f3834797efb4",
   "metadata": {},
   "outputs": [
    {
     "data": {
      "text/plain": [
       "[50.0, 100.0, 75.0]"
      ]
     },
     "execution_count": 15,
     "metadata": {},
     "output_type": "execute_result"
    }
   ],
   "source": [
    "newscore"
   ]
  },
  {
   "cell_type": "code",
   "execution_count": 16,
   "id": "5a350d05-0acc-4c13-9160-8972d8e05f35",
   "metadata": {},
   "outputs": [
    {
     "name": "stdout",
     "output_type": "stream",
     "text": [
      "75.0\n"
     ]
    }
   ],
   "source": [
    "print(sum(newscore)/n)"
   ]
  },
  {
   "cell_type": "code",
   "execution_count": null,
   "id": "99830497-aed7-45e0-a401-206643ebd4bf",
   "metadata": {},
   "outputs": [],
   "source": []
  }
 ],
 "metadata": {
  "kernelspec": {
   "display_name": "Python 3 (ipykernel)",
   "language": "python",
   "name": "python3"
  },
  "language_info": {
   "codemirror_mode": {
    "name": "ipython",
    "version": 3
   },
   "file_extension": ".py",
   "mimetype": "text/x-python",
   "name": "python",
   "nbconvert_exporter": "python",
   "pygments_lexer": "ipython3",
   "version": "3.9.13"
  }
 },
 "nbformat": 4,
 "nbformat_minor": 5
}
