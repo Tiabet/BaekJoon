{
 "cells": [
  {
   "cell_type": "code",
   "execution_count": 28,
   "id": "bc1e0bab-f9c2-4400-8ea3-28331bd0bb40",
   "metadata": {},
   "outputs": [
    {
     "name": "stdin",
     "output_type": "stream",
     "text": [
      " 12345 35\n"
     ]
    }
   ],
   "source": [
    "n, b = map(str, input().split())"
   ]
  },
  {
   "cell_type": "code",
   "execution_count": 29,
   "id": "c30b37c8-afb3-481a-ad23-2d80ebbf77b7",
   "metadata": {},
   "outputs": [],
   "source": [
    "n_arr = []\n",
    "for i in range(len(n)):\n",
    "    if n[i].isalpha():\n",
    "        result = ord(n[i]) - ord('A') + 10\n",
    "        n_arr.append(result)\n",
    "    else :\n",
    "        n_arr.append(int(n[i]))"
   ]
  },
  {
   "cell_type": "code",
   "execution_count": 30,
   "id": "7553b43c-d56b-4478-9f34-db827a4bf3f4",
   "metadata": {},
   "outputs": [
    {
     "data": {
      "text/plain": [
       "[1, 2, 3, 4, 5]"
      ]
     },
     "execution_count": 30,
     "metadata": {},
     "output_type": "execute_result"
    }
   ],
   "source": [
    "n_arr"
   ]
  },
  {
   "cell_type": "code",
   "execution_count": 31,
   "id": "9f9daaab-dcc7-416b-9f43-25bb32316e3c",
   "metadata": {},
   "outputs": [],
   "source": [
    "result = 0\n",
    "for i in range(len(n_arr)):\n",
    "    result += n_arr[i] * int(b)**(len(n_arr)-i-1)"
   ]
  },
  {
   "cell_type": "code",
   "execution_count": 32,
   "id": "a2c83012-7af2-4f26-b1cd-4d0cf1dc4539",
   "metadata": {},
   "outputs": [
    {
     "data": {
      "text/plain": [
       "1590195"
      ]
     },
     "execution_count": 32,
     "metadata": {},
     "output_type": "execute_result"
    }
   ],
   "source": [
    "result"
   ]
  },
  {
   "cell_type": "code",
   "execution_count": null,
   "id": "b9074b4e-8668-4443-a26c-63f052436d13",
   "metadata": {},
   "outputs": [],
   "source": []
  }
 ],
 "metadata": {
  "kernelspec": {
   "display_name": "Python 3 (ipykernel)",
   "language": "python",
   "name": "python3"
  },
  "language_info": {
   "codemirror_mode": {
    "name": "ipython",
    "version": 3
   },
   "file_extension": ".py",
   "mimetype": "text/x-python",
   "name": "python",
   "nbconvert_exporter": "python",
   "pygments_lexer": "ipython3",
   "version": "3.9.13"
  }
 },
 "nbformat": 4,
 "nbformat_minor": 5
}
