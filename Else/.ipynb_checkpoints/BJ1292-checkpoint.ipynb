{
 "cells": [
  {
   "cell_type": "code",
   "execution_count": 12,
   "id": "685a254d-eb98-4944-a432-54bbd325071f",
   "metadata": {},
   "outputs": [
    {
     "name": "stdin",
     "output_type": "stream",
     "text": [
      " 3 7\n"
     ]
    },
    {
     "name": "stdout",
     "output_type": "stream",
     "text": [
      "15\n"
     ]
    }
   ],
   "source": [
    "d = []\n",
    "\n",
    "for i in range(1,50):\n",
    "    for j in range(i):\n",
    "        d.append(i)\n",
    "\n",
    "a,b = map(int, input().split())\n",
    "\n",
    "sum = 0\n",
    "for i in range(a-1,b):\n",
    "    sum+=d[i]\n",
    "print(sum)\n"
   ]
  },
  {
   "cell_type": "code",
   "execution_count": null,
   "id": "5c7b59ad-29b5-4941-81ff-4e7319499d49",
   "metadata": {},
   "outputs": [],
   "source": []
  }
 ],
 "metadata": {
  "kernelspec": {
   "display_name": "Python 3 (ipykernel)",
   "language": "python",
   "name": "python3"
  },
  "language_info": {
   "codemirror_mode": {
    "name": "ipython",
    "version": 3
   },
   "file_extension": ".py",
   "mimetype": "text/x-python",
   "name": "python",
   "nbconvert_exporter": "python",
   "pygments_lexer": "ipython3",
   "version": "3.9.13"
  }
 },
 "nbformat": 4,
 "nbformat_minor": 5
}
