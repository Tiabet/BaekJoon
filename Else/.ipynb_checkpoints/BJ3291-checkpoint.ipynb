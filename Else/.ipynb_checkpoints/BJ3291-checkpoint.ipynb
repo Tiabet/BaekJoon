{
 "cells": [
  {
   "cell_type": "code",
   "execution_count": 20,
   "id": "e5bc0ec8-3751-41df-bc62-a11de26cb080",
   "metadata": {},
   "outputs": [
    {
     "name": "stdin",
     "output_type": "stream",
     "text": [
      " 4\n",
      " 1\n",
      " UP\n",
      " 2\n",
      " UP\n",
      " 3\n",
      " DOWN\n",
      " 4\n",
      " DOWN\n"
     ]
    },
    {
     "name": "stdout",
     "output_type": "stream",
     "text": [
      "3\n",
      "1\n",
      "4\n",
      "2\n"
     ]
    }
   ],
   "source": [
    "n = int(input())\n",
    "\n",
    "lst=[]\n",
    "uplist = []\n",
    "downlist = []\n",
    "\n",
    "for i in range(n):\n",
    "    song = input()\n",
    "    where = input()\n",
    "    lst.append([song,where])\n",
    "    if where==\"UP\":\n",
    "        uplist.append(i)\n",
    "    elif where == \"DOWN\":\n",
    "        downlist.append(i)\n",
    "    else:\n",
    "        continue\n",
    "\n",
    "for i in range(len(downlist)):\n",
    "    tochange = []\n",
    "    row = downlist[i]\n",
    "    for j in range(row-1,-1,-1):\n",
    "        if j>=len(uplist):\n",
    "            continue\n",
    "        else:\n",
    "            tochange.append(uplist[j])\n",
    "    for j in range(len(tochange)):\n",
    "        lst[row],lst[tochange[j]] = lst[tochange[j]],lst[row]\n",
    "        row = tochange[j]\n",
    "        uplist[j]=downlist[i]\n",
    "        \n",
    "for i in range(n):\n",
    "    print(lst[i][0])\n",
    "        "
   ]
  },
  {
   "cell_type": "markdown",
   "id": "41a84ae6-c9b7-4a68-bce6-fd219ce11550",
   "metadata": {},
   "source": [
    "코드 설계\n",
    "\n",
    "1. 입력 받을 때 현재랭크도 같이 받아서 저장해야함\n",
    "2. UP, DOWN 인 거의 랭크는 기억하고 있어야함\n",
    "3. tochange, row 같은 변수를 선언해서, UP과 DOWN의 모든 원소들을 서로 바꾸어주어야함\n",
    "4. 위에서 내려오면서 DOWN을 먼저 찾고, 그위치에서 위로 올라가면서 UP을 찾아주면 해결될듯"
   ]
  }
 ],
 "metadata": {
  "kernelspec": {
   "display_name": "Python 3 (ipykernel)",
   "language": "python",
   "name": "python3"
  },
  "language_info": {
   "codemirror_mode": {
    "name": "ipython",
    "version": 3
   },
   "file_extension": ".py",
   "mimetype": "text/x-python",
   "name": "python",
   "nbconvert_exporter": "python",
   "pygments_lexer": "ipython3",
   "version": "3.9.13"
  }
 },
 "nbformat": 4,
 "nbformat_minor": 5
}
