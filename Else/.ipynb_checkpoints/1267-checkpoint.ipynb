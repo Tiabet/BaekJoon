{
 "cells": [
  {
   "cell_type": "code",
   "execution_count": 2,
   "id": "9eaf2443-2425-4641-ab54-b6a5b3eb6b79",
   "metadata": {},
   "outputs": [
    {
     "name": "stdin",
     "output_type": "stream",
     "text": [
      " 3\n",
      " 40 40 40\n"
     ]
    }
   ],
   "source": [
    "n = int(input())\n",
    "call_time = input().split()\n",
    "call = [int(x) for x in call_time]\n",
    "    "
   ]
  },
  {
   "cell_type": "code",
   "execution_count": 11,
   "id": "935cc4df-7c17-4b5e-80e9-7c32df530a1f",
   "metadata": {},
   "outputs": [],
   "source": [
    "cost_m = 0\n",
    "cost_y = 0\n",
    "for i in range(n) :\n",
    "    cost_y+=call[i]//30+1\n",
    "    cost_m+=call[i]//60+1\n",
    "\n",
    "cost_y *= 10\n",
    "cost_m *= 15"
   ]
  },
  {
   "cell_type": "code",
   "execution_count": 15,
   "id": "bea880dd-43d2-4882-a279-a3dd22c6f9dd",
   "metadata": {},
   "outputs": [
    {
     "name": "stdout",
     "output_type": "stream",
     "text": [
      "M 45\n"
     ]
    }
   ],
   "source": [
    "if cost_m<cost_y :\n",
    "    print(\"M {}\".format(cost_m))\n",
    "elif cost_m>cost_y :\n",
    "    print(\"Y {}\".format(cost_y))\n",
    "else :\n",
    "    print(\"Y M {}\".format(cost_m))"
   ]
  },
  {
   "cell_type": "code",
   "execution_count": null,
   "id": "597e0681-897f-42a0-875f-c4f6e022e538",
   "metadata": {},
   "outputs": [],
   "source": []
  }
 ],
 "metadata": {
  "kernelspec": {
   "display_name": "Python 3 (ipykernel)",
   "language": "python",
   "name": "python3"
  },
  "language_info": {
   "codemirror_mode": {
    "name": "ipython",
    "version": 3
   },
   "file_extension": ".py",
   "mimetype": "text/x-python",
   "name": "python",
   "nbconvert_exporter": "python",
   "pygments_lexer": "ipython3",
   "version": "3.9.13"
  }
 },
 "nbformat": 4,
 "nbformat_minor": 5
}
