{
 "cells": [
  {
   "cell_type": "code",
   "execution_count": 13,
   "id": "2910bb50-4dac-4656-8188-781c1cc8a8aa",
   "metadata": {},
   "outputs": [
    {
     "name": "stdin",
     "output_type": "stream",
     "text": [
      " 3 3\n"
     ]
    }
   ],
   "source": [
    "n, m = map(int, input().split())"
   ]
  },
  {
   "cell_type": "code",
   "execution_count": 14,
   "id": "ead661cc-e9b2-4214-aba4-0cdbf3e20fc6",
   "metadata": {},
   "outputs": [
    {
     "name": "stdin",
     "output_type": "stream",
     "text": [
      " 1 1 1\n",
      " 2 2 2\n",
      " 0 1 0\n"
     ]
    }
   ],
   "source": [
    "m1 = [[int(i) for i in input().split()] for x in range(n)]"
   ]
  },
  {
   "cell_type": "code",
   "execution_count": 15,
   "id": "58cbf5fa-58a2-4009-ae38-e7ec358644ac",
   "metadata": {},
   "outputs": [
    {
     "name": "stdin",
     "output_type": "stream",
     "text": [
      " 3 3 3\n",
      " 4 4 4\n",
      " 5 5 100\n"
     ]
    }
   ],
   "source": [
    "m2 = [[int(i) for i in input().split()] for x in range(n)]"
   ]
  },
  {
   "cell_type": "code",
   "execution_count": 16,
   "id": "1d5bfb0a-e11a-4b35-96d4-c49e45d48d66",
   "metadata": {},
   "outputs": [],
   "source": [
    "for i in range(n):\n",
    "    for j in range(m):\n",
    "        m1[i][j] += m2[i][j]"
   ]
  },
  {
   "cell_type": "code",
   "execution_count": 17,
   "id": "b225b813-76c2-4e74-ba82-2bef4d942f19",
   "metadata": {},
   "outputs": [
    {
     "name": "stdout",
     "output_type": "stream",
     "text": [
      "4 4 4 \n",
      "6 6 6 \n",
      "5 6 100 \n"
     ]
    }
   ],
   "source": [
    "for i in range(m):\n",
    "    for j in range(n):\n",
    "        print(m1[i][j], end = (\" \"))\n",
    "    print()"
   ]
  },
  {
   "cell_type": "code",
   "execution_count": null,
   "id": "b8ecf159-9051-4ff2-b881-6e6da7b1e0d7",
   "metadata": {},
   "outputs": [],
   "source": []
  }
 ],
 "metadata": {
  "kernelspec": {
   "display_name": "Python 3 (ipykernel)",
   "language": "python",
   "name": "python3"
  },
  "language_info": {
   "codemirror_mode": {
    "name": "ipython",
    "version": 3
   },
   "file_extension": ".py",
   "mimetype": "text/x-python",
   "name": "python",
   "nbconvert_exporter": "python",
   "pygments_lexer": "ipython3",
   "version": "3.9.13"
  }
 },
 "nbformat": 4,
 "nbformat_minor": 5
}
