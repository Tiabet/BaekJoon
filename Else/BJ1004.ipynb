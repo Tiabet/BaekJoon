{
 "cells": [
  {
   "cell_type": "code",
   "execution_count": 26,
   "id": "d06c5ccd-0c34-4ab5-9da7-6aa4ccaaccd7",
   "metadata": {},
   "outputs": [
    {
     "name": "stdin",
     "output_type": "stream",
     "text": [
      " 2\n",
      " -5 1 5 1\n",
      " 1\n",
      " 0 0 2\n"
     ]
    },
    {
     "name": "stdout",
     "output_type": "stream",
     "text": [
      "0\n",
      "0\n"
     ]
    },
    {
     "name": "stdin",
     "output_type": "stream",
     "text": [
      " -5 1 5 1\n",
      " 1\n",
      " 0 0 2\n"
     ]
    },
    {
     "name": "stdout",
     "output_type": "stream",
     "text": [
      "0\n",
      "0\n"
     ]
    }
   ],
   "source": [
    "import math\n",
    "\n",
    "t = int(input())\n",
    "for _ in range(t):\n",
    "    planet = 0\n",
    "    x1,y1,x2,y2 = map(int,input().split())\n",
    "    n = int(input())\n",
    "    lst = []\n",
    "    for i in range(n):\n",
    "        cx,cy,r = map(int, input().split())\n",
    "        dist1 = ((cx-x1)**2+(cy-y1)**2)**0.5\n",
    "        dist2 = ((cx-x2)**2+(cy-y2)**2)**0.5\n",
    "        if dist1<r:\n",
    "            planet+=1\n",
    "        if dist2<r:\n",
    "            planet+=1\n",
    "        if dist1<r and dist2<r :\n",
    "            planet-=2\n",
    "    print(planet)\n",
    "    "
   ]
  },
  {
   "cell_type": "code",
   "execution_count": 15,
   "id": "ba72d3d8-4e94-4a2e-aa54-683fcdabe915",
   "metadata": {},
   "outputs": [],
   "source": []
  },
  {
   "cell_type": "code",
   "execution_count": 21,
   "id": "cc2a7350-a4f4-4fbf-a20b-9d2fb09d82bf",
   "metadata": {},
   "outputs": [
    {
     "ename": "NameError",
     "evalue": "name 'sqrt' is not defined",
     "output_type": "error",
     "traceback": [
      "\u001b[1;31m---------------------------------------------------------------------------\u001b[0m",
      "\u001b[1;31mNameError\u001b[0m                                 Traceback (most recent call last)",
      "\u001b[1;32m~\\AppData\\Local\\Temp\\ipykernel_8052\\558792157.py\u001b[0m in \u001b[0;36m<module>\u001b[1;34m\u001b[0m\n\u001b[0;32m      1\u001b[0m \u001b[1;32mimport\u001b[0m \u001b[0mmath\u001b[0m\u001b[1;33m\u001b[0m\u001b[1;33m\u001b[0m\u001b[0m\n\u001b[1;32m----> 2\u001b[1;33m \u001b[0msqrt\u001b[0m\u001b[1;33m(\u001b[0m\u001b[1;36m16\u001b[0m\u001b[1;33m)\u001b[0m\u001b[1;33m\u001b[0m\u001b[1;33m\u001b[0m\u001b[0m\n\u001b[0m",
      "\u001b[1;31mNameError\u001b[0m: name 'sqrt' is not defined"
     ]
    }
   ],
   "source": []
  }
 ],
 "metadata": {
  "kernelspec": {
   "display_name": "Python 3 (ipykernel)",
   "language": "python",
   "name": "python3"
  },
  "language_info": {
   "codemirror_mode": {
    "name": "ipython",
    "version": 3
   },
   "file_extension": ".py",
   "mimetype": "text/x-python",
   "name": "python",
   "nbconvert_exporter": "python",
   "pygments_lexer": "ipython3",
   "version": "3.9.13"
  }
 },
 "nbformat": 4,
 "nbformat_minor": 5
}
