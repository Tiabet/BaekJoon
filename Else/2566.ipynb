{
 "cells": [
  {
   "cell_type": "code",
   "execution_count": 1,
   "id": "7282f5ac-b656-40e5-ad37-f7466030ecb9",
   "metadata": {},
   "outputs": [
    {
     "name": "stdin",
     "output_type": "stream",
     "text": [
      " 3 23 85 34 17 74 25 52 65\n",
      " 10 7 39 42 88 52 14 72 63\n",
      " 87 42 18 78 53 45 18 84 53\n",
      " 34 28 64 85 12 16 75 36 55\n",
      " 21 77 45 35 28 75 90 76 1\n",
      " 25 87 65 15 28 11 37 28 74\n",
      " 65 27 75 41 7 89 78 64 39\n",
      " 47 47 70 45 23 65 3 41 44\n",
      " 87 13 82 38 31 12 29 29 80\n"
     ]
    }
   ],
   "source": [
    "m99 = [[int(i) for i in input().split()] for x in range(9)]"
   ]
  },
  {
   "cell_type": "code",
   "execution_count": 2,
   "id": "74f20fef-b780-4733-8ed0-a71b150d9f10",
   "metadata": {},
   "outputs": [],
   "source": [
    "max = -1\n",
    "index = (0,0)\n",
    "for i in range(9):\n",
    "    for j in range(9):\n",
    "        if m99[i][j] > max :\n",
    "            max = m99[i][j]\n",
    "            index = (i,j)"
   ]
  },
  {
   "cell_type": "code",
   "execution_count": 3,
   "id": "c1eb7b7d-6f86-45d7-9f15-3b3822b27d1c",
   "metadata": {},
   "outputs": [
    {
     "data": {
      "text/plain": [
       "90"
      ]
     },
     "execution_count": 3,
     "metadata": {},
     "output_type": "execute_result"
    }
   ],
   "source": [
    "print(max)"
   ]
  },
  {
   "cell_type": "code",
   "execution_count": 7,
   "id": "ed4821d9-fe14-4e45-93d0-a72fc091ce8d",
   "metadata": {},
   "outputs": [
    {
     "name": "stdout",
     "output_type": "stream",
     "text": [
      "4 6\n"
     ]
    }
   ],
   "source": [
    "print(index[0]+1, index[1]+1)"
   ]
  },
  {
   "cell_type": "code",
   "execution_count": 5,
   "id": "ac4a795b-5194-4be4-9555-5745dbbe174b",
   "metadata": {},
   "outputs": [
    {
     "name": "stdout",
     "output_type": "stream",
     "text": [
      "(4, 6)\n"
     ]
    }
   ],
   "source": []
  },
  {
   "cell_type": "code",
   "execution_count": null,
   "id": "5702bd43-5a62-4ff7-a6ce-d535828c93c4",
   "metadata": {},
   "outputs": [],
   "source": []
  }
 ],
 "metadata": {
  "kernelspec": {
   "display_name": "Python 3 (ipykernel)",
   "language": "python",
   "name": "python3"
  },
  "language_info": {
   "codemirror_mode": {
    "name": "ipython",
    "version": 3
   },
   "file_extension": ".py",
   "mimetype": "text/x-python",
   "name": "python",
   "nbconvert_exporter": "python",
   "pygments_lexer": "ipython3",
   "version": "3.9.13"
  }
 },
 "nbformat": 4,
 "nbformat_minor": 5
}
