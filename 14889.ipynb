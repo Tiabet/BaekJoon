{
 "cells": [
  {
   "cell_type": "code",
   "execution_count": 91,
   "id": "aa4247e5-c51e-4f79-9689-5feb832e223e",
   "metadata": {},
   "outputs": [
    {
     "name": "stdin",
     "output_type": "stream",
     "text": [
      " 6\n"
     ]
    }
   ],
   "source": [
    "n = int(input())"
   ]
  },
  {
   "cell_type": "code",
   "execution_count": 92,
   "id": "0940f7de-4a8f-49dc-a0be-039170301d51",
   "metadata": {},
   "outputs": [
    {
     "name": "stdin",
     "output_type": "stream",
     "text": [
      " 0 1 2 3 4 5\n",
      " 1 0 2 3 4 5\n",
      " 1 2 0 3 4 5\n",
      " 1 2 3 0 4 5\n",
      " 1 2 3 4 0 5\n",
      " 1 2 3 4 5 0\n"
     ]
    }
   ],
   "source": [
    "graph = []\n",
    "for _ in range(n):\n",
    "    graph.append(list(map(int, input().split())))"
   ]
  },
  {
   "cell_type": "code",
   "execution_count": 93,
   "id": "54f72e8d-511d-4459-bca1-c72f200438bf",
   "metadata": {},
   "outputs": [],
   "source": [
    "for i in range(n):\n",
    "    for j in range(n):\n",
    "        if i>j:\n",
    "            graph[i][j]+=graph[j][i]\n",
    "            graph[j][i] = 0"
   ]
  },
  {
   "cell_type": "code",
   "execution_count": 94,
   "id": "2fd6300a-6269-484b-a97b-c5c563aa8f4e",
   "metadata": {},
   "outputs": [
    {
     "name": "stdout",
     "output_type": "stream",
     "text": [
      "[0, 0, 0, 0, 0, 0]\n",
      "[2, 0, 0, 0, 0, 0]\n",
      "[3, 4, 0, 0, 0, 0]\n",
      "[4, 5, 6, 0, 0, 0]\n",
      "[5, 6, 7, 8, 0, 0]\n",
      "[6, 7, 8, 9, 10, 0]\n"
     ]
    }
   ],
   "source": [
    "for i in range(n):\n",
    "    print(graph[i])"
   ]
  },
  {
   "cell_type": "code",
   "execution_count": 98,
   "id": "2b7a1576-0f50-4ab8-8f3f-744f65794573",
   "metadata": {},
   "outputs": [
    {
     "name": "stdout",
     "output_type": "stream",
     "text": [
      "10 2\n",
      "10 3\n",
      "10 4\n",
      "10 4\n",
      "10 5\n",
      "10 6\n",
      "9 5\n",
      "9 6\n",
      "9 7\n",
      "8 8\n",
      "8 6\n",
      "8 7\n",
      "8 8\n",
      "7 9\n",
      "6 10\n",
      "0\n"
     ]
    }
   ],
   "source": [
    "answer = float('inf')\n",
    "\n",
    "for i in range(n):\n",
    "    for j in range(n):\n",
    "        if graph[i][j]!=0:\n",
    "            co_graph = [row[:] for row in graph]\n",
    "            team_start = graph[i][j]\n",
    "            for k in range(n):\n",
    "                for l in range(n):\n",
    "                    if k == i or l == j or k == j or l == i :\n",
    "                        co_graph[k][l] = 0\n",
    "            team_link = 0\n",
    "            for k in range(n):\n",
    "                for l in range(n):\n",
    "                    if co_graph[k][l] !=0:\n",
    "                        team_link = co_graph[k][l]\n",
    "            \n",
    "            print(team_link,team_start)\n",
    "                        \n",
    "            if abs(team_link - team_start) < answer:\n",
    "                answer = abs(team_link - team_start)\n",
    "print(answer)"
   ]
  },
  {
   "cell_type": "code",
   "execution_count": 99,
   "id": "4ccf3ce2-d92f-42d2-92c1-b85da7af096e",
   "metadata": {},
   "outputs": [
    {
     "data": {
      "text/plain": [
       "[[0, 0, 0, 0, 0, 0],\n",
       " [2, 0, 0, 0, 0, 0],\n",
       " [3, 4, 0, 0, 0, 0],\n",
       " [4, 5, 6, 0, 0, 0],\n",
       " [5, 6, 7, 8, 0, 0],\n",
       " [6, 7, 8, 9, 10, 0]]"
      ]
     },
     "execution_count": 99,
     "metadata": {},
     "output_type": "execute_result"
    }
   ],
   "source": [
    "graph"
   ]
  },
  {
   "cell_type": "code",
   "execution_count": 100,
   "id": "33e892f5-299b-402f-a247-c0d9af46370d",
   "metadata": {},
   "outputs": [],
   "source": [
    "import sys\n",
    "from itertools import combinations"
   ]
  },
  {
   "cell_type": "code",
   "execution_count": 103,
   "id": "e682c96d-4ab9-48d5-a20f-a0b582bfa10c",
   "metadata": {},
   "outputs": [
    {
     "name": "stdin",
     "output_type": "stream",
     "text": [
      " 6\n",
      " 0 1 2 3 4 5\n",
      " 1 0 2 3 4 5\n",
      " 1 2 0 3 4 5\n",
      " 1 2 3 0 4 5\n",
      " 1 2 3 4 0 5\n",
      " 1 2 3 4 5 0\n"
     ]
    }
   ],
   "source": [
    "N = int(input())\n",
    "stat = [list(map(int, input().split())) for _ in range(N)]"
   ]
  },
  {
   "cell_type": "code",
   "execution_count": 105,
   "id": "c4d9aab2-00a2-4a36-8d76-376c043984b8",
   "metadata": {},
   "outputs": [],
   "source": [
    "sum_stat = [sum(i) + sum(j) for i, j in zip(stat, zip(*stat))] # 대각선끼리 합"
   ]
  },
  {
   "cell_type": "code",
   "execution_count": 107,
   "id": "3cacaa15-ee2c-41a0-a8ee-402de713e247",
   "metadata": {},
   "outputs": [
    {
     "data": {
      "text/plain": [
       "[20, 24, 28, 32, 36, 40]"
      ]
     },
     "execution_count": 107,
     "metadata": {},
     "output_type": "execute_result"
    }
   ],
   "source": [
    "sum_stat"
   ]
  },
  {
   "cell_type": "code",
   "execution_count": 111,
   "id": "b23afe89-63d8-40c5-8367-499c36a416bc",
   "metadata": {},
   "outputs": [
    {
     "name": "stdout",
     "output_type": "stream",
     "text": [
      "[0, 1, 2, 3, 4, 5] (0, 1, 1, 1, 1, 1)\n",
      "[1, 0, 2, 3, 4, 5] (1, 0, 2, 2, 2, 2)\n",
      "[1, 2, 0, 3, 4, 5] (2, 2, 0, 3, 3, 3)\n",
      "[1, 2, 3, 0, 4, 5] (3, 3, 3, 0, 4, 4)\n",
      "[1, 2, 3, 4, 0, 5] (4, 4, 4, 4, 0, 5)\n",
      "[1, 2, 3, 4, 5, 0] (5, 5, 5, 5, 5, 0)\n"
     ]
    }
   ],
   "source": [
    "for i,j in zip(stat, zip(*stat)) :\n",
    "    print(i,j)"
   ]
  },
  {
   "cell_type": "markdown",
   "id": "0fdad040-fc87-4f0b-8e26-c0033b4d56c0",
   "metadata": {},
   "source": [
    "백트래킹으로"
   ]
  },
  {
   "cell_type": "code",
   "execution_count": 119,
   "id": "ef50d3ee-c6df-41b6-bd06-c807fd64c40d",
   "metadata": {},
   "outputs": [],
   "source": [
    "def dfs(a,n):\n",
    "    global result\n",
    "    if a == N//2 :\n",
    "        start, link = 0,0\n",
    "        for i in range(N):\n",
    "            for j in range(N):\n",
    "                if visited[i] and visited[j]:\n",
    "                    start+=stat[i][j]\n",
    "                elif not visited[i] and not visited[j]:\n",
    "                    link += stat[i][j]\n",
    "        result = min(result, abs(start - link))\n",
    "        return\n",
    "    else :\n",
    "        for x in range(n,N):\n",
    "            if visited[x] == False :\n",
    "                visited[x] = True\n",
    "                print(f'dfs working {a} {n}')\n",
    "                dfs(a+1,n+1)\n",
    "                visited[x] = False\n",
    "        \n",
    "    \n",
    "    \n",
    "visited = [0]*N        \n",
    "result = float('inf')"
   ]
  },
  {
   "cell_type": "code",
   "execution_count": 121,
   "id": "5394f98c-3913-4517-b063-709426b6472c",
   "metadata": {},
   "outputs": [],
   "source": [
    "dfs(0,0)"
   ]
  },
  {
   "cell_type": "code",
   "execution_count": 122,
   "id": "1a2696ae-81aa-46b0-abe8-dc6b2df2ec59",
   "metadata": {},
   "outputs": [
    {
     "data": {
      "text/plain": [
       "2"
      ]
     },
     "execution_count": 122,
     "metadata": {},
     "output_type": "execute_result"
    }
   ],
   "source": [
    "result"
   ]
  },
  {
   "cell_type": "code",
   "execution_count": 7,
   "id": "930e601d-fbf9-48f4-a082-54314111d214",
   "metadata": {},
   "outputs": [],
   "source": [
    "graph = [0]*3"
   ]
  },
  {
   "cell_type": "code",
   "execution_count": 8,
   "id": "548b7153-aa6c-4f3d-9e8b-450182ab1189",
   "metadata": {},
   "outputs": [
    {
     "data": {
      "text/plain": [
       "[0, 0, 0]"
      ]
     },
     "execution_count": 8,
     "metadata": {},
     "output_type": "execute_result"
    }
   ],
   "source": [
    "graph"
   ]
  },
  {
   "cell_type": "code",
   "execution_count": null,
   "id": "bbb45781-3308-4eee-8601-e130ce0443fa",
   "metadata": {},
   "outputs": [],
   "source": []
  }
 ],
 "metadata": {
  "kernelspec": {
   "display_name": "Python 3 (ipykernel)",
   "language": "python",
   "name": "python3"
  },
  "language_info": {
   "codemirror_mode": {
    "name": "ipython",
    "version": 3
   },
   "file_extension": ".py",
   "mimetype": "text/x-python",
   "name": "python",
   "nbconvert_exporter": "python",
   "pygments_lexer": "ipython3",
   "version": "3.9.13"
  }
 },
 "nbformat": 4,
 "nbformat_minor": 5
}
