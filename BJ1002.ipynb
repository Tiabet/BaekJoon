{
 "cells": [
  {
   "cell_type": "markdown",
   "id": "5f9d94e4",
   "metadata": {},
   "source": [
    "# 백준 1002번"
   ]
  },
  {
   "cell_type": "code",
   "execution_count": 2,
   "id": "2ef297ea",
   "metadata": {},
   "outputs": [
    {
     "name": "stdout",
     "output_type": "stream",
     "text": [
      "2\n"
     ]
    }
   ],
   "source": [
    "n = int(input())"
   ]
  },
  {
   "cell_type": "markdown",
   "id": "df570814",
   "metadata": {},
   "source": [
    "파이썬은 이런 식으로 input()을 사용해 값을 입력받을 수 있을 것 같다."
   ]
  },
  {
   "cell_type": "code",
   "execution_count": 4,
   "id": "98c63c6e",
   "metadata": {},
   "outputs": [
    {
     "name": "stdout",
     "output_type": "stream",
     "text": [
      "1 2 3 4 5 6\n"
     ]
    }
   ],
   "source": [
    "x1, y1, r1, x2, y2, r2 = map(int, input().split())"
   ]
  },
  {
   "cell_type": "markdown",
   "id": "49a48ad0",
   "metadata": {},
   "source": [
    " input 에다가 split()을 사용하면 공백을 기준으로 입력값들을 나눈 뒤 반환해줄 수 있다.\n",
    " 파이썬의 편리한 점 중 하나인 듯."
   ]
  },
  {
   "cell_type": "markdown",
   "id": "15ea4ebd",
   "metadata": {},
   "source": [
    "# 본격적인 문제풀이"
   ]
  },
  {
   "cell_type": "code",
   "execution_count": null,
   "id": "69d723f8",
   "metadata": {},
   "outputs": [
    {
     "name": "stdout",
     "output_type": "stream",
     "text": [
      "3\n",
      "0 0 13 40 0 37\n",
      "2\n"
     ]
    }
   ],
   "source": [
    "import math\n",
    "\n",
    "n = int(input())\n",
    "\n",
    "for i in range(n) :\n",
    "    x1, y1, r1, x2, y2, r2 = map(int, input().split())\n",
    "    distance = math.sqrt((x1-x2)**2+(y1-y2)**2)\n",
    "    if distance == 0 and r1 == r2 :\n",
    "        print(-1)\n",
    "    elif abs(r1-r2) == distance or (r1+r2) == distance:\n",
    "        print(1)\n",
    "    elif (r1+r2)>distance and abs(r1-r2)<distance: #or 로 하면 오류발생\n",
    "        print(2)\n",
    "    else :\n",
    "        print(0)"
   ]
  },
  {
   "cell_type": "markdown",
   "id": "519c5ab7",
   "metadata": {},
   "source": [
    "원의 내접, 외접 조건을 이용해서 수식을 써주면 쉽게 풀 수 있다."
   ]
  },
  {
   "cell_type": "code",
   "execution_count": null,
   "id": "569f815f",
   "metadata": {},
   "outputs": [],
   "source": []
  }
 ],
 "metadata": {
  "kernelspec": {
   "display_name": "Python 3 (ipykernel)",
   "language": "python",
   "name": "python3"
  },
  "language_info": {
   "codemirror_mode": {
    "name": "ipython",
    "version": 3
   },
   "file_extension": ".py",
   "mimetype": "text/x-python",
   "name": "python",
   "nbconvert_exporter": "python",
   "pygments_lexer": "ipython3",
   "version": "3.9.13"
  }
 },
 "nbformat": 4,
 "nbformat_minor": 5
}
