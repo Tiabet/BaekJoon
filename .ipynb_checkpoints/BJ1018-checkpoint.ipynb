{
 "cells": [
  {
   "cell_type": "code",
   "execution_count": 8,
   "id": "2cd34e46",
   "metadata": {},
   "outputs": [
    {
     "name": "stdout",
     "output_type": "stream",
     "text": [
      "9 23\n",
      "BBBBBBBBBBBBBBBBBBBBBBB\n",
      "BBBBBBBBBBBBBBBBBBBBBBB\n",
      "BBBBBBBBBBBBBBBBBBBBBBB\n",
      "BBBBBBBBBBBBBBBBBBBBBBB\n",
      "BBBBBBBBBBBBBBBBBBBBBBB\n",
      "BBBBBBBBBBBBBBBBBBBBBBB\n",
      "BBBBBBBBBBBBBBBBBBBBBBB\n",
      "BBBBBBBBBBBBBBBBBBBBBBB\n",
      "BBBBBBBBBBBBBBBBBBBBBBW\n",
      "31\n"
     ]
    }
   ],
   "source": [
    "n, m = map(int, input().split())\n",
    "\n",
    "board = []\n",
    "bw = []\n",
    "\n",
    "for _ in range(n):\n",
    "    board.append(input())\n",
    "    \n",
    "for i in range(n-7):\n",
    "    for j in range(m-7): # 8x8로 잘라야 하기 때문에\n",
    "        w_index = 0;\n",
    "        b_index = 0;\n",
    "        for a in range(i,i+8):\n",
    "            for b in range(j,j+8):\n",
    "                if(a+b)%2==0:\n",
    "                    if board[a][b]!='W':\n",
    "                        w_index+=1\n",
    "                    else:\n",
    "                        b_index+=1\n",
    "                else:\n",
    "                    if board[a][b]!='W':\n",
    "                        b_index+=1\n",
    "                    else:\n",
    "                        w_index+=1\n",
    "        bw.append(w_index)\n",
    "        bw.append(b_index)\n",
    "\n",
    "print(min(bw))"
   ]
  },
  {
   "cell_type": "markdown",
   "id": "9efda78a",
   "metadata": {},
   "source": [
    "문제의 핵심은 체스판을 8x8 사이즈로 자른다는 것이다.\n",
    "흰색으로 칠해야 하는 횟수를 w_index, 검은색으로 칠해야 하는 횟수를 b_index라고 하자.\n",
    "하지만 실제로 칠하는 횟수는 아니다. 왜냐하면 우리의 목표는 BWBW 처럼 흰색과 검은색이 교차되는 것이기 때문이다.\n",
    "본 알고리즘은 w_index와 b_index 둘 중 하나는 무조건 더하면서 마지막에 둘 중 작은값을 반환하기 때문이다.\n",
    "따라서 이를 혼동하지 말아야 할 것이다.\n",
    "\n",
    "본격적으로 알고리즘을 살펴보면, 8x8로 체스판을 자른뒤 a, b를 통해 8x8 에 있는 칸의 색 하나하나를 다 살펴본다.\n",
    "이 때 i, j는 board의 시작점이다. (체스판은 8x8, board는 입력받음)\n",
    "BWBW처럼 색이 교차되어야 한다는 의미는, (a+b)의 합이 홀수인 칸끼리, 짝수인 칸끼리는 색이 같아야한다는 것이다.\n",
    "그래서 합이 짝수인 칸과 홀수인 칸을 나눠서 살펴본다.\n",
    "\n",
    "예시로 위의 결과를 보자.\n",
    "첫 칸을 (1,1)로 잡고 이 칸에 검은색이 있다면, 무작정 흰색을 칠하고 본다. (w_index+=1)\n",
    "그 다음엔 무조건 합이 홀수인 칸이 나올텐데, 이때는 검은색이 나오면 가만히 냅둔다. (b_index+=1)\n",
    "그리고 만약 이 다음칸에 또 검은색이 나온다면, 다시 흰색을 칠해야 한다. \n",
    "마지막 줄의 맨 마지막 칸의 W를 제외하면 모두 B, 검은색이므로, 이는 끝나기 직전까지 무한반복된다.\n",
    "즉 w_index, b_inedx 모두 32로 끝날 것이다. (총 칸이 64이므로)\n",
    "\n",
    "마지막에 W가 나온 상황을 살펴보자.\n",
    "첫 칸이 (1,15) 이므로 마지막칸 (9, 23)도 짝수일 것임을 예측할 수 있다.\n",
    "이때는 w_index가 아닌 b_index가 더해질 것이므로 31, 33이 bw에 들어있을 것이다.\n",
    "\n",
    "BWBWBWBWBW 처럼 이미 정렬이 된 배열이 들어올 경우엔,\n",
    "w_index 혹은 b_index에 값이 몰아서 들어갈 것이기 때문에, 0을 출력할 수 있게 된다."
   ]
  },
  {
   "cell_type": "code",
   "execution_count": null,
   "id": "1e4de009",
   "metadata": {},
   "outputs": [],
   "source": []
  }
 ],
 "metadata": {
  "kernelspec": {
   "display_name": "Python 3 (ipykernel)",
   "language": "python",
   "name": "python3"
  },
  "language_info": {
   "codemirror_mode": {
    "name": "ipython",
    "version": 3
   },
   "file_extension": ".py",
   "mimetype": "text/x-python",
   "name": "python",
   "nbconvert_exporter": "python",
   "pygments_lexer": "ipython3",
   "version": "3.9.13"
  }
 },
 "nbformat": 4,
 "nbformat_minor": 5
}
