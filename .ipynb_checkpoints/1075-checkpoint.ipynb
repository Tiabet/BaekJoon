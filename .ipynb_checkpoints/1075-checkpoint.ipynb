{
 "cells": [
  {
   "cell_type": "code",
   "execution_count": 17,
   "id": "93af8135-47c5-43ba-b1f5-a8ed966a98b1",
   "metadata": {},
   "outputs": [
    {
     "name": "stdin",
     "output_type": "stream",
     "text": [
      " 1000\n",
      " 3\n"
     ]
    }
   ],
   "source": [
    "n = input()\n",
    "num = int(n[:-2])*100\n",
    "div = int(input())"
   ]
  },
  {
   "cell_type": "code",
   "execution_count": 18,
   "id": "e852f5dd-80cd-490d-b36a-88186f07433f",
   "metadata": {},
   "outputs": [],
   "source": [
    "result = 0\n",
    "for i in range(100):\n",
    "    if num%div == 0 :\n",
    "        result = num\n",
    "    else :\n",
    "        num+=1"
   ]
  },
  {
   "cell_type": "code",
   "execution_count": 22,
   "id": "cae1e668-e16a-42d7-89fa-7e03c153e2f3",
   "metadata": {},
   "outputs": [
    {
     "name": "stdout",
     "output_type": "stream",
     "text": [
      "02\n"
     ]
    }
   ],
   "source": [
    "result = str(result)\n",
    "print(result[-2:])"
   ]
  },
  {
   "cell_type": "code",
   "execution_count": null,
   "id": "39a674ad-a188-4e57-ae26-3de6a89559b6",
   "metadata": {},
   "outputs": [],
   "source": []
  }
 ],
 "metadata": {
  "kernelspec": {
   "display_name": "Python 3 (ipykernel)",
   "language": "python",
   "name": "python3"
  },
  "language_info": {
   "codemirror_mode": {
    "name": "ipython",
    "version": 3
   },
   "file_extension": ".py",
   "mimetype": "text/x-python",
   "name": "python",
   "nbconvert_exporter": "python",
   "pygments_lexer": "ipython3",
   "version": "3.9.13"
  }
 },
 "nbformat": 4,
 "nbformat_minor": 5
}
