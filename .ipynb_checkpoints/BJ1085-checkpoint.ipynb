{
 "cells": [
  {
   "cell_type": "markdown",
   "id": "45a186cc",
   "metadata": {},
   "source": [
    "직사각형의 변까지의 최단거리를 구하는 문제이다."
   ]
  },
  {
   "cell_type": "code",
   "execution_count": 7,
   "id": "f5e9d7e8",
   "metadata": {},
   "outputs": [
    {
     "name": "stdout",
     "output_type": "stream",
     "text": [
      "6 2 10 3\n",
      "1\n"
     ]
    }
   ],
   "source": [
    "x, y, w, h = map(int,input().split())\n",
    "\n",
    "garo = w - x\n",
    "sero = h - y\n",
    "\n",
    "print(min(x,y,garo,sero))"
   ]
  },
  {
   "cell_type": "markdown",
   "id": "1eedfd5e",
   "metadata": {},
   "source": [
    "파이썬의 min 기능을 통해 어렵지 않게 맞출 수 있었다."
   ]
  },
  {
   "cell_type": "code",
   "execution_count": null,
   "id": "4cb50497",
   "metadata": {},
   "outputs": [],
   "source": []
  }
 ],
 "metadata": {
  "kernelspec": {
   "display_name": "Python 3 (ipykernel)",
   "language": "python",
   "name": "python3"
  },
  "language_info": {
   "codemirror_mode": {
    "name": "ipython",
    "version": 3
   },
   "file_extension": ".py",
   "mimetype": "text/x-python",
   "name": "python",
   "nbconvert_exporter": "python",
   "pygments_lexer": "ipython3",
   "version": "3.9.13"
  }
 },
 "nbformat": 4,
 "nbformat_minor": 5
}
