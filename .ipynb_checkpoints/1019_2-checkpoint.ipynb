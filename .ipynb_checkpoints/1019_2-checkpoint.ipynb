{
 "cells": [
  {
   "cell_type": "code",
   "execution_count": 11,
   "id": "004af242-d565-46c7-8b4f-55ccbb60d977",
   "metadata": {},
   "outputs": [
    {
     "name": "stdin",
     "output_type": "stream",
     "text": [
      " 7\n"
     ]
    }
   ],
   "source": [
    "n = int(input())"
   ]
  },
  {
   "cell_type": "code",
   "execution_count": 12,
   "id": "b04882f9-2909-42ef-bb1c-9f06c30174ef",
   "metadata": {},
   "outputs": [],
   "source": [
    "dic = {'0' : 0, '1' : 0, '2' : 0, '3':0, '4':0, '5':0, '6':0, '7':0, '8':0, '9':0}"
   ]
  },
  {
   "cell_type": "code",
   "execution_count": 13,
   "id": "d3b03d02-7f70-4423-876b-b008ce288ed8",
   "metadata": {},
   "outputs": [],
   "source": [
    "num_len = len(str(n))"
   ]
  },
  {
   "cell_type": "code",
   "execution_count": 14,
   "id": "d3d40ef4-0c89-4604-84c1-929cf0ef34f6",
   "metadata": {},
   "outputs": [],
   "source": [
    "num_last = str(n)[-1]"
   ]
  },
  {
   "cell_type": "code",
   "execution_count": 15,
   "id": "746d701d-e6b2-4aa3-a18e-2692cdb477a7",
   "metadata": {},
   "outputs": [],
   "source": [
    "num_first = str(n)[0]"
   ]
  },
  {
   "cell_type": "code",
   "execution_count": 16,
   "id": "79a00348-706d-4dba-bc58-89d32ad66f2e",
   "metadata": {},
   "outputs": [],
   "source": [
    "if num_len == 1:\n",
    "    for i in range(1,n+1):\n",
    "        dic[str(i)]+=1\n",
    "        \n",
    "if num_len == 2:\n",
    "    "
   ]
  },
  {
   "cell_type": "code",
   "execution_count": null,
   "id": "b4562a06-94bf-4b2e-8296-434722b2a083",
   "metadata": {},
   "outputs": [],
   "source": []
  }
 ],
 "metadata": {
  "kernelspec": {
   "display_name": "Python 3 (ipykernel)",
   "language": "python",
   "name": "python3"
  },
  "language_info": {
   "codemirror_mode": {
    "name": "ipython",
    "version": 3
   },
   "file_extension": ".py",
   "mimetype": "text/x-python",
   "name": "python",
   "nbconvert_exporter": "python",
   "pygments_lexer": "ipython3",
   "version": "3.9.13"
  }
 },
 "nbformat": 4,
 "nbformat_minor": 5
}
