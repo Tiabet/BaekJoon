{
 "cells": [
  {
   "cell_type": "code",
   "execution_count": null,
   "id": "da076c5a-85e8-44b5-a9e0-2ed7b33ec254",
   "metadata": {},
   "outputs": [
    {
     "name": "stdin",
     "output_type": "stream",
     "text": [
      " B 16 34\n"
     ]
    },
    {
     "name": "stdout",
     "output_type": "stream",
     "text": [
      "B Junior\n"
     ]
    }
   ],
   "source": [
    "while True:\n",
    "    name, age, weight = map(str, input().split())\n",
    "    if name == '#' :\n",
    "        break\n",
    "    age = int(age)\n",
    "    weight = int(weight)\n",
    "    if age > 17 or weight >= 80 :\n",
    "        print(name + ' Senior')\n",
    "    else : \n",
    "        print(name + ' Junior')"
   ]
  },
  {
   "cell_type": "code",
   "execution_count": null,
   "id": "054e64eb-91ff-4f68-be06-b567ab075b8b",
   "metadata": {},
   "outputs": [],
   "source": []
  }
 ],
 "metadata": {
  "kernelspec": {
   "display_name": "Python 3 (ipykernel)",
   "language": "python",
   "name": "python3"
  },
  "language_info": {
   "codemirror_mode": {
    "name": "ipython",
    "version": 3
   },
   "file_extension": ".py",
   "mimetype": "text/x-python",
   "name": "python",
   "nbconvert_exporter": "python",
   "pygments_lexer": "ipython3",
   "version": "3.9.13"
  }
 },
 "nbformat": 4,
 "nbformat_minor": 5
}
