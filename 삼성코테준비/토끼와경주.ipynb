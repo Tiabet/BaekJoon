{
 "cells": [
  {
   "cell_type": "code",
   "execution_count": 1,
   "id": "8a61af90-fcf5-4000-9571-1d33559b6051",
   "metadata": {},
   "outputs": [],
   "source": [
    "rabbits = {}"
   ]
  },
  {
   "cell_type": "code",
   "execution_count": 2,
   "id": "0bd272d2-c43f-4748-953e-82af5a4a5f66",
   "metadata": {},
   "outputs": [],
   "source": [
    "rabbits[1] = 3"
   ]
  },
  {
   "cell_type": "code",
   "execution_count": 7,
   "id": "3d569db6-8346-41d7-bfe3-493cf0053a8a",
   "metadata": {},
   "outputs": [],
   "source": [
    "rabbits[3] = 5"
   ]
  },
  {
   "cell_type": "code",
   "execution_count": 9,
   "id": "5c670e5f-8081-4a62-b62f-e49804fc1eec",
   "metadata": {},
   "outputs": [
    {
     "ename": "TypeError",
     "evalue": "dict.keys() takes no arguments (1 given)",
     "output_type": "error",
     "traceback": [
      "\u001b[1;31m---------------------------------------------------------------------------\u001b[0m",
      "\u001b[1;31mTypeError\u001b[0m                                 Traceback (most recent call last)",
      "\u001b[1;32m~\\AppData\\Local\\Temp\\ipykernel_6224\\4190618229.py\u001b[0m in \u001b[0;36m<module>\u001b[1;34m\u001b[0m\n\u001b[1;32m----> 1\u001b[1;33m \u001b[0mrabbits\u001b[0m\u001b[1;33m.\u001b[0m\u001b[0mkeys\u001b[0m\u001b[1;33m(\u001b[0m\u001b[1;33m[\u001b[0m\u001b[1;36m0\u001b[0m\u001b[1;33m]\u001b[0m\u001b[1;33m)\u001b[0m\u001b[1;33m\u001b[0m\u001b[1;33m\u001b[0m\u001b[0m\n\u001b[0m",
      "\u001b[1;31mTypeError\u001b[0m: dict.keys() takes no arguments (1 given)"
     ]
    }
   ],
   "source": [
    "rabbits.keys()"
   ]
  },
  {
   "cell_type": "code",
   "execution_count": 10,
   "id": "0a7b3808-5347-4ce9-afd9-0225e4ede2a2",
   "metadata": {},
   "outputs": [
    {
     "data": {
      "text/plain": [
       "dict_values([3, 5])"
      ]
     },
     "execution_count": 10,
     "metadata": {},
     "output_type": "execute_result"
    }
   ],
   "source": [
    "rabbits.values()"
   ]
  },
  {
   "cell_type": "code",
   "execution_count": 11,
   "id": "885f32d5-b6fe-460b-9e55-a51f6b504629",
   "metadata": {},
   "outputs": [
    {
     "name": "stdout",
     "output_type": "stream",
     "text": [
      "{1: 3, 3: 5}\n"
     ]
    }
   ],
   "source": [
    "print(rabbits)"
   ]
  },
  {
   "cell_type": "code",
   "execution_count": 12,
   "id": "c8f0e80d-2d8a-4848-be1e-772aa59867b4",
   "metadata": {},
   "outputs": [
    {
     "ename": "KeyError",
     "evalue": "0",
     "output_type": "error",
     "traceback": [
      "\u001b[1;31m---------------------------------------------------------------------------\u001b[0m",
      "\u001b[1;31mKeyError\u001b[0m                                  Traceback (most recent call last)",
      "\u001b[1;32m~\\AppData\\Local\\Temp\\ipykernel_6224\\3427585187.py\u001b[0m in \u001b[0;36m<module>\u001b[1;34m\u001b[0m\n\u001b[1;32m----> 1\u001b[1;33m \u001b[0mrabbits\u001b[0m\u001b[1;33m[\u001b[0m\u001b[1;36m0\u001b[0m\u001b[1;33m]\u001b[0m\u001b[1;33m\u001b[0m\u001b[1;33m\u001b[0m\u001b[0m\n\u001b[0m",
      "\u001b[1;31mKeyError\u001b[0m: 0"
     ]
    }
   ],
   "source": [
    "rabbits[0]"
   ]
  },
  {
   "cell_type": "code",
   "execution_count": 13,
   "id": "1555b9b2-7883-4222-a650-9d9ae5e996ef",
   "metadata": {},
   "outputs": [
    {
     "name": "stdout",
     "output_type": "stream",
     "text": [
      "1\n",
      "3\n"
     ]
    }
   ],
   "source": [
    "for key in rabbits.keys():\n",
    "    print(key)"
   ]
  },
  {
   "cell_type": "code",
   "execution_count": 14,
   "id": "b25b667e-6405-42ef-89c5-521aa3a72c95",
   "metadata": {},
   "outputs": [
    {
     "name": "stdout",
     "output_type": "stream",
     "text": [
      "3\n",
      "5\n"
     ]
    }
   ],
   "source": [
    "for value in rabbits.values():\n",
    "    print(value)"
   ]
  },
  {
   "cell_type": "code",
   "execution_count": null,
   "id": "3ce5d333-b0e5-48ac-ab03-dc3592f4c8d3",
   "metadata": {},
   "outputs": [],
   "source": [
    "Q = int(input())\n",
    "\n",
    "def init(arr):\n",
    "    global N, M\n",
    "\n",
    "    N = arr[1]\n",
    "    M = arr[2]\n",
    "    P = arr[3]\n",
    "\n",
    "    rabbits_id = [0]\n",
    "    rabbits_distance = [0]\n",
    "\n",
    "    graph = [[0 for _ in range(M+1)] for _ in range(N+1)]\n",
    "\n",
    "    #토끼들 dict 형식으로 추가\n",
    "    for i in range(4,len(arr)-1,2):\n",
    "        rabbit_idx, rabbit_dist = arr[i], arr[i+1]\n",
    "        rabbits_id.append(rabbit_idx)\n",
    "        rabbits_distance.append(rabbit_dist)\n",
    "\n",
    "    return graph, rabbits_id, rabbits_distance, P\n",
    "\n",
    "def change_distance(rabbits_id,rabbits_distance,pid_t, L):\n",
    "    target = 0\n",
    "    for i in range(len(rabbits_id)):\n",
    "        if rabbits_id[i] == pid_t :\n",
    "            target = i\n",
    "            break\n",
    "    rabbits_distance[i] *= L\n",
    "\n",
    "    return rabbits_distance\n",
    "\n",
    "def rabbit_to_move(position, rabbits_id,move_count, P):\n",
    "    \n",
    "    rabbit_info = []\n",
    "    for r in range(1,P+1):\n",
    "        rabbit_info.append((move_count[r], position[r][0] + position[r][1], position[r][0], position[r][1], rabbits_id[r],r))\n",
    "    sorted(rabbit_info, key = lambda x : (-x[0],-x[1],-x[2],-x[3],x[4]))\n",
    "\n",
    "    return rabbit_info[0][5]\n",
    "\n",
    "def where_to_rabbit(r):\n",
    "    global position, scores\n",
    "    dxs = [1,-1,0,0]\n",
    "    dys = [0,0,1,-1]\n",
    "\n",
    "    new_position = []\n",
    "\n",
    "    for dx,dy in zip(dxs,dys):\n",
    "        new_x = position[r][0] +dx * rabbits_distance[r]\n",
    "        new_y = position[r][1] + dy * rabbits_distance[r]\n",
    "        if new_x<1 :\n",
    "            back = 1 - new_x\n",
    "            new_x = 1 + back\n",
    "        elif new_x>N:\n",
    "            back = new_x - N\n",
    "            new_x = N - back\n",
    "        \n",
    "        if new_y<1 :\n",
    "            back = 1 - new_y\n",
    "            new_x = 1 + back\n",
    "        elif new_y>M:\n",
    "            back = new_y - M\n",
    "            new_y = M - back\n",
    "\n",
    "        new_position.append((new_x,new_y))\n",
    "\n",
    "    sorted(new_position, key = lambda x : (-x[0]+x[1],x[0],x[1]))\n",
    "    position[r] = new_position[0]\n",
    "    for i in range(1,P+1):\n",
    "        if i != r:\n",
    "            scores[i] = scores[i] + new_position[0][0] + new_position[0][1]\n",
    "\n",
    "\n",
    "for _ in range(Q):\n",
    "    inputs = list(map(int, input().split()))\n",
    "    if inputs[0] == 100 :\n",
    "        graph, rabbits_id, rabbits_distance, P = init(inputs)\n",
    "\n",
    "        move_count = [0 for _ in range(P+1)]\n",
    "        scores = [0 for _ in range(P+1)]\n",
    "        position = [(1,1) for _ in range(P+1)]\n",
    "    \n",
    "    if inputs[0] == 200 :\n",
    "        dxs = [1,-1,0,0]\n",
    "        dys = [0,0,1,-1]\n",
    "\n",
    "        K, S = inputs[1], inputs[2]\n",
    "        is_moved = [0 for _ in range(P+1)]\n",
    "        for _ in range(K):\n",
    "            rabbit = rabbit_to_move(position, rabbits_id,move_count, P)\n",
    "            where_to_rabbit(rabbit)\n",
    "            is_moved[rabbit] = 1\n",
    "\n",
    "        print(scores)\n",
    "\n",
    "\n",
    "    if inputs[0] == 300 :\n",
    "        pid_t, L = inputs[1], inputs[2]\n",
    "        rabbits_distance = change_distance(rabbits_id,rabbits_distance,pid_t, L)\n",
    "\n",
    "\n",
    "    if inputs[0] == 400 :\n",
    "        print(max(scores))"
   ]
  }
 ],
 "metadata": {
  "kernelspec": {
   "display_name": "Python 3 (ipykernel)",
   "language": "python",
   "name": "python3"
  },
  "language_info": {
   "codemirror_mode": {
    "name": "ipython",
    "version": 3
   },
   "file_extension": ".py",
   "mimetype": "text/x-python",
   "name": "python",
   "nbconvert_exporter": "python",
   "pygments_lexer": "ipython3",
   "version": "3.9.13"
  }
 },
 "nbformat": 4,
 "nbformat_minor": 5
}
