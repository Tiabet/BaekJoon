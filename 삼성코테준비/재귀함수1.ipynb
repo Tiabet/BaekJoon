{
 "cells": [
  {
   "cell_type": "code",
   "execution_count": 1,
   "id": "04f7edea-3e01-40cb-b3f9-6fbdf08c3379",
   "metadata": {},
   "outputs": [
    {
     "name": "stdout",
     "output_type": "stream",
     "text": [
      "111\n",
      "112\n",
      "113\n",
      "121\n",
      "122\n",
      "123\n",
      "131\n",
      "132\n",
      "133\n",
      "211\n",
      "212\n",
      "213\n",
      "221\n",
      "222\n",
      "223\n",
      "231\n",
      "232\n",
      "233\n",
      "311\n",
      "312\n",
      "313\n",
      "321\n",
      "322\n",
      "323\n",
      "331\n",
      "332\n"
     ]
    }
   ],
   "source": [
    "def generate_numbers(n, num='', count_3=0):\n",
    "    # Base condition: if the length of the number equals n\n",
    "    if len(num) == n:\n",
    "        print(num)\n",
    "        return\n",
    "    \n",
    "    # Loop through 1 to 3 to add next digit\n",
    "    for next_digit in '123':\n",
    "        if next_digit == '3':\n",
    "            # Limit the use of '3' to at most 2 times\n",
    "            if count_3 < 2:\n",
    "                generate_numbers(n, num + next_digit, count_3 + 1)\n",
    "        else:\n",
    "            generate_numbers(n, num + next_digit, count_3)\n",
    "\n",
    "# Example with n=3 to test the function\n",
    "generate_numbers(3)\n"
   ]
  },
  {
   "cell_type": "markdown",
   "id": "dda1bc06-f874-4bdb-b54a-92768011f404",
   "metadata": {},
   "source": [
    "이 코드는 3이 두번 이하로 포함된 모든 수를 출력하는 코드이다.\n",
    "'3을 두 번 이하' 로 포함해야한다는 조건이 걸려있기 때문에 함수의 파라미터로 3의 개수를 저장할 수 있게 해야한다.\n",
    "또한 integer가 아니라 str로 작업하여 숫자를 이어붙이기 편하게 한다."
   ]
  }
 ],
 "metadata": {
  "kernelspec": {
   "display_name": "Python 3 (ipykernel)",
   "language": "python",
   "name": "python3"
  },
  "language_info": {
   "codemirror_mode": {
    "name": "ipython",
    "version": 3
   },
   "file_extension": ".py",
   "mimetype": "text/x-python",
   "name": "python",
   "nbconvert_exporter": "python",
   "pygments_lexer": "ipython3",
   "version": "3.9.13"
  }
 },
 "nbformat": 4,
 "nbformat_minor": 5
}
