{
 "cells": [
  {
   "cell_type": "code",
   "execution_count": 1,
   "id": "5d6254df-6864-4455-aaac-b36aaa428da2",
   "metadata": {},
   "outputs": [
    {
     "name": "stdout",
     "output_type": "stream",
     "text": [
      "0 1\n",
      "1 4\n",
      "2 7\n"
     ]
    }
   ],
   "source": [
    "arr = [1,4,7]\n",
    "for idx, num in enumerate(arr):\n",
    "    print(idx, num)"
   ]
  },
  {
   "cell_type": "code",
   "execution_count": 2,
   "id": "57a13929-0251-4943-b1a7-9d0222230ac4",
   "metadata": {},
   "outputs": [],
   "source": [
    "people = [[1,2],[2,3],[3,5]]\n",
    "\n",
    "for i in range(len(people)):\n",
    "    people[i].append(0)"
   ]
  },
  {
   "cell_type": "code",
   "execution_count": 3,
   "id": "68ea5261-ed66-4084-a63b-74b9ede8f310",
   "metadata": {},
   "outputs": [
    {
     "data": {
      "text/plain": [
       "[[1, 2, 0], [2, 3, 0], [3, 5, 0]]"
      ]
     },
     "execution_count": 3,
     "metadata": {},
     "output_type": "execute_result"
    }
   ],
   "source": [
    "people"
   ]
  },
  {
   "cell_type": "code",
   "execution_count": 4,
   "id": "8b8529fd-78a8-49ff-b70f-94263ccfb37f",
   "metadata": {},
   "outputs": [],
   "source": [
    "graph = [[1,2,3],[4,5,6],[7,8,9]]"
   ]
  },
  {
   "cell_type": "code",
   "execution_count": 13,
   "id": "ccfe559f-5e09-4814-a5bd-091fc0580698",
   "metadata": {},
   "outputs": [
    {
     "data": {
      "text/plain": [
       "[[4, 5, 6], [7, 8, 9]]"
      ]
     },
     "execution_count": 13,
     "metadata": {},
     "output_type": "execute_result"
    }
   ],
   "source": [
    "graph[1:3]"
   ]
  },
  {
   "cell_type": "code",
   "execution_count": 16,
   "id": "a486016f-6c31-4de3-91a8-364ec18839c2",
   "metadata": {},
   "outputs": [
    {
     "data": {
      "text/plain": [
       "[[1, 2, 3], [4, 5, 6], [7, 8, 9]]"
      ]
     },
     "execution_count": 16,
     "metadata": {},
     "output_type": "execute_result"
    }
   ],
   "source": [
    "graph[0:3]"
   ]
  },
  {
   "cell_type": "code",
   "execution_count": 17,
   "id": "65657e6d-d864-4360-acfd-b956fb6cc929",
   "metadata": {},
   "outputs": [],
   "source": [
    "x=3"
   ]
  },
  {
   "cell_type": "code",
   "execution_count": 18,
   "id": "4af9cd29-4a05-482a-ba0e-1abde70b9b2a",
   "metadata": {},
   "outputs": [],
   "source": [
    "y=x"
   ]
  },
  {
   "cell_type": "code",
   "execution_count": 19,
   "id": "17ed7484-2ac1-4b8d-b4de-8131c260c19e",
   "metadata": {},
   "outputs": [],
   "source": [
    "y+=3"
   ]
  },
  {
   "cell_type": "code",
   "execution_count": 20,
   "id": "a1ed5a1c-8639-45d6-995d-2017ff1dce2d",
   "metadata": {},
   "outputs": [
    {
     "data": {
      "text/plain": [
       "3"
      ]
     },
     "execution_count": 20,
     "metadata": {},
     "output_type": "execute_result"
    }
   ],
   "source": [
    "x"
   ]
  },
  {
   "cell_type": "code",
   "execution_count": 21,
   "id": "155f1204-a8ff-4c15-a5dc-1ca1645600d2",
   "metadata": {},
   "outputs": [
    {
     "data": {
      "text/plain": [
       "6"
      ]
     },
     "execution_count": 21,
     "metadata": {},
     "output_type": "execute_result"
    }
   ],
   "source": [
    "y"
   ]
  },
  {
   "cell_type": "code",
   "execution_count": 22,
   "id": "d9959844-b771-4cc8-8876-3710cc8bc880",
   "metadata": {},
   "outputs": [
    {
     "data": {
      "text/plain": [
       "[[1, 2, 3], [4, 5, 6], [7, 8, 9]]"
      ]
     },
     "execution_count": 22,
     "metadata": {},
     "output_type": "execute_result"
    }
   ],
   "source": [
    "graph"
   ]
  },
  {
   "cell_type": "code",
   "execution_count": 24,
   "id": "984e91ac-4588-43ba-acc5-bc7c037d7aaf",
   "metadata": {},
   "outputs": [
    {
     "ename": "TypeError",
     "evalue": "'list' object cannot be interpreted as an integer",
     "output_type": "error",
     "traceback": [
      "\u001b[1;31m---------------------------------------------------------------------------\u001b[0m",
      "\u001b[1;31mTypeError\u001b[0m                                 Traceback (most recent call last)",
      "\u001b[1;32m~\\AppData\\Local\\Temp\\ipykernel_12692\\25114772.py\u001b[0m in \u001b[0;36m<module>\u001b[1;34m\u001b[0m\n\u001b[1;32m----> 1\u001b[1;33m \u001b[0mgraph\u001b[0m\u001b[1;33m.\u001b[0m\u001b[0mpop\u001b[0m\u001b[1;33m(\u001b[0m\u001b[1;33m[\u001b[0m\u001b[1;36m7\u001b[0m\u001b[1;33m,\u001b[0m\u001b[1;36m8\u001b[0m\u001b[1;33m,\u001b[0m\u001b[1;36m9\u001b[0m\u001b[1;33m]\u001b[0m\u001b[1;33m)\u001b[0m\u001b[1;33m\u001b[0m\u001b[1;33m\u001b[0m\u001b[0m\n\u001b[0m",
      "\u001b[1;31mTypeError\u001b[0m: 'list' object cannot be interpreted as an integer"
     ]
    }
   ],
   "source": [
    "graph.pop([7,8,9])"
   ]
  },
  {
   "cell_type": "code",
   "execution_count": null,
   "id": "38a7ccd2-e415-400f-ad32-2a340e78c09a",
   "metadata": {},
   "outputs": [],
   "source": [
    "n, m, k = tuple(map(int, input().split()))\n",
    "# 모든 벽들의 상태를 기록해줍니다.\n",
    "board = [\n",
    "    [0] * (n + 1)\n",
    "    for _ in range(n + 1)\n",
    "]\n",
    "\n",
    "for i in range(1, n + 1):\n",
    "    board[i] = [0] + list(map(int, input().split()))\n",
    "\n",
    "# 회전의 구현을 편하게 하기 위해 2차원 배열을 하나 더 정의해줍니다.\n",
    "next_board = [\n",
    "    [0] * (n + 1)\n",
    "    for _ in range(n + 1)\n",
    "]\n",
    "\n",
    "# 참가자의 위치 정보를 기록해줍니다.\n",
    "traveler = [(-1, -1)] + [\n",
    "    tuple(map(int, input().split()))\n",
    "    for _ in range(m)\n",
    "]\n",
    "\n",
    "# 출구의 위치 정보를 기록해줍니다.\n",
    "exits = tuple(map(int, input().split()))\n",
    "\n",
    "# 정답(모든 참가자들의 이동 거리 합)을 기록해줍니다.\n",
    "ans = 0\n",
    "\n",
    "# 회전해야 하는 최소 정사각형을 찾아 기록해줍니다.\n",
    "sx, sy, square_size = 0, 0, 0\n",
    "\n",
    "\n",
    "# 모든 참가자를 이동시킵니다.\n",
    "def move_all_traveler():\n",
    "    global exits, ans\n",
    "\n",
    "    # m명의 모든 참가자들에 대해 이동을 진행합니다.\n",
    "    for i in range(1, m + 1):\n",
    "        # 이미 출구에 있는 경우 스킵합니다.\n",
    "        if traveler[i] == exits:\n",
    "            continue\n",
    "        \n",
    "        tx, ty = traveler[i]\n",
    "        ex, ey = exits\n",
    "\n",
    "        # 행이 다른 경우 행을 이동시켜봅니다.\n",
    "        if tx != ex:\n",
    "            nx, ny = tx, ty\n",
    "\n",
    "            if ex > nx: \n",
    "                nx += 1\n",
    "            else:\n",
    "                nx -= 1\n",
    "\n",
    "            # 벽이 없다면 행을 이동시킬 수 있습니다.\n",
    "            # 이 경우 행을 이동시키고 바로 다음 참가자로 넘어갑니다.\n",
    "            if not board[nx][ny]:\n",
    "                traveler[i] = (nx, ny)\n",
    "                ans += 1\n",
    "                continue\n",
    "\n",
    "        # 열이 다른 경우 열을 이동시켜봅니다.\n",
    "        if ty != ey:\n",
    "            nx, ny = tx, ty\n",
    "\n",
    "            if ey > ny: \n",
    "                ny += 1\n",
    "            else:\n",
    "                ny -= 1\n",
    "\n",
    "            # 벽이 없다면 행을 이동시킬 수 있습니다.\n",
    "            # 이 경우 열을 이동시킵니다.\n",
    "            if not board[nx][ny]:\n",
    "                traveler[i] = (nx, ny)\n",
    "                ans += 1\n",
    "                continue\n",
    "\n",
    "\n",
    "# 한 명 이상의 참가자와 출구를 포함한 가장 작은 정사각형을 찾습니다.\n",
    "def find_minimum_square():\n",
    "    global exits, sx, sy, square_size\n",
    "    ex, ey = exits\n",
    "\n",
    "    # 가장 작은 정사각형부터 모든 정사각형을 만들어봅니다.\n",
    "    for sz in range(2, n + 1):\n",
    "        # 가장 좌상단 r 좌표가 작은 것부터 하나씩 만들어봅니다.\n",
    "        for x1 in range(1, n - sz + 2):\n",
    "            # 가장 좌상단 c 좌표가 작은 것부터 하나씩 만들어봅니다.\n",
    "            for y1 in range(1, n - sz + 2):\n",
    "                x2, y2 = x1 + sz - 1, y1 + sz - 1\n",
    "\n",
    "                # 만약 출구가 해당 정사각형 안에 없다면 스킵합니다.\n",
    "                if not (x1 <= ex and ex <= x2 and y1 <= ey and ey <= y2):\n",
    "                    continue\n",
    "\n",
    "                # 한 명 이상의 참가자가 해당 정사각형 안에 있는지 판단합니다.\n",
    "                is_traveler_in = False\n",
    "                for l in range(1, m + 1):\n",
    "                    tx, ty = traveler[l]\n",
    "                    if x1 <= tx and tx <= x2 and y1 <= ty and ty <= y2:\n",
    "                        # 출구에 있는 참가자는 제외합니다.\n",
    "                        if not (tx == ex and ty == ey):\n",
    "                            is_traveler_in = True\n",
    "\n",
    "                # 만약 한 명 이상의 참가자가 해당 정사각형 안에 있다면\n",
    "                # sx, sy, square_size 정보를 갱신하고 종료합니다.\n",
    "                if is_traveler_in:\n",
    "                    sx = x1\n",
    "                    sy = y1\n",
    "                    square_size = sz\n",
    "\n",
    "                    return\n",
    "\n",
    "\n",
    "# 정사각형 내부의 벽을 회전시킵니다.\n",
    "def rotate_square():\n",
    "    # 우선 정사각형 안에 있는 벽들을 1 감소시킵니다.\n",
    "    for x in range(sx, sx + square_size):\n",
    "        for y in range(sy, sy + square_size):\n",
    "            if board[x][y]: \n",
    "                board[x][y] -= 1\n",
    "\n",
    "    # 정사각형을 시계방향으로 90' 회전합니다.\n",
    "    for x in range(sx, sx + square_size):\n",
    "        for y in range(sy, sy + square_size):\n",
    "            # Step 1. (sx, sy)를 (0, 0)으로 옮겨주는 변환을 진행합니다. \n",
    "            ox, oy = x - sx, y - sy\n",
    "            # Step 2. 변환된 상태에서는 회전 이후의 좌표가 (x, y) . (y, square_n - x - 1)가 됩니다.\n",
    "            rx, ry = oy, square_size - ox - 1\n",
    "            # Step 3. 다시 (sx, sy)를 더해줍니다.\n",
    "            next_board[rx + sx][ry + sy] = board[x][y]\n",
    "\n",
    "    # next_board 값을 현재 board에 옮겨줍니다.\n",
    "    for x in range(sx, sx + square_size):\n",
    "        for y in range(sy, sy + square_size):\n",
    "            board[x][y] = next_board[x][y]\n",
    "\n",
    "\n",
    "# 모든 참가자들 및 출구를 회전시킵니다.\n",
    "def rotate_traveler_and_exit():\n",
    "    global exits\n",
    "\n",
    "    # m명의 참가자들을 모두 확인합니다.\n",
    "    for i in range(1, m + 1):\n",
    "        tx, ty = traveler[i]\n",
    "        # 해당 참가자가 정사각형 안에 포함되어 있을 때에만 회전시킵니다.\n",
    "        if sx <= tx and tx < sx + square_size and sy <= ty and ty < sy + square_size:\n",
    "            # Step 1. (sx, sy)를 (0, 0)으로 옮겨주는 변환을 진행합니다. \n",
    "            ox, oy = tx - sx, ty - sy\n",
    "            # Step 2. 변환된 상태에서는 회전 이후의 좌표가 (x, y) . (y, square_n - x - 1)가 됩니다.\n",
    "            rx, ry = oy, square_size - ox - 1\n",
    "            # Step 3. 다시 (sx, sy)를 더해줍니다.\n",
    "            traveler[i] = (rx + sx, ry + sy)\n",
    "\n",
    "    # 출구에도 회전을 진행합니다.\n",
    "    ex, ey = exits\n",
    "    if sx <= ex and ex < sx + square_size and sy <= ey and ey < sy + square_size:\n",
    "        # Step 1. (sx, sy)를 (0, 0)으로 옮겨주는 변환을 진행합니다. \n",
    "        ox, oy = ex - sx, ey - sy\n",
    "        # Step 2. 변환된 상태에서는 회전 이후의 좌표가 (x, y) . (y, square_n - x - 1)가 됩니다.\n",
    "        rx, ry = oy, square_size - ox - 1\n",
    "        # Step 3. 다시 (sx, sy)를 더해줍니다.\n",
    "        exits = (rx + sx, ry + sy)\n",
    "\n",
    "\n",
    "for _ in range(k):\n",
    "    # 모든 참가자를 이동시킵니다.\n",
    "    move_all_traveler()\n",
    "\n",
    "    # 모든 사람이 출구로 탈출했는지 판단합니다.\n",
    "    is_all_escaped = True\n",
    "    for i in range(1, m + 1):\n",
    "        if traveler[i] != exits:\n",
    "            is_all_escaped = False\n",
    "\n",
    "    # 만약 모든 사람이 출구로 탈출했으면 바로 종료합니다.\n",
    "    if is_all_escaped: \n",
    "        break\n",
    "\n",
    "    # 한 명 이상의 참가자와 출구를 포함한 가장 작은 정사각형을 찾습니다.\n",
    "    find_minimum_square()\n",
    "\n",
    "    # 정사각형 내부의 벽을 회전시킵니다.\n",
    "    rotate_square()\n",
    "    # 모든 참가자들 및 출구를 회전시킵니다.\n",
    "    rotate_traveler_and_exit()\n",
    "\n",
    "print(ans)\n",
    "\n",
    "ex, ey = exits\n",
    "print(ex, ey)"
   ]
  },
  {
   "cell_type": "markdown",
   "id": "2f512662-f0a7-4109-86b2-85e6ca5afe78",
   "metadata": {},
   "source": [
    "이 문제는 회전시키는 로직을 어떻게 구현하는지가 중요하다."
   ]
  },
  {
   "cell_type": "code",
   "execution_count": null,
   "id": "af53a1e2-4383-4efa-95cc-40fea28aa8b0",
   "metadata": {},
   "outputs": [],
   "source": []
  }
 ],
 "metadata": {
  "kernelspec": {
   "display_name": "Python 3 (ipykernel)",
   "language": "python",
   "name": "python3"
  },
  "language_info": {
   "codemirror_mode": {
    "name": "ipython",
    "version": 3
   },
   "file_extension": ".py",
   "mimetype": "text/x-python",
   "name": "python",
   "nbconvert_exporter": "python",
   "pygments_lexer": "ipython3",
   "version": "3.9.13"
  }
 },
 "nbformat": 4,
 "nbformat_minor": 5
}
