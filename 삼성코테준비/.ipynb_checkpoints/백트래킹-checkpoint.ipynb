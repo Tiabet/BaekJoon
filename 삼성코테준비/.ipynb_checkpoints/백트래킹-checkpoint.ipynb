{
 "cells": [
  {
   "cell_type": "code",
   "execution_count": 1,
   "id": "fa9995cf-bbd7-4275-b9b3-c6b77c80309c",
   "metadata": {},
   "outputs": [
    {
     "name": "stdin",
     "output_type": "stream",
     "text": [
      " 3\n",
      " 1 1 1\n",
      " 2 2 3\n",
      " 5 4 7\n"
     ]
    },
    {
     "name": "stdout",
     "output_type": "stream",
     "text": [
      "10\n"
     ]
    }
   ],
   "source": [
    "n = int(input())\n",
    "\n",
    "nums = []\n",
    "for _ in range(n):\n",
    "    nums.append(list(map(int, input().split())))\n",
    "\n",
    "answer = []\n",
    "visited = [False] * (n+1)\n",
    "\n",
    "result = 0\n",
    "tmp = 0\n",
    "def choose(idx,count):\n",
    "\n",
    "    global tmp, result\n",
    "    if count==n+1:\n",
    "        result = max(result,tmp)\n",
    "        return\n",
    "    arr = nums[idx]\n",
    "    \n",
    "\n",
    "    for i in range(n):\n",
    "        if visited[i] == True :\n",
    "            continue \n",
    "\n",
    "        visited[i] = True\n",
    "        \n",
    "        tmp+=arr[i]\n",
    "        choose(idx+1,count+1)\n",
    "\n",
    "        visited[i] = False\n",
    "        tmp -= arr[i]\n",
    "\n",
    "choose(0,1)\n",
    "\n",
    "print(result)\n",
    "\n",
    "\n"
   ]
  },
  {
   "cell_type": "markdown",
   "id": "ef6b8ec3-ed25-47e3-b44e-23ecbfcf5bf6",
   "metadata": {},
   "source": [
    "모든 탐색 문제의 핵심은 방문했는지를 알 수 있게 해주는 visited 배열의 존재다.\n",
    "중복해서 방문하지 않아야 하는 경우엔 반드시 visited로 방문한 곳을 다시 방문하지 않도록 해야한다.\n",
    "이 문제 같은 경우엔 백트래킹인 이유가 이 visited의 존재 때문이다.\n",
    "또한 break를 거는 조건을 잡을 수 있도록 파라미터를 하나 더 넣어주는 것도 중요하다.\n",
    "백트래킹에서 재귀함수의 핵심은 재귀가 1회 끝나면 상태를 초기로 돌려야 하기 때문에 pop, 뺄셈, visited = False 등의 작업을 추가해줘야 한다."
   ]
  },
  {
   "cell_type": "code",
   "execution_count": null,
   "id": "9fbd665a-b940-498a-81c1-7899c5dda827",
   "metadata": {},
   "outputs": [],
   "source": []
  }
 ],
 "metadata": {
  "kernelspec": {
   "display_name": "Python 3 (ipykernel)",
   "language": "python",
   "name": "python3"
  },
  "language_info": {
   "codemirror_mode": {
    "name": "ipython",
    "version": 3
   },
   "file_extension": ".py",
   "mimetype": "text/x-python",
   "name": "python",
   "nbconvert_exporter": "python",
   "pygments_lexer": "ipython3",
   "version": "3.9.13"
  }
 },
 "nbformat": 4,
 "nbformat_minor": 5
}
