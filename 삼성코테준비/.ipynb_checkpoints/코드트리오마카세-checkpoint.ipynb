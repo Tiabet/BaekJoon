{
 "cells": [
  {
   "cell_type": "code",
   "execution_count": 1,
   "id": "72a6fb6b-4af3-4581-b424-d786a9a87bee",
   "metadata": {},
   "outputs": [
    {
     "data": {
      "text/plain": [
       "(1, 'sam')"
      ]
     },
     "execution_count": 1,
     "metadata": {},
     "output_type": "execute_result"
    }
   ],
   "source": [
    "(1,'sam')"
   ]
  },
  {
   "cell_type": "code",
   "execution_count": 2,
   "id": "80343c0b-05c1-4b78-87f8-b57f87564144",
   "metadata": {},
   "outputs": [],
   "source": [
    "arr = [(0,None) for _ in range(3)]"
   ]
  },
  {
   "cell_type": "code",
   "execution_count": 3,
   "id": "f3ccd129-d5c6-46a3-9f01-ad9aca2df6c9",
   "metadata": {},
   "outputs": [],
   "source": [
    "arr[0] = (1,'sam')"
   ]
  },
  {
   "cell_type": "code",
   "execution_count": 4,
   "id": "ebf3eb5b-3d22-4f71-b390-febd59573b0c",
   "metadata": {},
   "outputs": [
    {
     "data": {
      "text/plain": [
       "[(1, 'sam'), (0, None), (0, None)]"
      ]
     },
     "execution_count": 4,
     "metadata": {},
     "output_type": "execute_result"
    }
   ],
   "source": [
    "arr"
   ]
  },
  {
   "cell_type": "code",
   "execution_count": 5,
   "id": "8d63d440-3b7e-4df5-a7b7-c67530eb9967",
   "metadata": {},
   "outputs": [
    {
     "data": {
      "text/plain": [
       "[(1, 'sam'), (0, None)]"
      ]
     },
     "execution_count": 5,
     "metadata": {},
     "output_type": "execute_result"
    }
   ],
   "source": [
    "arr[:-1]"
   ]
  },
  {
   "cell_type": "code",
   "execution_count": 6,
   "id": "615c83f7-43ef-4d06-80d6-0adbe647de8e",
   "metadata": {},
   "outputs": [
    {
     "data": {
      "text/plain": [
       "[(1, 'sam'), (0, None), (0, None)]"
      ]
     },
     "execution_count": 6,
     "metadata": {},
     "output_type": "execute_result"
    }
   ],
   "source": [
    "arr[:3]"
   ]
  },
  {
   "cell_type": "code",
   "execution_count": 7,
   "id": "7d391d31-3a10-4d72-8fc9-795b11f762c9",
   "metadata": {},
   "outputs": [],
   "source": [
    "customer_table = [[None,0] for _ in range(3)]"
   ]
  },
  {
   "cell_type": "code",
   "execution_count": 8,
   "id": "892d143c-eada-440b-874e-55de932b1771",
   "metadata": {},
   "outputs": [
    {
     "data": {
      "text/plain": [
       "[[None, 0], [None, 0], [None, 0]]"
      ]
     },
     "execution_count": 8,
     "metadata": {},
     "output_type": "execute_result"
    }
   ],
   "source": [
    "customer_table"
   ]
  },
  {
   "cell_type": "code",
   "execution_count": 13,
   "id": "e04cd416-2a3e-4ab4-96d0-4f3f5e882770",
   "metadata": {},
   "outputs": [],
   "source": [
    "customer_table[1][1]-=1"
   ]
  },
  {
   "cell_type": "code",
   "execution_count": 14,
   "id": "15bd8509-4f60-4dfd-bef7-fd192559dbb5",
   "metadata": {},
   "outputs": [
    {
     "data": {
      "text/plain": [
       "[[None, 0], [None, -1], [None, 0]]"
      ]
     },
     "execution_count": 14,
     "metadata": {},
     "output_type": "execute_result"
    }
   ],
   "source": [
    "customer_table"
   ]
  },
  {
   "cell_type": "code",
   "execution_count": null,
   "id": "e8875675-84b2-4ac5-a783-80a661e481e8",
   "metadata": {},
   "outputs": [],
   "source": []
  },
  {
   "cell_type": "code",
   "execution_count": null,
   "id": "11d675f4-39f1-471e-b43b-a8cb022b3717",
   "metadata": {},
   "outputs": [],
   "source": [
    "L = 0\n",
    "L, Q = map(int, input().split())\n",
    "\n",
    "Sushi_table = []\n",
    "customer_table = [[None,0,0] for _ in range(L)]\n",
    "\n",
    "t = 0\n",
    "\n",
    "def eat(Sushi_table, customer_table):\n",
    "    # Use a list comprehension to build a new list excluding the eaten sushi\n",
    "    new_Sushi_table = []\n",
    "    for j in range(len(Sushi_table)):\n",
    "        sushi_eaten = False\n",
    "        for i in range(L):\n",
    "            if customer_table[i][0] == Sushi_table[j][0] and customer_table[i][0] is not None:\n",
    "                if i == Sushi_table[j][1]:\n",
    "                    customer_table[i][1] -= 1\n",
    "                    sushi_eaten = True\n",
    "                    break\n",
    "        if not sushi_eaten:\n",
    "            new_Sushi_table.append(Sushi_table[j])\n",
    "\n",
    "    return new_Sushi_table, customer_table\n",
    "\n",
    "def turn_table(Sushi_table, turn):\n",
    "    for j in range(len(Sushi_table)):\n",
    "        Sushi_table[j][1] = (Sushi_table[j][1] + turn)%L\n",
    "\n",
    "    return Sushi_table\n",
    "\n",
    "\n",
    "for _ in range(Q):\n",
    "    inputs = list(map(str, input().split()))\n",
    "    \n",
    "    if int(inputs[0]) == 100 :\n",
    "        Time,x,name = int(inputs[1]), int(inputs[2]), inputs[3]\n",
    "\n",
    "        #테이블 돌아가면서 초밥 올려놓고 초밥 먹기\n",
    "        while t<Time :\n",
    "            Sushi_table = turn_table(Sushi_table, 1)\n",
    "            Sushi_table.append([name,x])\n",
    "            Sushi_table, customer_table = eat(Sushi_table, customer_table)\n",
    "            t+=1\n",
    "        \n",
    "        #다먹은 손님 퇴장\n",
    "        for i in range(L):\n",
    "            if customer_table[i][1] == 0 and customer_table[i][0] != None :\n",
    "                customer_table[i] = (None,0)\n",
    "\n",
    "        #print(Sushi_table)\n",
    "        #print(customer_table)\n",
    "\n",
    "    elif int(inputs[0]) == 200:\n",
    "        Time, x, name, n = int(inputs[1]), int(inputs[2]), inputs[3], int(inputs[4])\n",
    "\n",
    "        #테이블 돌아가면서 손님 앉히고 초밥 먹기\n",
    "        while t<Time :\n",
    "            Sushi_table = turn_table(Sushi_table, 1)\n",
    "            customer_table[x] = [name,n]\n",
    "            Sushi_table, customer_table = eat(Sushi_table, customer_table)\n",
    "            t+=1\n",
    "\n",
    "        #다먹은 손님 퇴장\n",
    "        for i in range(L):\n",
    "            if customer_table[i][1] == 0 and customer_table[i][0] != None :\n",
    "                customer_table[i] = [None,0]\n",
    "        #print(Sushi_table)\n",
    "        #print(customer_table)\n",
    "\n",
    "    elif int(inputs[0]) == 300 :\n",
    "        Time = int(inputs[1])\n",
    "\n",
    "        #테이블 돌아가면서 초밥 먹기\n",
    "        while t<Time :\n",
    "            Sushi_table = turn_table(Sushi_table, 1)\n",
    "            Sushi_table, customer_table = eat(Sushi_table, customer_table)\n",
    "            t+=1\n",
    "\n",
    "        #다먹은 손님 퇴장\n",
    "        for i in range(L):\n",
    "            if customer_table[i][1] == 0 and customer_table[i][0] != None :\n",
    "                customer_table[i] = [None,0]\n",
    "        \n",
    "        num_customer = 0\n",
    "        num_sushi = 0\n",
    "\n",
    "        for i in range(L):\n",
    "            if customer_table[i][0] != None :\n",
    "                num_customer+=1\n",
    "        \n",
    "        for j in range(len(Sushi_table)):\n",
    "            if Sushi_table[j][0] != None :\n",
    "                num_sushi+=1\n",
    "        #print(Sushi_table)\n",
    "        #print(customer_table)\n",
    "        print(num_customer, num_sushi)\n"
   ]
  },
  {
   "cell_type": "markdown",
   "id": "1e590418-a029-4975-9ac8-162e4938f246",
   "metadata": {},
   "source": [
    "역시 구현으로 풀 수 있었다. 메모리 문제가 떴는데 이는 처음에 customer list를 선언해줄 때 위치를 저장할 수 있게끔 해결해주면 될 것 같다.\n",
    "-> 메모리 문제를 해결하기 위해서 List를 처음부터 L 만큼 선언하는 것은 위험하다."
   ]
  }
 ],
 "metadata": {
  "kernelspec": {
   "display_name": "Python 3 (ipykernel)",
   "language": "python",
   "name": "python3"
  },
  "language_info": {
   "codemirror_mode": {
    "name": "ipython",
    "version": 3
   },
   "file_extension": ".py",
   "mimetype": "text/x-python",
   "name": "python",
   "nbconvert_exporter": "python",
   "pygments_lexer": "ipython3",
   "version": "3.9.13"
  }
 },
 "nbformat": 4,
 "nbformat_minor": 5
}
