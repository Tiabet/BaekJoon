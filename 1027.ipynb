{
 "cells": [
  {
   "cell_type": "code",
   "execution_count": 1,
   "id": "eb498180-ec20-438f-b4c2-080b33042464",
   "metadata": {},
   "outputs": [
    {
     "name": "stdin",
     "output_type": "stream",
     "text": [
      " 15\n"
     ]
    }
   ],
   "source": [
    "n = int(input())"
   ]
  },
  {
   "cell_type": "code",
   "execution_count": 2,
   "id": "062bec1f-e04c-4ae0-858d-04d1755bee2d",
   "metadata": {},
   "outputs": [
    {
     "name": "stdin",
     "output_type": "stream",
     "text": [
      " 1 5 3 2 6 3 2 6 4 2 5 7 3 1 5\n"
     ]
    }
   ],
   "source": [
    "lst = [int(i) for i in input().split()]"
   ]
  },
  {
   "cell_type": "code",
   "execution_count": 3,
   "id": "0dde0d26-270a-41f7-835d-96fb5be47df0",
   "metadata": {},
   "outputs": [
    {
     "data": {
      "text/plain": [
       "[1, 5, 3, 2, 6, 3, 2, 6, 4, 2, 5, 7, 3, 1, 5]"
      ]
     },
     "execution_count": 3,
     "metadata": {},
     "output_type": "execute_result"
    }
   ],
   "source": [
    "def slope(x1, y1, x2, y2):\n",
    "    return (y2 - y1) / (x2 - x1)\n",
    "\n",
    "N = int(input())\n",
    "\n",
    "buildings = list(map(int, input().split()))\n",
    "\n",
    "result = 0\n",
    "for i1, y1 in enumerate(buildings):\n",
    "    x1 = i1 + 1\n",
    "    # 오른쪽 볼 수 있는 빌딩 수\n",
    "    cur_slope_right = None\n",
    "    visible_right = 0\n",
    "    for i2 in range(i1+1, N+1):\n",
    "        if i2 == N: break\n",
    "        x2 = i2 + 1\n",
    "        y2 = buildings[i2]\n",
    "        slope_right = slope(x1, y1, x2, y2)\n",
    "        # print(\"RIGHT:\", x1, y1, x2, y2, slope_right)\n",
    "        if cur_slope_right is None or cur_slope_right < slope_right:\n",
    "            cur_slope_right = slope_right\n",
    "            visible_right += 1\n",
    "    # print(\"visible_right:\", visible_right)\n",
    "\n",
    "    # 왼쪽 볼 수 있는 빌딩 수\n",
    "    cur_slope_left = None\n",
    "    visible_left = 0\n",
    "    for i3 in range(i1-1, -1, -1):\n",
    "        if i3 == -1: break\n",
    "        x2 = i3 + 1\n",
    "        y2 = buildings[i3]\n",
    "        slope_left = slope(x1, y1, x2, y2)\n",
    "        # print(\"LEFT:\", x1, y1, x2, y2, slope_left)\n",
    "        if cur_slope_left is None or cur_slope_left > slope_left:\n",
    "            cur_slope_left = slope_left\n",
    "            visible_left += 1\n",
    "    # print(\"visible_left:\", visible_left)\n",
    "\n",
    "    if (visible_left + visible_right) > result: result = visible_left + visible_right\n",
    "\n",
    "print(result)"
   ]
  },
  {
   "cell_type": "code",
   "execution_count": 8,
   "id": "fef236bc-a768-4e6d-8e23-406f3dbf78f0",
   "metadata": {},
   "outputs": [
    {
     "data": {
      "text/plain": [
       "[5, 3, 2, 6, 3, 2, 6, 4, 2, 5, 7, 3, 1, 5]"
      ]
     },
     "execution_count": 8,
     "metadata": {},
     "output_type": "execute_result"
    }
   ],
   "source": [
    "lst[1:]"
   ]
  },
  {
   "cell_type": "markdown",
   "id": "60bca64e-1e13-4cc3-93e9-433d7f613034",
   "metadata": {},
   "source": [
    "1. 자신보다 큰 건물 뒤에 있는 건물은 안 보인다. 단 압도적으로 크다면 보인다. (기울기 따져야함)\n",
    "2. 자신보다 작더라도, 그 뒤에 있는 건물이 훨씬 작다면 안보인다. (기울기 따져야함)\n",
    "3. 왼쪽 오른쪽 나눠야함"
   ]
  }
 ],
 "metadata": {
  "kernelspec": {
   "display_name": "Python 3 (ipykernel)",
   "language": "python",
   "name": "python3"
  },
  "language_info": {
   "codemirror_mode": {
    "name": "ipython",
    "version": 3
   },
   "file_extension": ".py",
   "mimetype": "text/x-python",
   "name": "python",
   "nbconvert_exporter": "python",
   "pygments_lexer": "ipython3",
   "version": "3.9.13"
  }
 },
 "nbformat": 4,
 "nbformat_minor": 5
}
