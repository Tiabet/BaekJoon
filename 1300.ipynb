{
 "cells": [
  {
   "cell_type": "code",
   "execution_count": 1,
   "id": "edd62dd7-b018-4c99-9bd8-633bba790854",
   "metadata": {},
   "outputs": [
    {
     "name": "stdin",
     "output_type": "stream",
     "text": [
      " 3\n"
     ]
    }
   ],
   "source": [
    "n = int(input())"
   ]
  },
  {
   "cell_type": "code",
   "execution_count": 2,
   "id": "41b4b435-938a-4049-b73d-c6541ac05985",
   "metadata": {},
   "outputs": [
    {
     "name": "stdin",
     "output_type": "stream",
     "text": [
      " 7\n"
     ]
    }
   ],
   "source": [
    "k = int(input())"
   ]
  },
  {
   "cell_type": "markdown",
   "id": "efe5f3ae-2aa2-4b34-9094-d0138da9f5a8",
   "metadata": {},
   "source": [
    "1 2 3 4 5 6\n",
    "2 4 6 8 10 12\n",
    "3 6 9 12 15 18\n",
    "4 8 12 16 20 24\n",
    "5 10 15 20 25 30\n",
    "6 12 18 24 30 36"
   ]
  },
  {
   "cell_type": "code",
   "execution_count": 56,
   "id": "15cc0268-64b7-4186-83fb-79612fc21640",
   "metadata": {},
   "outputs": [],
   "source": [
    "arr = [[0]*n for _ in range(n)]\n",
    "\n",
    "for i in range(1,n+1):\n",
    "    for j in range(1,n+1):\n",
    "        arr[i-1][j-1] = i*j"
   ]
  },
  {
   "cell_type": "code",
   "execution_count": null,
   "id": "3a5d9bf1-cbdc-4754-8403-0791f3c85a76",
   "metadata": {},
   "outputs": [],
   "source": []
  }
 ],
 "metadata": {
  "kernelspec": {
   "display_name": "Python 3 (ipykernel)",
   "language": "python",
   "name": "python3"
  },
  "language_info": {
   "codemirror_mode": {
    "name": "ipython",
    "version": 3
   },
   "file_extension": ".py",
   "mimetype": "text/x-python",
   "name": "python",
   "nbconvert_exporter": "python",
   "pygments_lexer": "ipython3",
   "version": "3.9.13"
  }
 },
 "nbformat": 4,
 "nbformat_minor": 5
}
