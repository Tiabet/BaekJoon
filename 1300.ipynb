{
 "cells": [
  {
   "cell_type": "code",
   "execution_count": 1,
   "id": "edd62dd7-b018-4c99-9bd8-633bba790854",
   "metadata": {},
   "outputs": [
    {
     "name": "stdin",
     "output_type": "stream",
     "text": [
      " 3\n"
     ]
    }
   ],
   "source": [
    "n = int(input())"
   ]
  },
  {
   "cell_type": "code",
   "execution_count": 2,
   "id": "41b4b435-938a-4049-b73d-c6541ac05985",
   "metadata": {},
   "outputs": [
    {
     "name": "stdin",
     "output_type": "stream",
     "text": [
      " 7\n"
     ]
    }
   ],
   "source": [
    "k = int(input())"
   ]
  },
  {
   "cell_type": "markdown",
   "id": "efe5f3ae-2aa2-4b34-9094-d0138da9f5a8",
   "metadata": {},
   "source": [
    "1 2 3\n",
    "2 4 6\n",
    "3 6 9"
   ]
  },
  {
   "cell_type": "code",
   "execution_count": 56,
   "id": "15cc0268-64b7-4186-83fb-79612fc21640",
   "metadata": {},
   "outputs": [],
   "source": [
    "arr = [[0]*n for _ in range(n)]\n",
    "\n",
    "for i in range(1,n+1):\n",
    "    for j in range(1,n+1):\n",
    "        arr[i-1][j-1] = i*j"
   ]
  },
  {
   "cell_type": "code",
   "execution_count": 64,
   "id": "3a5d9bf1-cbdc-4754-8403-0791f3c85a76",
   "metadata": {},
   "outputs": [
    {
     "name": "stdin",
     "output_type": "stream",
     "text": [
      " 3\n",
      " 6\n"
     ]
    },
    {
     "name": "stdout",
     "output_type": "stream",
     "text": [
      "4\n"
     ]
    }
   ],
   "source": [
    "def count_less_equal(x, N):\n",
    "    count = 0\n",
    "    for i in range(1, N+1):\n",
    "        count += min(x // i, N)\n",
    "    return count\n",
    "\n",
    "def find_k(N, k):\n",
    "    left, right = 1, k\n",
    "\n",
    "    while left < right:\n",
    "        mid = (left + right) // 2\n",
    "        if count_less_equal(mid, N) < k:\n",
    "            left = mid + 1\n",
    "        else:\n",
    "            right = mid\n",
    "    return left\n",
    "\n",
    "# 배열의 크기 N과 k 입력 받기\n",
    "N = int(input())\n",
    "k = int(input())\n",
    "\n",
    "# B[k]를 이진 탐색을 통해 찾고 출력\n",
    "result = find_k(N, k)\n",
    "print(result)\n"
   ]
  },
  {
   "cell_type": "code",
   "execution_count": 65,
   "id": "efb9068d-6609-43af-bfd5-8a9efe4aeac5",
   "metadata": {},
   "outputs": [
    {
     "name": "stdout",
     "output_type": "stream",
     "text": [
      "3\n",
      "3\n",
      "1\n",
      "4\n",
      "1\n",
      "5\n"
     ]
    },
    {
     "data": {
      "text/plain": [
       "5"
      ]
     },
     "execution_count": 65,
     "metadata": {},
     "output_type": "execute_result"
    }
   ],
   "source": [
    "def count_less_equal(x, N):\n",
    "    count = 0\n",
    "    for i in range(1, N+1):\n",
    "        count += min(x // i, N)\n",
    "        print(min(x//i, N))\n",
    "        print(count)\n",
    "    return count\n",
    "count_less_equal(3,3)"
   ]
  },
  {
   "cell_type": "code",
   "execution_count": null,
   "id": "67bd4b26-9d9d-4ab6-9793-86c74dded0fd",
   "metadata": {},
   "outputs": [],
   "source": []
  }
 ],
 "metadata": {
  "kernelspec": {
   "display_name": "Python 3 (ipykernel)",
   "language": "python",
   "name": "python3"
  },
  "language_info": {
   "codemirror_mode": {
    "name": "ipython",
    "version": 3
   },
   "file_extension": ".py",
   "mimetype": "text/x-python",
   "name": "python",
   "nbconvert_exporter": "python",
   "pygments_lexer": "ipython3",
   "version": "3.9.13"
  }
 },
 "nbformat": 4,
 "nbformat_minor": 5
}
