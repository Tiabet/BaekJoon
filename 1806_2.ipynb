{
 "cells": [
  {
   "cell_type": "code",
   "execution_count": 1,
   "id": "e38c0587-a95b-441b-9a2a-481c8aa11b03",
   "metadata": {},
   "outputs": [
    {
     "name": "stdin",
     "output_type": "stream",
     "text": [
      " 10 15\n"
     ]
    }
   ],
   "source": [
    "n, purpose = map(int, input().split())"
   ]
  },
  {
   "cell_type": "code",
   "execution_count": null,
   "id": "0642c388-780e-41ce-9aa5-b8ca195cf7dc",
   "metadata": {},
   "outputs": [],
   "source": []
  },
  {
   "cell_type": "code",
   "execution_count": 4,
   "id": "03232ca5-366a-4baf-bec8-2848fbf36cde",
   "metadata": {},
   "outputs": [
    {
     "name": "stdin",
     "output_type": "stream",
     "text": [
      " 5 1 3 5 10 7 4 9 2 8\n"
     ]
    }
   ],
   "source": [
    "nums = [int(i) for i in input().split()]"
   ]
  },
  {
   "cell_type": "code",
   "execution_count": 9,
   "id": "ab38bf6d-f260-4dfc-b678-c1925154a493",
   "metadata": {},
   "outputs": [],
   "source": [
    "start = 0\n",
    "end = 0\n",
    "answer = n+1"
   ]
  },
  {
   "cell_type": "code",
   "execution_count": 10,
   "id": "3d53e260-a453-4040-b181-aa364af96b4d",
   "metadata": {},
   "outputs": [],
   "source": [
    "s = nums[start]\n",
    "while True:\n",
    "    if s < purpose :\n",
    "        end+=1\n",
    "        if end==n :\n",
    "            break\n",
    "        s+=nums[end]\n",
    "    else :\n",
    "        s-=nums[start]\n",
    "        answer = min(answer,end-start+1)\n",
    "        start+=1"
   ]
  },
  {
   "cell_type": "code",
   "execution_count": 11,
   "id": "833c64f5-5ea7-42af-ad24-63d8357ffc94",
   "metadata": {},
   "outputs": [
    {
     "name": "stdout",
     "output_type": "stream",
     "text": [
      "2\n"
     ]
    }
   ],
   "source": [
    "print(answer if answer!=n+1 else 0)"
   ]
  },
  {
   "cell_type": "code",
   "execution_count": null,
   "id": "d2995959-db81-4e38-be07-7a991bd177bd",
   "metadata": {},
   "outputs": [],
   "source": []
  }
 ],
 "metadata": {
  "kernelspec": {
   "display_name": "Python 3 (ipykernel)",
   "language": "python",
   "name": "python3"
  },
  "language_info": {
   "codemirror_mode": {
    "name": "ipython",
    "version": 3
   },
   "file_extension": ".py",
   "mimetype": "text/x-python",
   "name": "python",
   "nbconvert_exporter": "python",
   "pygments_lexer": "ipython3",
   "version": "3.9.13"
  }
 },
 "nbformat": 4,
 "nbformat_minor": 5
}
