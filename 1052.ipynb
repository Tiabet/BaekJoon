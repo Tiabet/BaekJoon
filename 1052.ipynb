{
 "cells": [
  {
   "cell_type": "code",
   "execution_count": 314,
   "id": "56e9edb6-1855-4dd5-a77a-4dbea7c4adf5",
   "metadata": {},
   "outputs": [
    {
     "name": "stdin",
     "output_type": "stream",
     "text": [
      " 9 1\n"
     ]
    }
   ],
   "source": [
    "n, k = map(int, input().split())"
   ]
  },
  {
   "cell_type": "code",
   "execution_count": 315,
   "id": "e3f1a3e4-6189-44ed-be86-de50829b54d4",
   "metadata": {},
   "outputs": [],
   "source": [
    "size = 1\n",
    "count_list = []"
   ]
  },
  {
   "cell_type": "code",
   "execution_count": 316,
   "id": "6af4cff3-a9e2-4884-bbbd-a53cbf770f53",
   "metadata": {},
   "outputs": [],
   "source": [
    "while True:\n",
    "    if n==1.0:\n",
    "        break\n",
    "    if n%2==1.0:\n",
    "        n-=1\n",
    "        count_list.append(size)\n",
    "    n = n/2\n",
    "    size*=2"
   ]
  },
  {
   "cell_type": "code",
   "execution_count": 317,
   "id": "7256d723-b7a7-4b8e-adae-9815df87cf18",
   "metadata": {},
   "outputs": [],
   "source": [
    "m = len(count_list)+int(n)-k"
   ]
  },
  {
   "cell_type": "code",
   "execution_count": 318,
   "id": "82d9b0cc-7b0a-484b-bd55-d93f043ff319",
   "metadata": {},
   "outputs": [
    {
     "name": "stdout",
     "output_type": "stream",
     "text": [
      "7\n"
     ]
    }
   ],
   "source": [
    "result=0\n",
    "if len(count_list)==0:\n",
    "    result=0\n",
    "elif len(count_list)==1:\n",
    "    for i in range(len(count_list)):\n",
    "        result+=(size - count_list[i])\n",
    "else:\n",
    "    for i in range(m):\n",
    "        result+=count_list[i]\n",
    "    if m<len(count_list):\n",
    "        result = count_list[m]-result\n",
    "    else :\n",
    "        result = size - result\n",
    "        \n",
    "print(result)"
   ]
  },
  {
   "cell_type": "code",
   "execution_count": 319,
   "id": "a85ae446-0440-47cb-b66f-65702a0be049",
   "metadata": {},
   "outputs": [
    {
     "data": {
      "text/plain": [
       "[1]"
      ]
     },
     "execution_count": 319,
     "metadata": {},
     "output_type": "execute_result"
    }
   ],
   "source": [
    "count_list"
   ]
  },
  {
   "cell_type": "code",
   "execution_count": 320,
   "id": "a1a1de13-5240-4c16-8a7e-8626bafa5fd7",
   "metadata": {},
   "outputs": [
    {
     "data": {
      "text/plain": [
       "1"
      ]
     },
     "execution_count": 320,
     "metadata": {},
     "output_type": "execute_result"
    }
   ],
   "source": [
    "m"
   ]
  },
  {
   "cell_type": "code",
   "execution_count": null,
   "id": "9bed9e38-97da-4dcf-bc8e-1b7bb890e9de",
   "metadata": {},
   "outputs": [],
   "source": []
  }
 ],
 "metadata": {
  "kernelspec": {
   "display_name": "Python 3 (ipykernel)",
   "language": "python",
   "name": "python3"
  },
  "language_info": {
   "codemirror_mode": {
    "name": "ipython",
    "version": 3
   },
   "file_extension": ".py",
   "mimetype": "text/x-python",
   "name": "python",
   "nbconvert_exporter": "python",
   "pygments_lexer": "ipython3",
   "version": "3.9.13"
  }
 },
 "nbformat": 4,
 "nbformat_minor": 5
}
