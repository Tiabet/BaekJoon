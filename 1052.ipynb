{
 "cells": [
  {
   "cell_type": "code",
   "execution_count": 1,
   "id": "c40db931-5080-4ecc-b899-e4a6406f2b16",
   "metadata": {},
   "outputs": [
    {
     "data": {
      "text/plain": [
       "500000"
      ]
     },
     "execution_count": 1,
     "metadata": {},
     "output_type": "execute_result"
    }
   ],
   "source": [
    "1000000//2"
   ]
  },
  {
   "cell_type": "code",
   "execution_count": 60,
   "id": "61ef4af7-1301-4d98-8cd4-be76a2650e0d",
   "metadata": {},
   "outputs": [],
   "source": [
    "n = 1000000\n",
    "size = 1"
   ]
  },
  {
   "cell_type": "code",
   "execution_count": 74,
   "id": "3e87bd57-e3b3-43ce-81e8-9b54bcc7fedd",
   "metadata": {},
   "outputs": [
    {
     "data": {
      "text/plain": [
       "3907.0"
      ]
     },
     "execution_count": 74,
     "metadata": {},
     "output_type": "execute_result"
    }
   ],
   "source": [
    "n = n/2\n",
    "size*=2\n",
    "n"
   ]
  },
  {
   "cell_type": "code",
   "execution_count": 75,
   "id": "11284e56-f848-4d8d-a96e-b6718bb1d2d4",
   "metadata": {},
   "outputs": [
    {
     "data": {
      "text/plain": [
       "256"
      ]
     },
     "execution_count": 75,
     "metadata": {},
     "output_type": "execute_result"
    }
   ],
   "source": [
    "size"
   ]
  },
  {
   "cell_type": "code",
   "execution_count": 54,
   "id": "34e7cb0d-0f74-4b5a-8273-df64907b98b3",
   "metadata": {},
   "outputs": [],
   "source": [
    "count=0"
   ]
  },
  {
   "cell_type": "code",
   "execution_count": 73,
   "id": "d1803582-30ce-4867-9444-35403fa49d7a",
   "metadata": {},
   "outputs": [],
   "source": [
    "count+=size\n",
    "n+=1"
   ]
  },
  {
   "cell_type": "code",
   "execution_count": 76,
   "id": "bbbec0c7-c7e5-41dc-b6fe-75efa686c161",
   "metadata": {},
   "outputs": [
    {
     "data": {
      "text/plain": [
       "15817.0"
      ]
     },
     "execution_count": 76,
     "metadata": {},
     "output_type": "execute_result"
    }
   ],
   "source": [
    "count"
   ]
  }
 ],
 "metadata": {
  "kernelspec": {
   "display_name": "Python 3 (ipykernel)",
   "language": "python",
   "name": "python3"
  },
  "language_info": {
   "codemirror_mode": {
    "name": "ipython",
    "version": 3
   },
   "file_extension": ".py",
   "mimetype": "text/x-python",
   "name": "python",
   "nbconvert_exporter": "python",
   "pygments_lexer": "ipython3",
   "version": "3.9.13"
  }
 },
 "nbformat": 4,
 "nbformat_minor": 5
}
