{
 "cells": [
  {
   "cell_type": "markdown",
   "id": "5fa80a94",
   "metadata": {},
   "source": [
    "문자열을 정렬하는 문제다."
   ]
  },
  {
   "cell_type": "code",
   "execution_count": 10,
   "id": "c3e3c2d9",
   "metadata": {},
   "outputs": [
    {
     "name": "stdout",
     "output_type": "stream",
     "text": [
      "3\n",
      "a\n",
      "a\n",
      "b\n",
      "a\n",
      "b\n"
     ]
    }
   ],
   "source": [
    "n = int(input())\n",
    "\n",
    "array = []\n",
    "\n",
    "for _ in range(n):\n",
    "    str = input()\n",
    "    array.append(str)\n",
    "\n",
    "tmp = set(array)\n",
    "array = list(tmp)\n",
    "\n",
    "array.sort()\n",
    "array.sort(key=len)\n",
    "\n",
    "for st in array:\n",
    "    print(st)"
   ]
  },
  {
   "cell_type": "code",
   "execution_count": null,
   "id": "403162eb",
   "metadata": {},
   "outputs": [],
   "source": []
  },
  {
   "cell_type": "code",
   "execution_count": null,
   "id": "c46f987f",
   "metadata": {},
   "outputs": [],
   "source": []
  }
 ],
 "metadata": {
  "kernelspec": {
   "display_name": "Python 3 (ipykernel)",
   "language": "python",
   "name": "python3"
  },
  "language_info": {
   "codemirror_mode": {
    "name": "ipython",
    "version": 3
   },
   "file_extension": ".py",
   "mimetype": "text/x-python",
   "name": "python",
   "nbconvert_exporter": "python",
   "pygments_lexer": "ipython3",
   "version": "3.9.13"
  }
 },
 "nbformat": 4,
 "nbformat_minor": 5
}
