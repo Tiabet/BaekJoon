{
 "cells": [
  {
   "cell_type": "markdown",
   "id": "7572d2f2",
   "metadata": {},
   "source": [
    "# 1436"
   ]
  },
  {
   "cell_type": "code",
   "execution_count": 4,
   "id": "e0f8df84",
   "metadata": {},
   "outputs": [
    {
     "name": "stdout",
     "output_type": "stream",
     "text": [
      "3\n",
      "2666\n"
     ]
    }
   ],
   "source": [
    "n = int(input())\n",
    "count=0\n",
    "object=666\n",
    "\n",
    "while True :\n",
    "    if '666' in str(object):\n",
    "        count+=1\n",
    "    if n==count:\n",
    "        print(object)\n",
    "        break\n",
    "    object+=1"
   ]
  },
  {
   "cell_type": "code",
   "execution_count": null,
   "id": "f70bc587",
   "metadata": {},
   "outputs": [],
   "source": []
  }
 ],
 "metadata": {
  "kernelspec": {
   "display_name": "Python 3 (ipykernel)",
   "language": "python",
   "name": "python3"
  },
  "language_info": {
   "codemirror_mode": {
    "name": "ipython",
    "version": 3
   },
   "file_extension": ".py",
   "mimetype": "text/x-python",
   "name": "python",
   "nbconvert_exporter": "python",
   "pygments_lexer": "ipython3",
   "version": "3.9.13"
  }
 },
 "nbformat": 4,
 "nbformat_minor": 5
}
