{
 "cells": [
  {
   "cell_type": "code",
   "execution_count": 32,
   "id": "21d418c7-057d-498c-bbde-18de31b1b452",
   "metadata": {},
   "outputs": [
    {
     "name": "stdin",
     "output_type": "stream",
     "text": [
      " 10\n"
     ]
    }
   ],
   "source": [
    "n = int(input())"
   ]
  },
  {
   "cell_type": "code",
   "execution_count": 39,
   "id": "d07aba4f-6f28-4382-8276-2694da9db0fd",
   "metadata": {},
   "outputs": [],
   "source": [
    "import math\n",
    "import sys\n",
    "input = sys.stdin.readline\n",
    "\n",
    "cut = math.floor(n*0.15+0.5)"
   ]
  },
  {
   "cell_type": "code",
   "execution_count": 34,
   "id": "3c403497-2509-41fb-b3c3-f41d830f0c4c",
   "metadata": {},
   "outputs": [
    {
     "name": "stdin",
     "output_type": "stream",
     "text": [
      " 1\n",
      " 13\n",
      " 12\n",
      " 15\n",
      " 3\n",
      " 16\n",
      " 13\n",
      " 12\n",
      " 14\n",
      " 15\n"
     ]
    }
   ],
   "source": [
    "lis = []\n",
    "for i in range(n):\n",
    "    lis.append(int(input()))\n",
    "    \n",
    "lis.sort()"
   ]
  },
  {
   "cell_type": "code",
   "execution_count": 40,
   "id": "3c89a9cd-50c3-4357-9ab0-25014fad568b",
   "metadata": {},
   "outputs": [],
   "source": [
    "lis = lis[cut:len(lis)-cut]"
   ]
  },
  {
   "cell_type": "code",
   "execution_count": 36,
   "id": "f26e640c-8f4a-424f-9b93-e30669ea1948",
   "metadata": {},
   "outputs": [
    {
     "name": "stdout",
     "output_type": "stream",
     "text": [
      "13\n"
     ]
    }
   ],
   "source": [
    "if len(lis) == 0:\n",
    "    print(0)\n",
    "else :\n",
    "    avg = math.floor(sum(lis)/len(lis)+0.5)\n",
    "    print(avg)"
   ]
  },
  {
   "cell_type": "code",
   "execution_count": null,
   "id": "d9cfbde8-b312-403e-866f-f3979f9547e3",
   "metadata": {},
   "outputs": [],
   "source": []
  }
 ],
 "metadata": {
  "kernelspec": {
   "display_name": "Python 3 (ipykernel)",
   "language": "python",
   "name": "python3"
  },
  "language_info": {
   "codemirror_mode": {
    "name": "ipython",
    "version": 3
   },
   "file_extension": ".py",
   "mimetype": "text/x-python",
   "name": "python",
   "nbconvert_exporter": "python",
   "pygments_lexer": "ipython3",
   "version": "3.9.13"
  }
 },
 "nbformat": 4,
 "nbformat_minor": 5
}
