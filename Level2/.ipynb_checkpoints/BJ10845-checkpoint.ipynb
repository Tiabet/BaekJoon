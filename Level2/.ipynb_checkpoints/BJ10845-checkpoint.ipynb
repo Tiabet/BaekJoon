{
 "cells": [
  {
   "cell_type": "markdown",
   "id": "bdbe0297",
   "metadata": {},
   "source": [
    "큐를 구현하는 문제다. 파이썬에는 편리하게도 큐의 핵심적인 기능, pop, push 같은 기능들이 이미 구현이 되어있다. 그래서 어렵지 않게 구현할 수 있었다."
   ]
  },
  {
   "cell_type": "code",
   "execution_count": null,
   "id": "9d20a541",
   "metadata": {},
   "outputs": [],
   "source": [
    "import sys\n",
    "\n",
    "n = int(sys.stdin.readline())\n",
    "\n",
    "queue = []\n",
    "\n",
    "for i in range(n):\n",
    "    order = sys.stdin.readline().split()\n",
    "\n",
    "    if cmd[0] == \"push\":\n",
    "        queue.insert(0, order[1])\n",
    "\n",
    "    elif order[0] == \"pop\":\n",
    "        if len(queue) != 0: print(queue.pop())\n",
    "        else: print(-1)\n",
    "\n",
    "    elif order[0] == \"size\":\n",
    "        print(len(queue))\n",
    "\n",
    "    elif order[0] == \"empty\":\n",
    "        if len(queue) == 0: print(1)\n",
    "        else : print(0)\n",
    "\n",
    "    elif order[0] == \"front\":\n",
    "        if len(queue) == 0: print(-1)\n",
    "        else: print(queue[len(queue) -1])\n",
    "\n",
    "    elif order[0] == \"back\":\n",
    "        if len(queue) == 0: print(-1)\n",
    "        else: print(queue[0])"
   ]
  }
 ],
 "metadata": {
  "kernelspec": {
   "display_name": "Python 3 (ipykernel)",
   "language": "python",
   "name": "python3"
  },
  "language_info": {
   "codemirror_mode": {
    "name": "ipython",
    "version": 3
   },
   "file_extension": ".py",
   "mimetype": "text/x-python",
   "name": "python",
   "nbconvert_exporter": "python",
   "pygments_lexer": "ipython3",
   "version": "3.9.13"
  }
 },
 "nbformat": 4,
 "nbformat_minor": 5
}
