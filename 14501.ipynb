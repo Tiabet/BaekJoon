{
 "cells": [
  {
   "cell_type": "code",
   "execution_count": 36,
   "id": "bac16bbc-bd07-4591-bd8b-352ace3501a0",
   "metadata": {},
   "outputs": [
    {
     "name": "stdin",
     "output_type": "stream",
     "text": [
      " 10\n"
     ]
    }
   ],
   "source": [
    "n = int(input())"
   ]
  },
  {
   "cell_type": "code",
   "execution_count": 37,
   "id": "c5dc527c-ee72-4b5d-87bf-c7ed14243c11",
   "metadata": {},
   "outputs": [
    {
     "name": "stdin",
     "output_type": "stream",
     "text": [
      " 1 1\n",
      " 1 2\n",
      " 1 3\n",
      " 1 4\n",
      " 1 5\n",
      " 1 6\n",
      " 1 7\n",
      " 1 8\n",
      " 1 9\n",
      " 1 10\n"
     ]
    }
   ],
   "source": [
    "_list = []\n",
    "for i in range(n):\n",
    "    _list.append(tuple(map(int, input().split())))"
   ]
  },
  {
   "cell_type": "code",
   "execution_count": 38,
   "id": "3d8aff08-376d-4b39-aea8-3513b47b9948",
   "metadata": {},
   "outputs": [
    {
     "data": {
      "text/plain": [
       "[(1, 1),\n",
       " (1, 2),\n",
       " (1, 3),\n",
       " (1, 4),\n",
       " (1, 5),\n",
       " (1, 6),\n",
       " (1, 7),\n",
       " (1, 8),\n",
       " (1, 9),\n",
       " (1, 10)]"
      ]
     },
     "execution_count": 38,
     "metadata": {},
     "output_type": "execute_result"
    }
   ],
   "source": [
    "_list"
   ]
  },
  {
   "cell_type": "code",
   "execution_count": 33,
   "id": "874d6a71-a412-4d6e-9f4c-5ffb48f40d5d",
   "metadata": {},
   "outputs": [],
   "source": [
    "dp = [0]*(n)"
   ]
  },
  {
   "cell_type": "code",
   "execution_count": 34,
   "id": "fb97a254-4d3f-4e27-97bc-6fa8536ab23f",
   "metadata": {},
   "outputs": [
    {
     "name": "stdout",
     "output_type": "stream",
     "text": [
      "[0, 0, 0, 10, 0, 0, 0]\n",
      "[0, 0, 0, 10, 10, 0, 0]\n",
      "[0, 0, 0, 10, 10, 10, 0]\n",
      "[0, 0, 0, 10, 10, 10, 10]\n",
      "[0, 0, 0, 10, 10, 10, 20]\n",
      "[0, 0, 0, 10, 10, 10, 20]\n",
      "[0, 0, 0, 10, 10, 10, 20]\n",
      "[0, 0, 0, 10, 10, 10, 20]\n",
      "[0, 0, 0, 10, 10, 10, 20]\n",
      "[0, 0, 0, 10, 30, 10, 20]\n",
      "[0, 0, 0, 10, 30, 30, 20]\n",
      "[0, 0, 0, 10, 30, 30, 30]\n",
      "[0, 0, 0, 10, 30, 30, 45]\n"
     ]
    }
   ],
   "source": [
    "for i in range(n):\n",
    "    for j in range(i+_list[i][0],n):\n",
    "        if dp[j] < dp[i] + _list[i][1] :\n",
    "            dp[j] = dp[i] + _list[i][1]\n",
    "        print(dp)\n",
    "            "
   ]
  },
  {
   "cell_type": "code",
   "execution_count": 35,
   "id": "5f923abc-ae18-4bb6-9850-154227abfef2",
   "metadata": {},
   "outputs": [
    {
     "data": {
      "text/plain": [
       "[0, 0, 0, 10, 30, 30, 45]"
      ]
     },
     "execution_count": 35,
     "metadata": {},
     "output_type": "execute_result"
    }
   ],
   "source": [
    "dp"
   ]
  },
  {
   "cell_type": "code",
   "execution_count": null,
   "id": "278f1ad8-2d00-4e3d-b128-66bd6c47e1aa",
   "metadata": {},
   "outputs": [],
   "source": []
  }
 ],
 "metadata": {
  "kernelspec": {
   "display_name": "Python 3 (ipykernel)",
   "language": "python",
   "name": "python3"
  },
  "language_info": {
   "codemirror_mode": {
    "name": "ipython",
    "version": 3
   },
   "file_extension": ".py",
   "mimetype": "text/x-python",
   "name": "python",
   "nbconvert_exporter": "python",
   "pygments_lexer": "ipython3",
   "version": "3.9.13"
  }
 },
 "nbformat": 4,
 "nbformat_minor": 5
}
