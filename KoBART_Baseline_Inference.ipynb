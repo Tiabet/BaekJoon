{
  "nbformat": 4,
  "nbformat_minor": 0,
  "metadata": {
    "colab": {
      "provenance": [],
      "machine_shape": "hm",
      "gpuType": "T4",
      "mount_file_id": "1iZ4pYA_G5_Azp_zVxApeDiU6ehc3r_os",
      "authorship_tag": "ABX9TyOT+lSTTXUwB5jRc9zzsH3v",
      "include_colab_link": true
    },
    "kernelspec": {
      "name": "python3",
      "display_name": "Python 3"
    },
    "language_info": {
      "name": "python"
    },
    "accelerator": "GPU"
  },
  "cells": [
    {
      "cell_type": "markdown",
      "metadata": {
        "id": "view-in-github",
        "colab_type": "text"
      },
      "source": [
        "<a href=\"https://colab.research.google.com/github/Tiabet/BaekJoon/blob/main/KoBART_Baseline_Inference.ipynb\" target=\"_parent\"><img src=\"https://colab.research.google.com/assets/colab-badge.svg\" alt=\"Open In Colab\"/></a>"
      ]
    },
    {
      "cell_type": "code",
      "execution_count": 2,
      "metadata": {
        "id": "gWKZViR0m7df"
      },
      "outputs": [],
      "source": [
        "%%capture\n",
        "\n",
        "!pip install transformers\n",
        "!pip install datasets"
      ]
    },
    {
      "cell_type": "code",
      "source": [
        "from tqdm import tqdm\n",
        "import json\n",
        "import pandas as pd\n",
        "import torch\n",
        "from transformers import BartForConditionalGeneration, AutoTokenizer\n",
        "from datasets import Dataset\n",
        "from torch.utils.data import DataLoader\n",
        "from tokenizers.processors import TemplateProcessing"
      ],
      "metadata": {
        "id": "UmOgcqxj7WiY"
      },
      "execution_count": 1,
      "outputs": []
    },
    {
      "cell_type": "code",
      "source": [
        "def StoryDataLoader(fname, tokenizer, batch_size, max_length, mode=\"train\"):\n",
        "    \"\"\"\n",
        "    Build Data Loader\n",
        "\n",
        "    \"\"\"\n",
        "\n",
        "    dataset = Dataset.from_json(fname, mode)\n",
        "\n",
        "    if not tokenizer.cls_token:\n",
        "        tokenizer.cls_token = tokenizer.bos_token\n",
        "    if not tokenizer.sep_token:\n",
        "        tokenizer.sep_token = tokenizer.eos_token\n",
        "\n",
        "    tokenizer._tokenizer.post_processor = TemplateProcessing(\n",
        "        single=f\"{tokenizer.cls_token} $0 {tokenizer.sep_token}\",\n",
        "        pair=f\"{tokenizer.cls_token} $A {tokenizer.sep_token} $B:1 {tokenizer.sep_token}:1\",\n",
        "        special_tokens=[(tokenizer.cls_token, tokenizer.cls_token_id), (tokenizer.sep_token, tokenizer.sep_token_id)],\n",
        "    )\n",
        "\n",
        "    def preprocess_function(examples):\n",
        "        processed = {}\n",
        "        tokenizer_input = tokenizer(\n",
        "            examples[\"input\"][\"sentence1\"],\n",
        "            examples[\"input\"][\"sentence3\"],\n",
        "            padding=\"max_length\",\n",
        "            max_length=max_length,\n",
        "            truncation=True\n",
        "        )\n",
        "        processed[\"input_ids\"] = tokenizer_input[\"input_ids\"],\n",
        "        processed[\"attention_mask\"] = tokenizer_input[\"attention_mask\"]\n",
        "\n",
        "        if mode == \"train\":\n",
        "            tokenizer_output = tokenizer(\n",
        "                examples[\"output\"],\n",
        "                padding=\"max_length\",\n",
        "                max_length=max_length,\n",
        "                truncation=True\n",
        "            )\n",
        "            processed[\"decoder_input_ids\"] = tokenizer_output[\"input_ids\"]\n",
        "            processed[\"decoder_attention_mask\"] = tokenizer_output[\"attention_mask\"]\n",
        "\n",
        "        return processed\n",
        "\n",
        "    dataset = dataset.map(\n",
        "        preprocess_function,\n",
        "        remove_columns=dataset.column_names\n",
        "    ).with_format(\"torch\")\n",
        "    dataloader = DataLoader(dataset, shuffle=(True if mode==\"train\" else False), batch_size=batch_size)\n",
        "\n",
        "    return dataloader\n"
      ],
      "metadata": {
        "id": "EQmYol-760LY"
      },
      "execution_count": 2,
      "outputs": []
    },
    {
      "cell_type": "code",
      "source": [
        "def jsonlload(fname):\n",
        "    with open(fname, \"r\", encoding=\"utf-8\") as f:\n",
        "        lines = f.read().strip().split(\"\\n\")\n",
        "        j_list = [json.loads(line) for line in lines]\n",
        "\n",
        "    return j_list\n",
        "\n",
        "\n",
        "def jsonldump(j_list, fname):\n",
        "    with open(fname, \"w\", encoding='utf-8') as f:\n",
        "        for json_data in j_list:\n",
        "            f.write(json.dumps(json_data, ensure_ascii=False)+'\\n')"
      ],
      "metadata": {
        "id": "kPiquriN7hQu"
      },
      "execution_count": 3,
      "outputs": []
    },
    {
      "cell_type": "code",
      "source": [
        "device = torch.device('cuda' if torch.cuda.is_available() else 'cpu')"
      ],
      "metadata": {
        "id": "9JwdbPsQ82Xl"
      },
      "execution_count": 4,
      "outputs": []
    },
    {
      "cell_type": "code",
      "source": [
        "dir = '/content/drive/MyDrive/'"
      ],
      "metadata": {
        "id": "0LJiczhV84eB"
      },
      "execution_count": 5,
      "outputs": []
    },
    {
      "cell_type": "code",
      "source": [
        "tokenizer = AutoTokenizer.from_pretrained(dir)\n",
        "\n",
        "dataloader = StoryDataLoader(dir+\"nikluge-sc-2023-test.jsonl\", tokenizer=tokenizer, batch_size=16, max_length=512, mode=\"infer\")\n",
        "\n",
        "model = BartForConditionalGeneration.from_pretrained(dir)\n",
        "model.to(device)"
      ],
      "metadata": {
        "colab": {
          "base_uri": "https://localhost:8080/"
        },
        "id": "cWeD4EPX-BWg",
        "outputId": "b0d76e8a-d247-474c-d797-308878fbfdbd"
      },
      "execution_count": 6,
      "outputs": [
        {
          "output_type": "stream",
          "name": "stderr",
          "text": [
            "You passed along `num_labels=3` with an incompatible id to label map: {'0': 'NEGATIVE', '1': 'POSITIVE'}. The number of labels wil be overwritten to 2.\n"
          ]
        },
        {
          "output_type": "execute_result",
          "data": {
            "text/plain": [
              "BartForConditionalGeneration(\n",
              "  (model): BartModel(\n",
              "    (shared): Embedding(30000, 768, padding_idx=3)\n",
              "    (encoder): BartEncoder(\n",
              "      (embed_tokens): Embedding(30000, 768, padding_idx=3)\n",
              "      (embed_positions): BartLearnedPositionalEmbedding(1028, 768)\n",
              "      (layers): ModuleList(\n",
              "        (0-5): 6 x BartEncoderLayer(\n",
              "          (self_attn): BartAttention(\n",
              "            (k_proj): Linear(in_features=768, out_features=768, bias=True)\n",
              "            (v_proj): Linear(in_features=768, out_features=768, bias=True)\n",
              "            (q_proj): Linear(in_features=768, out_features=768, bias=True)\n",
              "            (out_proj): Linear(in_features=768, out_features=768, bias=True)\n",
              "          )\n",
              "          (self_attn_layer_norm): LayerNorm((768,), eps=1e-05, elementwise_affine=True)\n",
              "          (activation_fn): GELUActivation()\n",
              "          (fc1): Linear(in_features=768, out_features=3072, bias=True)\n",
              "          (fc2): Linear(in_features=3072, out_features=768, bias=True)\n",
              "          (final_layer_norm): LayerNorm((768,), eps=1e-05, elementwise_affine=True)\n",
              "        )\n",
              "      )\n",
              "      (layernorm_embedding): LayerNorm((768,), eps=1e-05, elementwise_affine=True)\n",
              "    )\n",
              "    (decoder): BartDecoder(\n",
              "      (embed_tokens): Embedding(30000, 768, padding_idx=3)\n",
              "      (embed_positions): BartLearnedPositionalEmbedding(1028, 768)\n",
              "      (layers): ModuleList(\n",
              "        (0-5): 6 x BartDecoderLayer(\n",
              "          (self_attn): BartAttention(\n",
              "            (k_proj): Linear(in_features=768, out_features=768, bias=True)\n",
              "            (v_proj): Linear(in_features=768, out_features=768, bias=True)\n",
              "            (q_proj): Linear(in_features=768, out_features=768, bias=True)\n",
              "            (out_proj): Linear(in_features=768, out_features=768, bias=True)\n",
              "          )\n",
              "          (activation_fn): GELUActivation()\n",
              "          (self_attn_layer_norm): LayerNorm((768,), eps=1e-05, elementwise_affine=True)\n",
              "          (encoder_attn): BartAttention(\n",
              "            (k_proj): Linear(in_features=768, out_features=768, bias=True)\n",
              "            (v_proj): Linear(in_features=768, out_features=768, bias=True)\n",
              "            (q_proj): Linear(in_features=768, out_features=768, bias=True)\n",
              "            (out_proj): Linear(in_features=768, out_features=768, bias=True)\n",
              "          )\n",
              "          (encoder_attn_layer_norm): LayerNorm((768,), eps=1e-05, elementwise_affine=True)\n",
              "          (fc1): Linear(in_features=768, out_features=3072, bias=True)\n",
              "          (fc2): Linear(in_features=3072, out_features=768, bias=True)\n",
              "          (final_layer_norm): LayerNorm((768,), eps=1e-05, elementwise_affine=True)\n",
              "        )\n",
              "      )\n",
              "      (layernorm_embedding): LayerNorm((768,), eps=1e-05, elementwise_affine=True)\n",
              "    )\n",
              "  )\n",
              "  (lm_head): Linear(in_features=768, out_features=30000, bias=False)\n",
              ")"
            ]
          },
          "metadata": {},
          "execution_count": 6
        }
      ]
    },
    {
      "cell_type": "code",
      "source": [
        "model.eval()\n",
        "torch.set_grad_enabled(False)\n",
        "\n",
        "total_summary_tokens = []\n",
        "\n",
        "count = 0\n",
        "for batch in tqdm(dataloader):\n",
        "    if count!=0:\n",
        "      break\n",
        "\n",
        "    dialoge_input = batch[\"input_ids\"].to(device)\n",
        "    attention_mask = batch[\"attention_mask\"].to(device)\n",
        "\n",
        "    summary_tokens = model.generate(\n",
        "        dialoge_input,\n",
        "        attention_mask=attention_mask,\n",
        "        decoder_start_token_id=tokenizer.bos_token_id,\n",
        "        max_length=256,  # Set your desired value for summary_max_seq_len here\n",
        "        pad_token_id=tokenizer.pad_token_id,\n",
        "        bos_token_id=tokenizer.bos_token_id,\n",
        "        eos_token_id=tokenizer.eos_token_id,\n",
        "        num_beams=5,\n",
        "        use_cache=True,\n",
        "    )\n",
        "    total_summary_tokens.extend(summary_tokens.cpu().detach().tolist())\n",
        "\n",
        "    count+=1\n",
        "\n",
        "decoded = [tokenizer.decode(tokens, skip_special_tokens=False) for tokens in tqdm(total_summary_tokens)]\n",
        "\n",
        "j_list = jsonlload(dir+\"/nikluge-sc-2023-test.jsonl\")\n",
        "for idx, oup in enumerate(decoded):\n",
        "    j_list[idx][\"output\"] = oup\n",
        "\n",
        "jsonldump(j_list, dir+\"/nikluge-sc-2023-test-answer.jsonl\")\n"
      ],
      "metadata": {
        "colab": {
          "base_uri": "https://localhost:8080/"
        },
        "id": "jvKJMRCj7he1",
        "outputId": "95d8b4c9-b763-4a27-a929-716a85d0346a"
      },
      "execution_count": 7,
      "outputs": [
        {
          "output_type": "stream",
          "name": "stderr",
          "text": [
            "\r  0%|          | 0/939 [00:00<?, ?it/s]/usr/local/lib/python3.10/dist-packages/transformers/generation/utils.py:1417: UserWarning: You have modified the pretrained model configuration to control generation. This is a deprecated strategy to control generation and will be removed soon, in a future version. Please use a generation configuration file (see https://huggingface.co/docs/transformers/main_classes/text_generation )\n",
            "  warnings.warn(\n",
            "  0%|          | 1/939 [00:09<2:23:02,  9.15s/it]\n",
            "100%|██████████| 16/16 [00:00<00:00, 617.09it/s]\n"
          ]
        }
      ]
    },
    {
      "cell_type": "code",
      "source": [],
      "metadata": {
        "id": "laIL1oNMAJX9"
      },
      "execution_count": null,
      "outputs": []
    }
  ]
}