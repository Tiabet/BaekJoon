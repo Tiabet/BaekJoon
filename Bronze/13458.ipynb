{
 "cells": [
  {
   "cell_type": "code",
   "execution_count": 4,
   "id": "71f24e2f-7464-41c8-9fe6-e90fe1b4f930",
   "metadata": {},
   "outputs": [
    {
     "name": "stdin",
     "output_type": "stream",
     "text": [
      " 3\n"
     ]
    }
   ],
   "source": [
    "n = int(input())"
   ]
  },
  {
   "cell_type": "code",
   "execution_count": 28,
   "id": "09646165-314b-456c-8013-8dc65dcc8a33",
   "metadata": {},
   "outputs": [
    {
     "name": "stdin",
     "output_type": "stream",
     "text": [
      " 1 2 3\n"
     ]
    }
   ],
   "source": [
    "a = list(map(float, input().split(\" \")))"
   ]
  },
  {
   "cell_type": "code",
   "execution_count": 10,
   "id": "25dca430-8309-494e-b2c1-126910ccd00f",
   "metadata": {},
   "outputs": [
    {
     "name": "stdin",
     "output_type": "stream",
     "text": [
      " 2 2\n"
     ]
    }
   ],
   "source": [
    "b, c = map(int, input().split())"
   ]
  },
  {
   "cell_type": "code",
   "execution_count": 68,
   "id": "6caac379-f9cd-47af-8a15-9f100c61ed35",
   "metadata": {},
   "outputs": [],
   "source": [
    "n=8\n",
    "a=  [5, 10, 30, 235, 1, 23, 24, 101]\n",
    "b=10\n",
    "c=3"
   ]
  },
  {
   "cell_type": "code",
   "execution_count": 69,
   "id": "232ef284-db5c-41fa-91c2-da7499bd437d",
   "metadata": {},
   "outputs": [],
   "source": [
    "count = 0\n",
    "for i in range(n):\n",
    "    a[i]-=b\n",
    "    count+=1\n",
    "    if a[i]>0:\n",
    "        count+=a[i]//c\n",
    "        if a[i]%c>0:\n",
    "            count+=1"
   ]
  },
  {
   "cell_type": "code",
   "execution_count": 70,
   "id": "368e29a3-0fad-439e-a961-d2ebfac63127",
   "metadata": {},
   "outputs": [
    {
     "name": "stdout",
     "output_type": "stream",
     "text": [
      "131\n"
     ]
    }
   ],
   "source": [
    "print(count)"
   ]
  },
  {
   "cell_type": "code",
   "execution_count": null,
   "id": "4ffef21e-a512-4332-9972-40892da34c5b",
   "metadata": {},
   "outputs": [],
   "source": []
  }
 ],
 "metadata": {
  "kernelspec": {
   "display_name": "Python 3 (ipykernel)",
   "language": "python",
   "name": "python3"
  },
  "language_info": {
   "codemirror_mode": {
    "name": "ipython",
    "version": 3
   },
   "file_extension": ".py",
   "mimetype": "text/x-python",
   "name": "python",
   "nbconvert_exporter": "python",
   "pygments_lexer": "ipython3",
   "version": "3.9.13"
  }
 },
 "nbformat": 4,
 "nbformat_minor": 5
}
