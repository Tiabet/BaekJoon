{
 "cells": [
  {
   "cell_type": "code",
   "execution_count": 19,
   "id": "f50f6c4e-e892-4df1-ba38-1e99589afbd8",
   "metadata": {},
   "outputs": [
    {
     "name": "stdin",
     "output_type": "stream",
     "text": [
      " 20 39\n"
     ]
    }
   ],
   "source": [
    "n1, n2 = map(int, input().split())"
   ]
  },
  {
   "cell_type": "code",
   "execution_count": 30,
   "id": "9e31d33e-fb90-4321-a19c-1cd1d2725464",
   "metadata": {},
   "outputs": [],
   "source": [
    "n1_row = n1%4\n",
    "if n1_row == 0 :\n",
    "    n1_row = 4\n",
    "n1_col = n1//4+1\n",
    "if n1_row==4:\n",
    "    n1_col-=1"
   ]
  },
  {
   "cell_type": "code",
   "execution_count": 31,
   "id": "ae2f1974-0fd0-4ac6-951c-f125cf77bb77",
   "metadata": {},
   "outputs": [
    {
     "data": {
      "text/plain": [
       "5"
      ]
     },
     "execution_count": 31,
     "metadata": {},
     "output_type": "execute_result"
    }
   ],
   "source": [
    "n1_col"
   ]
  },
  {
   "cell_type": "code",
   "execution_count": 32,
   "id": "bcd0c7df-cff2-4a93-8b7c-9cd87c7cd8b0",
   "metadata": {},
   "outputs": [],
   "source": [
    "n2_row = n2%4\n",
    "if n2_row == 0 :\n",
    "    n2_row = 4\n",
    "n2_col = n2//4+1\n",
    "if n2_row==4:\n",
    "    n2_col-=1"
   ]
  },
  {
   "cell_type": "code",
   "execution_count": 33,
   "id": "5cf1c97f-ad31-4255-945a-3a0d54229309",
   "metadata": {},
   "outputs": [
    {
     "name": "stdout",
     "output_type": "stream",
     "text": [
      "6\n"
     ]
    }
   ],
   "source": [
    "print(abs(n1_row-n2_row) + abs(n1_col-n2_col))"
   ]
  },
  {
   "cell_type": "code",
   "execution_count": null,
   "id": "9e3765d1-c831-4891-941f-2da0f0e0cbfb",
   "metadata": {},
   "outputs": [],
   "source": []
  }
 ],
 "metadata": {
  "kernelspec": {
   "display_name": "Python 3 (ipykernel)",
   "language": "python",
   "name": "python3"
  },
  "language_info": {
   "codemirror_mode": {
    "name": "ipython",
    "version": 3
   },
   "file_extension": ".py",
   "mimetype": "text/x-python",
   "name": "python",
   "nbconvert_exporter": "python",
   "pygments_lexer": "ipython3",
   "version": "3.9.13"
  }
 },
 "nbformat": 4,
 "nbformat_minor": 5
}
