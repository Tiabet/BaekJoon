{
 "cells": [
  {
   "cell_type": "code",
   "execution_count": 18,
   "id": "c19fd469-82e0-49cc-948f-50a34ad72e14",
   "metadata": {},
   "outputs": [
    {
     "name": "stdin",
     "output_type": "stream",
     "text": [
      " #\n"
     ]
    }
   ],
   "source": [
    "while True :\n",
    "    string = input()\n",
    "    if string == \"#\" :\n",
    "        break\n",
    "    else :\n",
    "        string = string.lower()\n",
    "        count = 0\n",
    "        for i in range(len(string)):\n",
    "            if string[i] in constant :\n",
    "                count+=1\n",
    "        print(count)"
   ]
  },
  {
   "cell_type": "code",
   "execution_count": 1,
   "id": "2a5c2ab4-82ac-47dc-a01b-0ca5d0aa6f3e",
   "metadata": {},
   "outputs": [],
   "source": [
    "constant = ['a', 'e', 'i', 'o', 'u']"
   ]
  },
  {
   "cell_type": "code",
   "execution_count": 7,
   "id": "f79a3cd3-b831-4c8a-9bd1-27cd409eaf12",
   "metadata": {},
   "outputs": [
    {
     "name": "stdin",
     "output_type": "stream",
     "text": [
      " #\n"
     ]
    }
   ],
   "source": [
    "strin = input()"
   ]
  },
  {
   "cell_type": "code",
   "execution_count": 13,
   "id": "311ebbb3-a416-4e50-84ff-ab97672ba195",
   "metadata": {},
   "outputs": [
    {
     "data": {
      "text/plain": [
       "str"
      ]
     },
     "execution_count": 13,
     "metadata": {},
     "output_type": "execute_result"
    }
   ],
   "source": [
    "type('#')"
   ]
  },
  {
   "cell_type": "code",
   "execution_count": 15,
   "id": "ea24faf9-6105-4069-9f05-d1acc8d9ca8b",
   "metadata": {},
   "outputs": [
    {
     "data": {
      "text/plain": [
       "True"
      ]
     },
     "execution_count": 15,
     "metadata": {},
     "output_type": "execute_result"
    }
   ],
   "source": [
    "'#' == strin"
   ]
  },
  {
   "cell_type": "code",
   "execution_count": null,
   "id": "248b8ddd-e47d-4347-9c31-3c75d6544888",
   "metadata": {},
   "outputs": [],
   "source": []
  }
 ],
 "metadata": {
  "kernelspec": {
   "display_name": "Python 3 (ipykernel)",
   "language": "python",
   "name": "python3"
  },
  "language_info": {
   "codemirror_mode": {
    "name": "ipython",
    "version": 3
   },
   "file_extension": ".py",
   "mimetype": "text/x-python",
   "name": "python",
   "nbconvert_exporter": "python",
   "pygments_lexer": "ipython3",
   "version": "3.9.13"
  }
 },
 "nbformat": 4,
 "nbformat_minor": 5
}
